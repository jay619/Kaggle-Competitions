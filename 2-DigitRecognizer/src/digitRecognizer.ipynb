{
  "nbformat": 4,
  "nbformat_minor": 0,
  "metadata": {
    "colab": {
      "name": "digitRecognizer.ipynb",
      "provenance": [],
      "collapsed_sections": [],
      "authorship_tag": "ABX9TyNLGT7RkE/s83PsIQYFvQGC",
      "include_colab_link": true
    },
    "kernelspec": {
      "name": "python3",
      "display_name": "Python 3"
    },
    "language_info": {
      "name": "python"
    }
  },
  "cells": [
    {
      "cell_type": "markdown",
      "metadata": {
        "id": "view-in-github",
        "colab_type": "text"
      },
      "source": [
        "<a href=\"https://colab.research.google.com/github/jay619/Kaggle-Competitions/blob/dev-digit/2-DigitRecognizer/src/digitRecognizer.ipynb\" target=\"_parent\"><img src=\"https://colab.research.google.com/assets/colab-badge.svg\" alt=\"Open In Colab\"/></a>"
      ]
    },
    {
      "cell_type": "code",
      "metadata": {
        "id": "PjhTVa0Cq3yW"
      },
      "source": [
        "import numpy as np\n",
        "import pandas as pd\n",
        "import matplotlib.pyplot as plt\n",
        "import tensorflow as tf\n",
        "from tensorflow.keras import layers, models"
      ],
      "execution_count": 1,
      "outputs": []
    },
    {
      "cell_type": "markdown",
      "metadata": {
        "id": "9osBY8JJrCqr"
      },
      "source": [
        "<h3> Loading the training and testing data <h3>"
      ]
    },
    {
      "cell_type": "code",
      "metadata": {
        "id": "knpDo-8RrBcv"
      },
      "source": [
        "train = pd.read_csv('https://raw.githubusercontent.com/jay619/Kaggle-Competitions/main/2-DigitRecognizer/digit-recognizer/train.csv')\n",
        "test = pd.read_csv('https://raw.githubusercontent.com/jay619/Kaggle-Competitions/main/2-DigitRecognizer/digit-recognizer/test.csv')\n",
        "\n",
        "labels = train.iloc[:, 0]\n",
        "train = train.iloc[:, 1:].to_numpy()\n",
        "test = test.to_numpy()"
      ],
      "execution_count": 8,
      "outputs": []
    },
    {
      "cell_type": "markdown",
      "metadata": {
        "id": "acXI0fF-Fie2"
      },
      "source": [
        "<h3> About the data: </h3>\n",
        "\n",
        "* Training set consists of 42k images with 785 columns.\n",
        "* The first column is the label for the image\n",
        "* Each image is 784 pixels or 28x28\n",
        "* The testing data set contains 28k images with 784 columns\n",
        "* Problem Statement: Build a model to predict the labels of the test images\n",
        "* Each image has pixels between 0 - 255"
      ]
    },
    {
      "cell_type": "code",
      "metadata": {
        "colab": {
          "base_uri": "https://localhost:8080/"
        },
        "id": "_XWTPNDzFQkQ",
        "outputId": "1ad9ebc6-c791-4b3b-c707-1f52701f3ccb"
      },
      "source": [
        "print('Shape of train data: ', train.shape)\n",
        "print('Shape of test data: ', test.shape)"
      ],
      "execution_count": 9,
      "outputs": [
        {
          "output_type": "stream",
          "text": [
            "Shape of train data:  (42000, 784)\n",
            "Shape of test data:  (28000, 784)\n"
          ],
          "name": "stdout"
        }
      ]
    },
    {
      "cell_type": "markdown",
      "metadata": {
        "id": "jDPFoRsCrZlr"
      },
      "source": [
        "<h3> Printing some images from training set along with their labels</h3>"
      ]
    },
    {
      "cell_type": "code",
      "metadata": {
        "colab": {
          "base_uri": "https://localhost:8080/",
          "height": 589
        },
        "id": "ABw0jGXIrXxi",
        "outputId": "b620acb8-508b-40ec-d440-666ecbab3e2f"
      },
      "source": [
        "train_images = train / 255.\n",
        "test_images = test / 255.\n",
        "\n",
        "plt.figure(figsize=(10,10))\n",
        "for i in range(25):\n",
        "  x = np.reshape(train_images[i, :], (28,28))\n",
        "  plt.subplot(5,5,i+1)\n",
        "  plt.xticks([])\n",
        "  plt.yticks([])\n",
        "  plt.grid(False)\n",
        "  plt.imshow(x, cmap='gray')\n",
        "  plt.xlabel(labels[i])\n",
        "plt.show()\n",
        "\n",
        "\n",
        "train_images = train_images.reshape((-1, 28, 28, 1))\n",
        "test_images = test_images.reshape((-1, 28, 28, 1))"
      ],
      "execution_count": 10,
      "outputs": [
        {
          "output_type": "display_data",
          "data": {
            "image/png": "[encoded data removed]",
            "text/plain": [
              "<Figure size 720x720 with 25 Axes>"
            ]
          },
          "metadata": {
            "tags": []
          }
        }
      ]
    },
    {
      "cell_type": "markdown",
      "metadata": {
        "id": "ocDoatVlJBuP"
      },
      "source": [
        "<h3> Covolutional Neural Network </h3>\n",
        "\n",
        "* Using CNN to build the model and this will be used to predict the images\n",
        "* Reference the CNN tutorial on tensorflow"
      ]
    },
    {
      "cell_type": "code",
      "metadata": {
        "colab": {
          "base_uri": "https://localhost:8080/"
        },
        "id": "ULAJBWj2rjLH",
        "outputId": "87d8434a-7010-4f79-c1de-7d245ac7794c"
      },
      "source": [
        "model = models.Sequential()\n",
        "model.add(layers.Conv2D(32, (3, 3), activation='linear', input_shape=(28, 28, 1)))\n",
        "model.add(layers.MaxPooling2D((2, 2)))\n",
        "model.add(layers.Conv2D(64, (3, 3), activation='linear'))\n",
        "model.add(layers.MaxPooling2D((2, 2)))\n",
        "model.add(layers.Flatten())\n",
        "model.add(layers.Dense(32, activation='linear'))\n",
        "model.add(layers.Dense(10))\n",
        "\n",
        "model.summary()\n",
        "\n",
        "model.compile(optimizer='adam',\n",
        "              loss=tf.keras.losses.SparseCategoricalCrossentropy(from_logits=True),\n",
        "              metrics=['accuracy'])"
      ],
      "execution_count": 11,
      "outputs": [
        {
          "output_type": "stream",
          "text": [
            "Model: \"sequential\"\n",
            "_________________________________________________________________\n",
            "Layer (type)                 Output Shape              Param #   \n",
            "=================================================================\n",
            "conv2d (Conv2D)              (None, 26, 26, 32)        320       \n",
            "_________________________________________________________________\n",
            "max_pooling2d (MaxPooling2D) (None, 13, 13, 32)        0         \n",
            "_________________________________________________________________\n",
            "conv2d_1 (Conv2D)            (None, 11, 11, 64)        18496     \n",
            "_________________________________________________________________\n",
            "max_pooling2d_1 (MaxPooling2 (None, 5, 5, 64)          0         \n",
            "_________________________________________________________________\n",
            "flatten (Flatten)            (None, 1600)              0         \n",
            "_________________________________________________________________\n",
            "dense (Dense)                (None, 32)                51232     \n",
            "_________________________________________________________________\n",
            "dense_1 (Dense)              (None, 10)                330       \n",
            "=================================================================\n",
            "Total params: 70,378\n",
            "Trainable params: 70,378\n",
            "Non-trainable params: 0\n",
            "_________________________________________________________________\n"
          ],
          "name": "stdout"
        }
      ]
    },
    {
      "cell_type": "code",
      "metadata": {
        "colab": {
          "base_uri": "https://localhost:8080/"
        },
        "id": "UUDX29KhsV1l",
        "outputId": "197c9d26-80a2-4af9-83e9-c28a6ab149d3"
      },
      "source": [
        "history = model.fit(train_images, labels, epochs=5, validation_data=(train_images, labels))"
      ],
      "execution_count": 13,
      "outputs": [
        {
          "output_type": "stream",
          "text": [
            "Epoch 1/5\n",
            "1313/1313 [==============================] - 48s 36ms/step - loss: 0.1745 - accuracy: 0.9471 - val_loss: 0.0714 - val_accuracy: 0.9771\n",
            "Epoch 2/5\n",
            "1313/1313 [==============================] - 44s 34ms/step - loss: 0.0651 - accuracy: 0.9802 - val_loss: 0.0447 - val_accuracy: 0.9860\n",
            "Epoch 3/5\n",
            "1313/1313 [==============================] - 45s 34ms/step - loss: 0.0520 - accuracy: 0.9841 - val_loss: 0.0396 - val_accuracy: 0.9875\n",
            "Epoch 4/5\n",
            "1313/1313 [==============================] - 44s 34ms/step - loss: 0.0424 - accuracy: 0.9865 - val_loss: 0.0278 - val_accuracy: 0.9907\n",
            "Epoch 5/5\n",
            "1313/1313 [==============================] - 44s 33ms/step - loss: 0.0347 - accuracy: 0.9891 - val_loss: 0.0282 - val_accuracy: 0.9904\n"
          ],
          "name": "stdout"
        }
      ]
    },
    {
      "cell_type": "code",
      "metadata": {
        "id": "jEcS-t5lL-1j"
      },
      "source": [
        ""
      ],
      "execution_count": null,
      "outputs": []
    }
  ]
}