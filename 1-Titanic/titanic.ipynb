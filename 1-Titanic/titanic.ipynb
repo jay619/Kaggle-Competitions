{
  "nbformat": 4,
  "nbformat_minor": 0,
  "metadata": {
    "colab": {
      "name": "titanic.ipynb",
      "provenance": [],
      "collapsed_sections": [],
      "authorship_tag": "ABX9TyMU32w59LTLLBR4phVLbUPk",
      "include_colab_link": true
    },
    "kernelspec": {
      "name": "python3",
      "display_name": "Python 3"
    },
    "language_info": {
      "name": "python"
    }
  },
  "cells": [
    {
      "cell_type": "markdown",
      "metadata": {
        "id": "view-in-github",
        "colab_type": "text"
      },
      "source": [
        "<a href=\"https://colab.research.google.com/github/jay619/Kaggle-Competitions/blob/dev/1-Titanic/titanic.ipynb\" target=\"_parent\"><img src=\"https://colab.research.google.com/assets/colab-badge.svg\" alt=\"Open In Colab\"/></a>"
      ]
    },
    {
      "cell_type": "markdown",
      "metadata": {
        "id": "btcmpIMKt9z7"
      },
      "source": [
        "Importing the required libraries and loading the data"
      ]
    },
    {
      "cell_type": "code",
      "metadata": {
        "id": "XsFLHeQVZlMu"
      },
      "source": [
        "import pandas as pd\n",
        "import numpy as np\n",
        "import matplotlib.pyplot as plt\n",
        "import seaborn as sns\n",
        "\n",
        "\n",
        "train = pd.read_csv('https://raw.githubusercontent.com/jay619/Kaggle-Competitions/main/1-Titanic/titanic/train.csv')"
      ],
      "execution_count": 5,
      "outputs": []
    },
    {
      "cell_type": "markdown",
      "metadata": {
        "id": "Z-kNVnYYuf4W"
      },
      "source": [
        "<h3> Training Dataset </h3>\n",
        "\n",
        "<table>\n",
        "  <tr>\n",
        "  <th>Variable</th>\n",
        "  <th>Definition</th>\n",
        "  <th>Key</th>\n",
        "  </tr>\n",
        "  <tr>\n",
        "  <td>survival</td>\n",
        "  <td>Survival</td>\n",
        "  <td>0 = No, 1 = Yes</td>\n",
        "  </tr>\n",
        "  <tr>\n",
        "  <td>pclass</td>\n",
        "  <td>Ticket Class</td>\n",
        "  <td>1 = 1st, 2 = 2nd, 3 = 3rd</td>\n",
        "  </tr>\n",
        "  <tr>\n",
        "  <td>age</td>\n",
        "  <td>Age in years</td>\n",
        "  <td>-</td>\n",
        "  </tr>\n",
        "  <tr>\n",
        "  <td>sibsp</td>\n",
        "  <td># of siblings/spouses<br>aboard the Titanic</td>\n",
        "  <td>-</td>\n",
        "  </tr>\n",
        "  <tr>\n",
        "  <td>parch</td>\n",
        "  <td># of parents/children<br>aboard the Titanic</td>\n",
        "  <td>-</td>\n",
        "  </tr>\n",
        "  <tr>\n",
        "  <td>ticket</td>\n",
        "  <td>Ticket Number</td>\n",
        "  <td>-</td>\n",
        "  </tr>\n",
        "  <tr>\n",
        "  <td>fare</td>\n",
        "  <td>Passenger Fare</td>\n",
        "  <td>-</td>\n",
        "  </tr>\n",
        "  <tr>\n",
        "  <td>Cabin</td>\n",
        "  <td>Cabin Number</td>\n",
        "  <td>-</td>\n",
        "  </tr>\n",
        "  <tr>\n",
        "  <td>embarked</td>\n",
        "  <td>Port of Embarkation</td>\n",
        "  <td> C = Cherbourg, Q = Queenstown, <br> S = Southampton </td>\n",
        "  </tr>\n",
        "</table>"
      ]
    },
    {
      "cell_type": "code",
      "metadata": {
        "colab": {
          "base_uri": "https://localhost:8080/",
          "height": 265
        },
        "id": "qOT9STMqrQe4",
        "outputId": "96014f86-af72-4e45-96fe-4dabeb40cfe8"
      },
      "source": [
        "plt.figure(num=1)\n",
        "plt.hist(train.Survived, bins=2)\n",
        "plt.show()"
      ],
      "execution_count": 26,
      "outputs": [
        {
          "output_type": "display_data",
          "data": {
            "image/png": "[encoded data removed]",
            "text/plain": [
              "<Figure size 432x288 with 1 Axes>"
            ]
          },
          "metadata": {
            "tags": [],
            "needs_background": "light"
          }
        }
      ]
    },
    {
      "cell_type": "code",
      "metadata": {
        "id": "9aZicAPf25xo"
      },
      "source": [
        ""
      ],
      "execution_count": null,
      "outputs": []
    }
  ]
}