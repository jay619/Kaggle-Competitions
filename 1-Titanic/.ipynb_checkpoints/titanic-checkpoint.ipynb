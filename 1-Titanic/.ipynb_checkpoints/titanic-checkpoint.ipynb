{
 "cells": [
  {
   "cell_type": "markdown",
   "metadata": {
    "colab_type": "text",
    "id": "view-in-github"
   },
   "source": [
    "<a href=\"https://colab.research.google.com/github/jay619/Kaggle-Competitions/blob/dev/1-Titanic/titanic.ipynb\" target=\"_parent\"><img src=\"https://colab.research.google.com/assets/colab-badge.svg\" alt=\"Open In Colab\"/></a>"
   ]
  },
  {
   "cell_type": "markdown",
   "metadata": {
    "id": "btcmpIMKt9z7"
   },
   "source": [
    "<h2> Problem Statement </h2>\n",
    "\n",
    "* Build a model to answer: \"What sorts of people were more likely to sruvive"
   ]
  },
  {
   "cell_type": "markdown",
   "metadata": {},
   "source": [
    "Importing the required libraries and loading the data"
   ]
  },
  {
   "cell_type": "code",
   "execution_count": null,
   "metadata": {
    "id": "XsFLHeQVZlMu"
   },
   "outputs": [],
   "source": [
    "import pandas as pd\n",
    "import numpy as np\n",
    "import matplotlib.pyplot as plt\n",
    "import seaborn as sns\n",
    "import os\n",
    "\n",
    "train = pd.read_csv('https://raw.githubusercontent.com/jay619/Kaggle-Competitions/main/1-Titanic/titanic/train.csv')"
   ]
  },
  {
   "cell_type": "markdown",
   "metadata": {
    "id": "Z-kNVnYYuf4W"
   },
   "source": [
    "<h3> Training Dataset </h3>\n",
    "\n",
    "<table>\n",
    "  <tr>\n",
    "  <th>Variable</th>\n",
    "  <th>Definition</th>\n",
    "  <th>Key</th>\n",
    "  </tr>\n",
    "  <tr>\n",
    "  <td>survival</td>\n",
    "  <td>Survival</td>\n",
    "  <td>0 = No, 1 = Yes</td>\n",
    "  </tr>\n",
    "  <tr>\n",
    "  <td>pclass</td>\n",
    "  <td>Ticket Class</td>\n",
    "  <td>1 = 1st, 2 = 2nd, 3 = 3rd</td>\n",
    "  </tr>\n",
    "  <tr>\n",
    "  <td>age</td>\n",
    "  <td>Age in years</td>\n",
    "  <td>-</td>\n",
    "  </tr>\n",
    "  <tr>\n",
    "  <td>sibsp</td>\n",
    "  <td># of siblings/spouses<br>aboard the Titanic</td>\n",
    "  <td>-</td>\n",
    "  </tr>\n",
    "  <tr>\n",
    "  <td>parch</td>\n",
    "  <td># of parents/children<br>aboard the Titanic</td>\n",
    "  <td>-</td>\n",
    "  </tr>\n",
    "  <tr>\n",
    "  <td>ticket</td>\n",
    "  <td>Ticket Number</td>\n",
    "  <td>-</td>\n",
    "  </tr>\n",
    "  <tr>\n",
    "  <td>fare</td>\n",
    "  <td>Passenger Fare</td>\n",
    "  <td>-</td>\n",
    "  </tr>\n",
    "  <tr>\n",
    "  <td>Cabin</td>\n",
    "  <td>Cabin Number</td>\n",
    "  <td>-</td>\n",
    "  </tr>\n",
    "  <tr>\n",
    "  <td>embarked</td>\n",
    "  <td>Port of Embarkation</td>\n",
    "  <td> C = Cherbourg, Q = Queenstown, <br> S = Southampton </td>\n",
    "  </tr>\n",
    "</table>"
   ]
  },
  {
   "cell_type": "code",
   "execution_count": null,
   "metadata": {
    "colab": {
     "base_uri": "https://localhost:8080/",
     "height": 265
    },
    "id": "qOT9STMqrQe4",
    "outputId": "96014f86-af72-4e45-96fe-4dabeb40cfe8"
   },
   "outputs": [],
   "source": [
    "plt.figure(num=1)\n",
    "plt.hist(train.Survived, bins=2)\n",
    "plt.show()"
   ]
  },
  {
   "cell_type": "code",
   "execution_count": null,
   "metadata": {
    "id": "9aZicAPf25xo"
   },
   "outputs": [],
   "source": []
  }
 ],
 "metadata": {
  "colab": {
   "authorship_tag": "ABX9TyMU32w59LTLLBR4phVLbUPk",
   "collapsed_sections": [],
   "include_colab_link": true,
   "name": "titanic.ipynb",
   "provenance": []
  },
  "kernelspec": {
   "display_name": "Python 3",
   "language": "python",
   "name": "python3"
  },
  "language_info": {
   "codemirror_mode": {
    "name": "ipython",
    "version": 3
   },
   "file_extension": ".py",
   "mimetype": "text/x-python",
   "name": "python",
   "nbconvert_exporter": "python",
   "pygments_lexer": "ipython3",
   "version": "3.9.1"
  }
 },
 "nbformat": 4,
 "nbformat_minor": 1
}
