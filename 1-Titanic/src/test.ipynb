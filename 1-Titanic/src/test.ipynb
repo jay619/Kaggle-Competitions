{
 "cells": [
  {
   "cell_type": "code",
   "execution_count": 1,
   "id": "b06e55b5-ae3b-49fb-9a0f-1d1dc27f12f4",
   "metadata": {
    "pycharm": {
     "name": "#%%\n"
    }
   },
   "outputs": [],
   "source": [
    "import pandas as pd\n",
    "import numpy as np\n",
    "from bokeh.plotting import figure, show, ColumnDataSource\n",
    "from bokeh.io import output_notebook\n",
    "\n",
    "%matplotlib inline"
   ]
  },
  {
   "cell_type": "code",
   "execution_count": 2,
   "id": "fcb86ca3-b282-49bf-bcc8-b501598ee2eb",
   "metadata": {
    "pycharm": {
     "name": "#%%\n"
    }
   },
   "outputs": [],
   "source": [
    "FILE_PATH_TRAIN = 'https://raw.githubusercontent.com/jay619/Kaggle-Competitions/main/1-Titanic/titanic/train.csv'\n",
    "FILE_PATH_TEST = 'https://raw.githubusercontent.com/jay619/Kaggle-Competitions/main/1-Titanic/titanic/train.csv'"
   ]
  },
  {
   "cell_type": "code",
   "execution_count": 3,
   "id": "3787f27c-68dc-444e-aeb4-877ec5f59975",
   "metadata": {
    "pycharm": {
     "name": "#%%\n"
    }
   },
   "outputs": [],
   "source": [
    "train_data = pd.read_csv(FILE_PATH_TRAIN)\n",
    "test_data = pd.read_csv(FILE_PATH_TEST)\n",
    "train_data.columns = train_data.columns.str.lower()\n",
    "test_data.columns = test_data.columns.str.lower()"
   ]
  },
  {
   "cell_type": "code",
   "execution_count": 4,
   "id": "9f11b510-9fd7-42c2-8e49-b48c2d2641c2",
   "metadata": {
    "pycharm": {
     "name": "#%%\n"
    }
   },
   "outputs": [
    {
     "data": {
      "text/plain": "   passengerid  survived  pclass  \\\n0            1         0       3   \n1            2         1       1   \n2            3         1       3   \n3            4         1       1   \n4            5         0       3   \n\n                                                name     sex   age  sibsp  \\\n0                            Braund, Mr. Owen Harris    male  22.0      1   \n1  Cumings, Mrs. John Bradley (Florence Briggs Th...  female  38.0      1   \n2                             Heikkinen, Miss. Laina  female  26.0      0   \n3       Futrelle, Mrs. Jacques Heath (Lily May Peel)  female  35.0      1   \n4                           Allen, Mr. William Henry    male  35.0      0   \n\n   parch            ticket     fare cabin embarked  \n0      0         A/5 21171   7.2500   NaN        S  \n1      0          PC 17599  71.2833   C85        C  \n2      0  STON/O2. 3101282   7.9250   NaN        S  \n3      0            113803  53.1000  C123        S  \n4      0            373450   8.0500   NaN        S  ",
      "text/html": "<div>\n<style scoped>\n    .dataframe tbody tr th:only-of-type {\n        vertical-align: middle;\n    }\n\n    .dataframe tbody tr th {\n        vertical-align: top;\n    }\n\n    .dataframe thead th {\n        text-align: right;\n    }\n</style>\n<table border=\"1\" class=\"dataframe\">\n  <thead>\n    <tr style=\"text-align: right;\">\n      <th></th>\n      <th>passengerid</th>\n      <th>survived</th>\n      <th>pclass</th>\n      <th>name</th>\n      <th>sex</th>\n      <th>age</th>\n      <th>sibsp</th>\n      <th>parch</th>\n      <th>ticket</th>\n      <th>fare</th>\n      <th>cabin</th>\n      <th>embarked</th>\n    </tr>\n  </thead>\n  <tbody>\n    <tr>\n      <th>0</th>\n      <td>1</td>\n      <td>0</td>\n      <td>3</td>\n      <td>Braund, Mr. Owen Harris</td>\n      <td>male</td>\n      <td>22.0</td>\n      <td>1</td>\n      <td>0</td>\n      <td>A/5 21171</td>\n      <td>7.2500</td>\n      <td>NaN</td>\n      <td>S</td>\n    </tr>\n    <tr>\n      <th>1</th>\n      <td>2</td>\n      <td>1</td>\n      <td>1</td>\n      <td>Cumings, Mrs. John Bradley (Florence Briggs Th...</td>\n      <td>female</td>\n      <td>38.0</td>\n      <td>1</td>\n      <td>0</td>\n      <td>PC 17599</td>\n      <td>71.2833</td>\n      <td>C85</td>\n      <td>C</td>\n    </tr>\n    <tr>\n      <th>2</th>\n      <td>3</td>\n      <td>1</td>\n      <td>3</td>\n      <td>Heikkinen, Miss. Laina</td>\n      <td>female</td>\n      <td>26.0</td>\n      <td>0</td>\n      <td>0</td>\n      <td>STON/O2. 3101282</td>\n      <td>7.9250</td>\n      <td>NaN</td>\n      <td>S</td>\n    </tr>\n    <tr>\n      <th>3</th>\n      <td>4</td>\n      <td>1</td>\n      <td>1</td>\n      <td>Futrelle, Mrs. Jacques Heath (Lily May Peel)</td>\n      <td>female</td>\n      <td>35.0</td>\n      <td>1</td>\n      <td>0</td>\n      <td>113803</td>\n      <td>53.1000</td>\n      <td>C123</td>\n      <td>S</td>\n    </tr>\n    <tr>\n      <th>4</th>\n      <td>5</td>\n      <td>0</td>\n      <td>3</td>\n      <td>Allen, Mr. William Henry</td>\n      <td>male</td>\n      <td>35.0</td>\n      <td>0</td>\n      <td>0</td>\n      <td>373450</td>\n      <td>8.0500</td>\n      <td>NaN</td>\n      <td>S</td>\n    </tr>\n  </tbody>\n</table>\n</div>"
     },
     "execution_count": 4,
     "metadata": {},
     "output_type": "execute_result"
    }
   ],
   "source": [
    "train_data.head()"
   ]
  },
  {
   "cell_type": "code",
   "execution_count": 5,
   "id": "31f3e6d2-84a4-433d-a477-2965ede5d7ce",
   "metadata": {
    "pycharm": {
     "name": "#%%\n"
    }
   },
   "outputs": [
    {
     "data": {
      "text/plain": "   passengerid  survived  pclass  \\\n0            1         0       3   \n1            2         1       1   \n2            3         1       3   \n3            4         1       1   \n4            5         0       3   \n\n                                                name     sex   age  sibsp  \\\n0                            Braund, Mr. Owen Harris    male  22.0      1   \n1  Cumings, Mrs. John Bradley (Florence Briggs Th...  female  38.0      1   \n2                             Heikkinen, Miss. Laina  female  26.0      0   \n3       Futrelle, Mrs. Jacques Heath (Lily May Peel)  female  35.0      1   \n4                           Allen, Mr. William Henry    male  35.0      0   \n\n   parch            ticket     fare cabin embarked  \n0      0         A/5 21171   7.2500   NaN        S  \n1      0          PC 17599  71.2833   C85        C  \n2      0  STON/O2. 3101282   7.9250   NaN        S  \n3      0            113803  53.1000  C123        S  \n4      0            373450   8.0500   NaN        S  ",
      "text/html": "<div>\n<style scoped>\n    .dataframe tbody tr th:only-of-type {\n        vertical-align: middle;\n    }\n\n    .dataframe tbody tr th {\n        vertical-align: top;\n    }\n\n    .dataframe thead th {\n        text-align: right;\n    }\n</style>\n<table border=\"1\" class=\"dataframe\">\n  <thead>\n    <tr style=\"text-align: right;\">\n      <th></th>\n      <th>passengerid</th>\n      <th>survived</th>\n      <th>pclass</th>\n      <th>name</th>\n      <th>sex</th>\n      <th>age</th>\n      <th>sibsp</th>\n      <th>parch</th>\n      <th>ticket</th>\n      <th>fare</th>\n      <th>cabin</th>\n      <th>embarked</th>\n    </tr>\n  </thead>\n  <tbody>\n    <tr>\n      <th>0</th>\n      <td>1</td>\n      <td>0</td>\n      <td>3</td>\n      <td>Braund, Mr. Owen Harris</td>\n      <td>male</td>\n      <td>22.0</td>\n      <td>1</td>\n      <td>0</td>\n      <td>A/5 21171</td>\n      <td>7.2500</td>\n      <td>NaN</td>\n      <td>S</td>\n    </tr>\n    <tr>\n      <th>1</th>\n      <td>2</td>\n      <td>1</td>\n      <td>1</td>\n      <td>Cumings, Mrs. John Bradley (Florence Briggs Th...</td>\n      <td>female</td>\n      <td>38.0</td>\n      <td>1</td>\n      <td>0</td>\n      <td>PC 17599</td>\n      <td>71.2833</td>\n      <td>C85</td>\n      <td>C</td>\n    </tr>\n    <tr>\n      <th>2</th>\n      <td>3</td>\n      <td>1</td>\n      <td>3</td>\n      <td>Heikkinen, Miss. Laina</td>\n      <td>female</td>\n      <td>26.0</td>\n      <td>0</td>\n      <td>0</td>\n      <td>STON/O2. 3101282</td>\n      <td>7.9250</td>\n      <td>NaN</td>\n      <td>S</td>\n    </tr>\n    <tr>\n      <th>3</th>\n      <td>4</td>\n      <td>1</td>\n      <td>1</td>\n      <td>Futrelle, Mrs. Jacques Heath (Lily May Peel)</td>\n      <td>female</td>\n      <td>35.0</td>\n      <td>1</td>\n      <td>0</td>\n      <td>113803</td>\n      <td>53.1000</td>\n      <td>C123</td>\n      <td>S</td>\n    </tr>\n    <tr>\n      <th>4</th>\n      <td>5</td>\n      <td>0</td>\n      <td>3</td>\n      <td>Allen, Mr. William Henry</td>\n      <td>male</td>\n      <td>35.0</td>\n      <td>0</td>\n      <td>0</td>\n      <td>373450</td>\n      <td>8.0500</td>\n      <td>NaN</td>\n      <td>S</td>\n    </tr>\n  </tbody>\n</table>\n</div>"
     },
     "execution_count": 5,
     "metadata": {},
     "output_type": "execute_result"
    }
   ],
   "source": [
    "test_data.head()"
   ]
  },
  {
   "cell_type": "markdown",
   "id": "ec9ee977-36b3-4ac6-b010-d7df9420f089",
   "metadata": {
    "tags": [],
    "pycharm": {
     "name": "#%% md\n"
    }
   },
   "source": [
    "## EDA"
   ]
  },
  {
   "cell_type": "code",
   "execution_count": 6,
   "id": "579d57a2-4b49-41b0-b7f1-0d247b20f2e5",
   "metadata": {
    "pycharm": {
     "name": "#%%\n"
    }
   },
   "outputs": [],
   "source": [
    "def describe_category(data):\n",
    "    nas = data.isna().sum()\n",
    "    if nas > 0:\n",
    "        print(f\"{nas} records missing data\")\n",
    "    described = data.value_counts().to_frame(name=\"counts\").sort_index()\n",
    "    described[\"frequency\"] = data.value_counts(normalize=True).sort_index()\n",
    "    described[\"names\"] = data.value_counts().sort_index().index.tolist()\n",
    "    return described"
   ]
  },
  {
   "cell_type": "code",
   "execution_count": 7,
   "outputs": [],
   "source": [
    "def plot_bokeh_vbar(data, feature, has_numerical_categories=False):\n",
    "    described = describe_category(data[feature])\n",
    "\n",
    "    source = ColumnDataSource(data=described)\n",
    "    if has_numerical_categories:\n",
    "        p = figure(\n",
    "            title = f\"Distribution by {feature}\",\n",
    "            plot_width=400,\n",
    "            plot_height=400,\n",
    "            tooltips=[\n",
    "                (\"Value\", \"@names\"),\n",
    "                (\"counts\", \"@counts\"),\n",
    "                (\"frequency\", \"@frequency{%0.1f}\")\n",
    "            ],\n",
    "            x_axis_label=f\"{feature}\"\n",
    "        )\n",
    "    else:\n",
    "        p = figure(\n",
    "            title = f\"Distribution by {feature}\",\n",
    "            plot_width=400,\n",
    "            plot_height=400,\n",
    "            tooltips=[\n",
    "                (\"Value\", \"@names\"),\n",
    "                (\"counts\", \"@counts\"),\n",
    "                (\"frequency\", \"@frequency{%0.1f}\")\n",
    "            ],\n",
    "            x_axis_label=f\"{feature}\",\n",
    "            x_range=described[\"names\"]\n",
    "        )\n",
    "    \n",
    "    width = 1/1.5\n",
    "    p.vbar('names', top='frequency', width=width, source=source)\n",
    "    show(p)"
   ],
   "metadata": {
    "collapsed": false,
    "pycharm": {
     "name": "#%%\n"
    }
   }
  },
  {
   "cell_type": "code",
   "execution_count": 8,
   "outputs": [],
   "source": [
    "def plot_bokeh_histogram(data, feature):\n",
    "    hist, edges = np.histogram(data[feature], bins=\"fd\")\n",
    "    p = figure(\n",
    "        title = f\"Distribution for {feature}\",\n",
    "        plot_width=400,\n",
    "        plot_height=400,\n",
    "    )\n",
    "    p.quad(top=hist, bottom=0, left=edges[:-1], right=edges[1:], line_color=\"white\", line_alpha=0.9)\n",
    "    show(p)"
   ],
   "metadata": {
    "collapsed": false,
    "pycharm": {
     "name": "#%%\n"
    }
   }
  },
  {
   "cell_type": "code",
   "execution_count": 9,
   "outputs": [
    {
     "data": {
      "text/html": "\n    <div class=\"bk-root\">\n        <a href=\"https://bokeh.org\" target=\"_blank\" class=\"bk-logo bk-logo-small bk-logo-notebook\"></a>\n        <span id=\"1002\">Loading BokehJS ...</span>\n    </div>"
     },
     "metadata": {},
     "output_type": "display_data"
    },
    {
     "data": {
      "application/javascript": "\n(function(root) {\n  function now() {\n    return new Date();\n  }\n\n  const force = true;\n\n  if (typeof root._bokeh_onload_callbacks === \"undefined\" || force === true) {\n    root._bokeh_onload_callbacks = [];\n    root._bokeh_is_loading = undefined;\n  }\n\n  const JS_MIME_TYPE = 'application/javascript';\n  const HTML_MIME_TYPE = 'text/html';\n  const EXEC_MIME_TYPE = 'application/vnd.bokehjs_exec.v0+json';\n  const CLASS_NAME = 'output_bokeh rendered_html';\n\n  /**\n   * Render data to the DOM node\n   */\n  function render(props, node) {\n    const script = document.createElement(\"script\");\n    node.appendChild(script);\n  }\n\n  /**\n   * Handle when an output is cleared or removed\n   */\n  function handleClearOutput(event, handle) {\n    const cell = handle.cell;\n\n    const id = cell.output_area._bokeh_element_id;\n    const server_id = cell.output_area._bokeh_server_id;\n    // Clean up Bokeh references\n    if (id != null && id in Bokeh.index) {\n      Bokeh.index[id].model.document.clear();\n      delete Bokeh.index[id];\n    }\n\n    if (server_id !== undefined) {\n      // Clean up Bokeh references\n      const cmd_clean = \"from bokeh.io.state import curstate; print(curstate().uuid_to_server['\" + server_id + \"'].get_sessions()[0].document.roots[0]._id)\";\n      cell.notebook.kernel.execute(cmd_clean, {\n        iopub: {\n          output: function(msg) {\n            const id = msg.content.text.trim();\n            if (id in Bokeh.index) {\n              Bokeh.index[id].model.document.clear();\n              delete Bokeh.index[id];\n            }\n          }\n        }\n      });\n      // Destroy server and session\n      const cmd_destroy = \"import bokeh.io.notebook as ion; ion.destroy_server('\" + server_id + \"')\";\n      cell.notebook.kernel.execute(cmd_destroy);\n    }\n  }\n\n  /**\n   * Handle when a new output is added\n   */\n  function handleAddOutput(event, handle) {\n    const output_area = handle.output_area;\n    const output = handle.output;\n\n    // limit handleAddOutput to display_data with EXEC_MIME_TYPE content only\n    if ((output.output_type != \"display_data\") || (!Object.prototype.hasOwnProperty.call(output.data, EXEC_MIME_TYPE))) {\n      return\n    }\n\n    const toinsert = output_area.element.find(\".\" + CLASS_NAME.split(' ')[0]);\n\n    if (output.metadata[EXEC_MIME_TYPE][\"id\"] !== undefined) {\n      toinsert[toinsert.length - 1].firstChild.textContent = output.data[JS_MIME_TYPE];\n      // store reference to embed id on output_area\n      output_area._bokeh_element_id = output.metadata[EXEC_MIME_TYPE][\"id\"];\n    }\n    if (output.metadata[EXEC_MIME_TYPE][\"server_id\"] !== undefined) {\n      const bk_div = document.createElement(\"div\");\n      bk_div.innerHTML = output.data[HTML_MIME_TYPE];\n      const script_attrs = bk_div.children[0].attributes;\n      for (let i = 0; i < script_attrs.length; i++) {\n        toinsert[toinsert.length - 1].firstChild.setAttribute(script_attrs[i].name, script_attrs[i].value);\n        toinsert[toinsert.length - 1].firstChild.textContent = bk_div.children[0].textContent\n      }\n      // store reference to server id on output_area\n      output_area._bokeh_server_id = output.metadata[EXEC_MIME_TYPE][\"server_id\"];\n    }\n  }\n\n  function register_renderer(events, OutputArea) {\n\n    function append_mime(data, metadata, element) {\n      // create a DOM node to render to\n      const toinsert = this.create_output_subarea(\n        metadata,\n        CLASS_NAME,\n        EXEC_MIME_TYPE\n      );\n      this.keyboard_manager.register_events(toinsert);\n      // Render to node\n      const props = {data: data, metadata: metadata[EXEC_MIME_TYPE]};\n      render(props, toinsert[toinsert.length - 1]);\n      element.append(toinsert);\n      return toinsert\n    }\n\n    /* Handle when an output is cleared or removed */\n    events.on('clear_output.CodeCell', handleClearOutput);\n    events.on('delete.Cell', handleClearOutput);\n\n    /* Handle when a new output is added */\n    events.on('output_added.OutputArea', handleAddOutput);\n\n    /**\n     * Register the mime type and append_mime function with output_area\n     */\n    OutputArea.prototype.register_mime_type(EXEC_MIME_TYPE, append_mime, {\n      /* Is output safe? */\n      safe: true,\n      /* Index of renderer in `output_area.display_order` */\n      index: 0\n    });\n  }\n\n  // register the mime type if in Jupyter Notebook environment and previously unregistered\n  if (root.Jupyter !== undefined) {\n    const events = require('base/js/events');\n    const OutputArea = require('notebook/js/outputarea').OutputArea;\n\n    if (OutputArea.prototype.mime_types().indexOf(EXEC_MIME_TYPE) == -1) {\n      register_renderer(events, OutputArea);\n    }\n  }\n\n  \n  if (typeof (root._bokeh_timeout) === \"undefined\" || force === true) {\n    root._bokeh_timeout = Date.now() + 5000;\n    root._bokeh_failed_load = false;\n  }\n\n  const NB_LOAD_WARNING = {'data': {'text/html':\n     \"<div style='background-color: #fdd'>\\n\"+\n     \"<p>\\n\"+\n     \"BokehJS does not appear to have successfully loaded. If loading BokehJS from CDN, this \\n\"+\n     \"may be due to a slow or bad network connection. Possible fixes:\\n\"+\n     \"</p>\\n\"+\n     \"<ul>\\n\"+\n     \"<li>re-rerun `output_notebook()` to attempt to load from CDN again, or</li>\\n\"+\n     \"<li>use INLINE resources instead, as so:</li>\\n\"+\n     \"</ul>\\n\"+\n     \"<code>\\n\"+\n     \"from bokeh.resources import INLINE\\n\"+\n     \"output_notebook(resources=INLINE)\\n\"+\n     \"</code>\\n\"+\n     \"</div>\"}};\n\n  function display_loaded() {\n    const el = document.getElementById(\"1002\");\n    if (el != null) {\n      el.textContent = \"BokehJS is loading...\";\n    }\n    if (root.Bokeh !== undefined) {\n      if (el != null) {\n        el.textContent = \"BokehJS \" + root.Bokeh.version + \" successfully loaded.\";\n      }\n    } else if (Date.now() < root._bokeh_timeout) {\n      setTimeout(display_loaded, 100)\n    }\n  }\n\n\n  function run_callbacks() {\n    try {\n      root._bokeh_onload_callbacks.forEach(function(callback) {\n        if (callback != null)\n          callback();\n      });\n    } finally {\n      delete root._bokeh_onload_callbacks\n    }\n    console.debug(\"Bokeh: all callbacks have finished\");\n  }\n\n  function load_libs(css_urls, js_urls, callback) {\n    if (css_urls == null) css_urls = [];\n    if (js_urls == null) js_urls = [];\n\n    root._bokeh_onload_callbacks.push(callback);\n    if (root._bokeh_is_loading > 0) {\n      console.debug(\"Bokeh: BokehJS is being loaded, scheduling callback at\", now());\n      return null;\n    }\n    if (js_urls == null || js_urls.length === 0) {\n      run_callbacks();\n      return null;\n    }\n    console.debug(\"Bokeh: BokehJS not loaded, scheduling load and callback at\", now());\n    root._bokeh_is_loading = css_urls.length + js_urls.length;\n\n    function on_load() {\n      root._bokeh_is_loading--;\n      if (root._bokeh_is_loading === 0) {\n        console.debug(\"Bokeh: all BokehJS libraries/stylesheets loaded\");\n        run_callbacks()\n      }\n    }\n\n    function on_error(url) {\n      console.error(\"failed to load \" + url);\n    }\n\n    for (let i = 0; i < css_urls.length; i++) {\n      const url = css_urls[i];\n      const element = document.createElement(\"link\");\n      element.onload = on_load;\n      element.onerror = on_error.bind(null, url);\n      element.rel = \"stylesheet\";\n      element.type = \"text/css\";\n      element.href = url;\n      console.debug(\"Bokeh: injecting link tag for BokehJS stylesheet: \", url);\n      document.body.appendChild(element);\n    }\n\n    for (let i = 0; i < js_urls.length; i++) {\n      const url = js_urls[i];\n      const element = document.createElement('script');\n      element.onload = on_load;\n      element.onerror = on_error.bind(null, url);\n      element.async = false;\n      element.src = url;\n      console.debug(\"Bokeh: injecting script tag for BokehJS library: \", url);\n      document.head.appendChild(element);\n    }\n  };\n\n  function inject_raw_css(css) {\n    const element = document.createElement(\"style\");\n    element.appendChild(document.createTextNode(css));\n    document.body.appendChild(element);\n  }\n\n  \n  const js_urls = [\"https://cdn.bokeh.org/bokeh/release/bokeh-2.4.1.min.js\", \"https://cdn.bokeh.org/bokeh/release/bokeh-gl-2.4.1.min.js\", \"https://cdn.bokeh.org/bokeh/release/bokeh-widgets-2.4.1.min.js\", \"https://cdn.bokeh.org/bokeh/release/bokeh-tables-2.4.1.min.js\", \"https://cdn.bokeh.org/bokeh/release/bokeh-mathjax-2.4.1.min.js\"];\n  const css_urls = [];\n  \n\n  const inline_js = [\n    function(Bokeh) {\n      Bokeh.set_log_level(\"info\");\n    },\n    function(Bokeh) {\n    \n    \n    }\n  ];\n\n  function run_inline_js() {\n    \n    if (root.Bokeh !== undefined || force === true) {\n      \n    for (let i = 0; i < inline_js.length; i++) {\n      inline_js[i].call(root, root.Bokeh);\n    }\n    if (force === true) {\n        display_loaded();\n      }} else if (Date.now() < root._bokeh_timeout) {\n      setTimeout(run_inline_js, 100);\n    } else if (!root._bokeh_failed_load) {\n      console.log(\"Bokeh: BokehJS failed to load within specified timeout.\");\n      root._bokeh_failed_load = true;\n    } else if (force !== true) {\n      const cell = $(document.getElementById(\"1002\")).parents('.cell').data().cell;\n      cell.output_area.append_execute_result(NB_LOAD_WARNING)\n    }\n\n  }\n\n  if (root._bokeh_is_loading === 0) {\n    console.debug(\"Bokeh: BokehJS loaded, going straight to plotting\");\n    run_inline_js();\n  } else {\n    load_libs(css_urls, js_urls, function() {\n      console.debug(\"Bokeh: BokehJS plotting callback run at\", now());\n      run_inline_js();\n    });\n  }\n}(window));",
      "application/vnd.bokehjs_load.v0+json": "\n(function(root) {\n  function now() {\n    return new Date();\n  }\n\n  const force = true;\n\n  if (typeof root._bokeh_onload_callbacks === \"undefined\" || force === true) {\n    root._bokeh_onload_callbacks = [];\n    root._bokeh_is_loading = undefined;\n  }\n\n  \n\n  \n  if (typeof (root._bokeh_timeout) === \"undefined\" || force === true) {\n    root._bokeh_timeout = Date.now() + 5000;\n    root._bokeh_failed_load = false;\n  }\n\n  const NB_LOAD_WARNING = {'data': {'text/html':\n     \"<div style='background-color: #fdd'>\\n\"+\n     \"<p>\\n\"+\n     \"BokehJS does not appear to have successfully loaded. If loading BokehJS from CDN, this \\n\"+\n     \"may be due to a slow or bad network connection. Possible fixes:\\n\"+\n     \"</p>\\n\"+\n     \"<ul>\\n\"+\n     \"<li>re-rerun `output_notebook()` to attempt to load from CDN again, or</li>\\n\"+\n     \"<li>use INLINE resources instead, as so:</li>\\n\"+\n     \"</ul>\\n\"+\n     \"<code>\\n\"+\n     \"from bokeh.resources import INLINE\\n\"+\n     \"output_notebook(resources=INLINE)\\n\"+\n     \"</code>\\n\"+\n     \"</div>\"}};\n\n  function display_loaded() {\n    const el = document.getElementById(\"1002\");\n    if (el != null) {\n      el.textContent = \"BokehJS is loading...\";\n    }\n    if (root.Bokeh !== undefined) {\n      if (el != null) {\n        el.textContent = \"BokehJS \" + root.Bokeh.version + \" successfully loaded.\";\n      }\n    } else if (Date.now() < root._bokeh_timeout) {\n      setTimeout(display_loaded, 100)\n    }\n  }\n\n\n  function run_callbacks() {\n    try {\n      root._bokeh_onload_callbacks.forEach(function(callback) {\n        if (callback != null)\n          callback();\n      });\n    } finally {\n      delete root._bokeh_onload_callbacks\n    }\n    console.debug(\"Bokeh: all callbacks have finished\");\n  }\n\n  function load_libs(css_urls, js_urls, callback) {\n    if (css_urls == null) css_urls = [];\n    if (js_urls == null) js_urls = [];\n\n    root._bokeh_onload_callbacks.push(callback);\n    if (root._bokeh_is_loading > 0) {\n      console.debug(\"Bokeh: BokehJS is being loaded, scheduling callback at\", now());\n      return null;\n    }\n    if (js_urls == null || js_urls.length === 0) {\n      run_callbacks();\n      return null;\n    }\n    console.debug(\"Bokeh: BokehJS not loaded, scheduling load and callback at\", now());\n    root._bokeh_is_loading = css_urls.length + js_urls.length;\n\n    function on_load() {\n      root._bokeh_is_loading--;\n      if (root._bokeh_is_loading === 0) {\n        console.debug(\"Bokeh: all BokehJS libraries/stylesheets loaded\");\n        run_callbacks()\n      }\n    }\n\n    function on_error(url) {\n      console.error(\"failed to load \" + url);\n    }\n\n    for (let i = 0; i < css_urls.length; i++) {\n      const url = css_urls[i];\n      const element = document.createElement(\"link\");\n      element.onload = on_load;\n      element.onerror = on_error.bind(null, url);\n      element.rel = \"stylesheet\";\n      element.type = \"text/css\";\n      element.href = url;\n      console.debug(\"Bokeh: injecting link tag for BokehJS stylesheet: \", url);\n      document.body.appendChild(element);\n    }\n\n    for (let i = 0; i < js_urls.length; i++) {\n      const url = js_urls[i];\n      const element = document.createElement('script');\n      element.onload = on_load;\n      element.onerror = on_error.bind(null, url);\n      element.async = false;\n      element.src = url;\n      console.debug(\"Bokeh: injecting script tag for BokehJS library: \", url);\n      document.head.appendChild(element);\n    }\n  };\n\n  function inject_raw_css(css) {\n    const element = document.createElement(\"style\");\n    element.appendChild(document.createTextNode(css));\n    document.body.appendChild(element);\n  }\n\n  \n  const js_urls = [\"https://cdn.bokeh.org/bokeh/release/bokeh-2.4.1.min.js\", \"https://cdn.bokeh.org/bokeh/release/bokeh-gl-2.4.1.min.js\", \"https://cdn.bokeh.org/bokeh/release/bokeh-widgets-2.4.1.min.js\", \"https://cdn.bokeh.org/bokeh/release/bokeh-tables-2.4.1.min.js\", \"https://cdn.bokeh.org/bokeh/release/bokeh-mathjax-2.4.1.min.js\"];\n  const css_urls = [];\n  \n\n  const inline_js = [\n    function(Bokeh) {\n      Bokeh.set_log_level(\"info\");\n    },\n    function(Bokeh) {\n    \n    \n    }\n  ];\n\n  function run_inline_js() {\n    \n    if (root.Bokeh !== undefined || force === true) {\n      \n    for (let i = 0; i < inline_js.length; i++) {\n      inline_js[i].call(root, root.Bokeh);\n    }\n    if (force === true) {\n        display_loaded();\n      }} else if (Date.now() < root._bokeh_timeout) {\n      setTimeout(run_inline_js, 100);\n    } else if (!root._bokeh_failed_load) {\n      console.log(\"Bokeh: BokehJS failed to load within specified timeout.\");\n      root._bokeh_failed_load = true;\n    } else if (force !== true) {\n      const cell = $(document.getElementById(\"1002\")).parents('.cell').data().cell;\n      cell.output_area.append_execute_result(NB_LOAD_WARNING)\n    }\n\n  }\n\n  if (root._bokeh_is_loading === 0) {\n    console.debug(\"Bokeh: BokehJS loaded, going straight to plotting\");\n    run_inline_js();\n  } else {\n    load_libs(css_urls, js_urls, function() {\n      console.debug(\"Bokeh: BokehJS plotting callback run at\", now());\n      run_inline_js();\n    });\n  }\n}(window));"
     },
     "metadata": {},
     "output_type": "display_data"
    }
   ],
   "source": [
    "output_notebook()"
   ],
   "metadata": {
    "collapsed": false,
    "pycharm": {
     "name": "#%%\n"
    }
   }
  },
  {
   "cell_type": "markdown",
   "source": [
    "### Single Variable"
   ],
   "metadata": {
    "collapsed": false,
    "pycharm": {
     "name": "#%% md\n"
    }
   }
  },
  {
   "cell_type": "markdown",
   "source": [
    "#### Passenger ID"
   ],
   "metadata": {
    "collapsed": false,
    "pycharm": {
     "name": "#%% md\n"
    }
   }
  },
  {
   "cell_type": "markdown",
   "source": [
    "Passenger ID doesn't provide any useful insights into the data, so we'll skip this column"
   ],
   "metadata": {
    "collapsed": false,
    "pycharm": {
     "name": "#%% md\n"
    }
   }
  },
  {
   "cell_type": "markdown",
   "source": [
    "#### PClass"
   ],
   "metadata": {
    "collapsed": false,
    "pycharm": {
     "name": "#%% md\n"
    }
   }
  },
  {
   "cell_type": "markdown",
   "source": [
    "Represents passengers ticket class. We have 3 classes; 1st class, 2nd class and 3rd class. Ticket class also represents the socio-economic class. `1st` = Upper class, `2nd` = middle class and `3rd` = lower class"
   ],
   "metadata": {
    "collapsed": false,
    "pycharm": {
     "name": "#%% md\n"
    }
   }
  },
  {
   "cell_type": "code",
   "execution_count": 33,
   "outputs": [
    {
     "data": {
      "text/plain": "   counts  frequency  names\n1     216   0.242424      1\n2     184   0.206510      2\n3     491   0.551066      3",
      "text/html": "<div>\n<style scoped>\n    .dataframe tbody tr th:only-of-type {\n        vertical-align: middle;\n    }\n\n    .dataframe tbody tr th {\n        vertical-align: top;\n    }\n\n    .dataframe thead th {\n        text-align: right;\n    }\n</style>\n<table border=\"1\" class=\"dataframe\">\n  <thead>\n    <tr style=\"text-align: right;\">\n      <th></th>\n      <th>counts</th>\n      <th>frequency</th>\n      <th>names</th>\n    </tr>\n  </thead>\n  <tbody>\n    <tr>\n      <th>1</th>\n      <td>216</td>\n      <td>0.242424</td>\n      <td>1</td>\n    </tr>\n    <tr>\n      <th>2</th>\n      <td>184</td>\n      <td>0.206510</td>\n      <td>2</td>\n    </tr>\n    <tr>\n      <th>3</th>\n      <td>491</td>\n      <td>0.551066</td>\n      <td>3</td>\n    </tr>\n  </tbody>\n</table>\n</div>"
     },
     "execution_count": 33,
     "metadata": {},
     "output_type": "execute_result"
    }
   ],
   "source": [
    "described = describe_category(train_data[\"pclass\"])\n",
    "described"
   ],
   "metadata": {
    "collapsed": false,
    "pycharm": {
     "name": "#%%\n"
    }
   }
  },
  {
   "cell_type": "code",
   "execution_count": 42,
   "outputs": [
    {
     "data": {
      "text/html": "\n\n\n\n\n\n  <div class=\"bk-root\" id=\"b8f020c5-53c5-4dff-97a9-28c7ccc7167d\" data-root-id=\"2880\"></div>\n"
     },
     "metadata": {},
     "output_type": "display_data"
    },
    {
     "data": {
      "application/javascript": "(function(root) {\n  function embed_document(root) {\n    \n  const docs_json = {\"61be7427-a90d-49bb-bbbe-ffb3ae59b65f\":{\"defs\":[],\"roots\":{\"references\":[{\"attributes\":{\"background_fill_color\":\"#20262B\",\"below\":[{\"id\":\"2891\"}],\"border_fill_color\":\"#15191C\",\"center\":[{\"id\":\"2894\"},{\"id\":\"2898\"}],\"height\":400,\"left\":[{\"id\":\"2895\"}],\"outline_line_alpha\":0.25,\"outline_line_color\":\"#E0E0E0\",\"renderers\":[{\"id\":\"2919\"}],\"title\":{\"id\":\"2881\"},\"toolbar\":{\"id\":\"2907\"},\"width\":400,\"x_range\":{\"id\":\"2883\"},\"x_scale\":{\"id\":\"2887\"},\"y_range\":{\"id\":\"2885\"},\"y_scale\":{\"id\":\"2889\"}},\"id\":\"2880\",\"subtype\":\"Figure\",\"type\":\"Plot\"},{\"attributes\":{},\"id\":\"2883\",\"type\":\"DataRange1d\"},{\"attributes\":{},\"id\":\"3049\",\"type\":\"Selection\"},{\"attributes\":{},\"id\":\"2887\",\"type\":\"LinearScale\"},{\"attributes\":{\"source\":{\"id\":\"2879\"}},\"id\":\"2920\",\"type\":\"CDSView\"},{\"attributes\":{},\"id\":\"2889\",\"type\":\"LinearScale\"},{\"attributes\":{\"coordinates\":null,\"data_source\":{\"id\":\"2879\"},\"glyph\":{\"id\":\"2916\"},\"group\":null,\"hover_glyph\":null,\"muted_glyph\":{\"id\":\"2918\"},\"nonselection_glyph\":{\"id\":\"2917\"},\"view\":{\"id\":\"2920\"}},\"id\":\"2919\",\"type\":\"GlyphRenderer\"},{\"attributes\":{},\"id\":\"2900\",\"type\":\"WheelZoomTool\"},{\"attributes\":{\"callback\":null,\"tooltips\":[[\"Value\",\"@names\"],[\"counts\",\"@counts\"],[\"frequency\",\"@frequency{%0.1f}\"]]},\"id\":\"2906\",\"type\":\"HoverTool\"},{\"attributes\":{\"data\":{\"counts\":[216,184,491],\"frequency\":{\"__ndarray__\":\"CB988MEHzz+C9PeT527KPx774p5VouE/\",\"dtype\":\"float64\",\"order\":\"little\",\"shape\":[3]},\"index\":[1,2,3],\"names\":[1,2,3]},\"selected\":{\"id\":\"3049\"},\"selection_policy\":{\"id\":\"3048\"}},\"id\":\"2879\",\"type\":\"ColumnDataSource\"},{\"attributes\":{\"bottom_units\":\"screen\",\"coordinates\":null,\"fill_alpha\":0.5,\"fill_color\":\"lightgrey\",\"group\":null,\"left_units\":\"screen\",\"level\":\"overlay\",\"line_alpha\":1.0,\"line_color\":\"black\",\"line_dash\":[4,4],\"line_width\":2,\"right_units\":\"screen\",\"syncable\":false,\"top_units\":\"screen\"},\"id\":\"2905\",\"type\":\"BoxAnnotation\"},{\"attributes\":{\"fill_alpha\":{\"value\":0.2},\"fill_color\":{\"value\":\"#1f77b4\"},\"hatch_alpha\":{\"value\":0.2},\"line_alpha\":{\"value\":0.2},\"line_color\":{\"value\":\"#1f77b4\"},\"top\":{\"field\":\"frequency\"},\"width\":{\"value\":0.6666666666666666},\"x\":{\"field\":\"names\"}},\"id\":\"2918\",\"type\":\"VBar\"},{\"attributes\":{},\"id\":\"2902\",\"type\":\"SaveTool\"},{\"attributes\":{\"fill_color\":{\"value\":\"#1f77b4\"},\"line_color\":{\"value\":\"#1f77b4\"},\"top\":{\"field\":\"frequency\"},\"width\":{\"value\":0.6666666666666666},\"x\":{\"field\":\"names\"}},\"id\":\"2916\",\"type\":\"VBar\"},{\"attributes\":{},\"id\":\"3043\",\"type\":\"BasicTickFormatter\"},{\"attributes\":{\"fill_alpha\":{\"value\":0.1},\"fill_color\":{\"value\":\"#1f77b4\"},\"hatch_alpha\":{\"value\":0.1},\"line_alpha\":{\"value\":0.1},\"line_color\":{\"value\":\"#1f77b4\"},\"top\":{\"field\":\"frequency\"},\"width\":{\"value\":0.6666666666666666},\"x\":{\"field\":\"names\"}},\"id\":\"2917\",\"type\":\"VBar\"},{\"attributes\":{},\"id\":\"3048\",\"type\":\"UnionRenderers\"},{\"attributes\":{},\"id\":\"2892\",\"type\":\"BasicTicker\"},{\"attributes\":{},\"id\":\"2903\",\"type\":\"ResetTool\"},{\"attributes\":{},\"id\":\"3044\",\"type\":\"AllLabels\"},{\"attributes\":{\"axis\":{\"id\":\"2891\"},\"coordinates\":null,\"grid_line_alpha\":0.25,\"grid_line_color\":\"#E0E0E0\",\"group\":null,\"ticker\":null},\"id\":\"2894\",\"type\":\"Grid\"},{\"attributes\":{},\"id\":\"2899\",\"type\":\"PanTool\"},{\"attributes\":{},\"id\":\"3046\",\"type\":\"BasicTickFormatter\"},{\"attributes\":{\"overlay\":{\"id\":\"2905\"}},\"id\":\"2901\",\"type\":\"BoxZoomTool\"},{\"attributes\":{},\"id\":\"3047\",\"type\":\"AllLabels\"},{\"attributes\":{\"axis_label_standoff\":10,\"axis_label_text_color\":\"#E0E0E0\",\"axis_label_text_font\":\"Helvetica\",\"axis_label_text_font_size\":\"1.25em\",\"axis_label_text_font_style\":\"normal\",\"axis_line_alpha\":0,\"axis_line_color\":\"#E0E0E0\",\"coordinates\":null,\"formatter\":{\"id\":\"3043\"},\"group\":null,\"major_label_policy\":{\"id\":\"3044\"},\"major_label_text_color\":\"#E0E0E0\",\"major_label_text_font\":\"Helvetica\",\"major_label_text_font_size\":\"1.025em\",\"major_tick_line_alpha\":0,\"major_tick_line_color\":\"#E0E0E0\",\"minor_tick_line_alpha\":0,\"minor_tick_line_color\":\"#E0E0E0\",\"ticker\":{\"id\":\"2896\"}},\"id\":\"2895\",\"type\":\"LinearAxis\"},{\"attributes\":{},\"id\":\"2904\",\"type\":\"HelpTool\"},{\"attributes\":{\"axis\":{\"id\":\"2895\"},\"coordinates\":null,\"dimension\":1,\"grid_line_alpha\":0.25,\"grid_line_color\":\"#E0E0E0\",\"group\":null,\"ticker\":null},\"id\":\"2898\",\"type\":\"Grid\"},{\"attributes\":{},\"id\":\"2896\",\"type\":\"BasicTicker\"},{\"attributes\":{\"axis_label\":\"pclass\",\"axis_label_standoff\":10,\"axis_label_text_color\":\"#E0E0E0\",\"axis_label_text_font\":\"Helvetica\",\"axis_label_text_font_size\":\"1.25em\",\"axis_label_text_font_style\":\"normal\",\"axis_line_alpha\":0,\"axis_line_color\":\"#E0E0E0\",\"coordinates\":null,\"formatter\":{\"id\":\"3046\"},\"group\":null,\"major_label_policy\":{\"id\":\"3047\"},\"major_label_text_color\":\"#E0E0E0\",\"major_label_text_font\":\"Helvetica\",\"major_label_text_font_size\":\"1.025em\",\"major_tick_line_alpha\":0,\"major_tick_line_color\":\"#E0E0E0\",\"minor_tick_line_alpha\":0,\"minor_tick_line_color\":\"#E0E0E0\",\"ticker\":{\"id\":\"2892\"}},\"id\":\"2891\",\"type\":\"LinearAxis\"},{\"attributes\":{\"tools\":[{\"id\":\"2899\"},{\"id\":\"2900\"},{\"id\":\"2901\"},{\"id\":\"2902\"},{\"id\":\"2903\"},{\"id\":\"2904\"},{\"id\":\"2906\"}]},\"id\":\"2907\",\"type\":\"Toolbar\"},{\"attributes\":{},\"id\":\"2885\",\"type\":\"DataRange1d\"},{\"attributes\":{\"coordinates\":null,\"group\":null,\"text\":\"Distribution by pclass\",\"text_color\":\"#E0E0E0\",\"text_font\":\"Helvetica\",\"text_font_size\":\"1.15em\"},\"id\":\"2881\",\"type\":\"Title\"}],\"root_ids\":[\"2880\"]},\"title\":\"Bokeh Application\",\"version\":\"2.4.1\"}};\n  const render_items = [{\"docid\":\"61be7427-a90d-49bb-bbbe-ffb3ae59b65f\",\"root_ids\":[\"2880\"],\"roots\":{\"2880\":\"b8f020c5-53c5-4dff-97a9-28c7ccc7167d\"}}];\n  root.Bokeh.embed.embed_items_notebook(docs_json, render_items);\n\n  }\n  if (root.Bokeh !== undefined) {\n    embed_document(root);\n  } else {\n    let attempts = 0;\n    const timer = setInterval(function(root) {\n      if (root.Bokeh !== undefined) {\n        clearInterval(timer);\n        embed_document(root);\n      } else {\n        attempts++;\n        if (attempts > 100) {\n          clearInterval(timer);\n          console.log(\"Bokeh: ERROR: Unable to run BokehJS code because BokehJS library is missing\");\n        }\n      }\n    }, 10, root)\n  }\n})(window);",
      "application/vnd.bokehjs_exec.v0+json": ""
     },
     "metadata": {
      "application/vnd.bokehjs_exec.v0+json": {
       "id": "2880"
      }
     },
     "output_type": "display_data"
    }
   ],
   "source": [
    "plot_bokeh_vbar(train_data, \"pclass\", True)"
   ],
   "metadata": {
    "collapsed": false,
    "pycharm": {
     "name": "#%%\n"
    }
   }
  },
  {
   "cell_type": "markdown",
   "source": [
    "#### name"
   ],
   "metadata": {
    "collapsed": false,
    "pycharm": {
     "name": "#%% md\n"
    }
   }
  },
  {
   "cell_type": "markdown",
   "source": [
    "`name` does not provide a lot of insights in the data. Passenger name is unique for each passenger"
   ],
   "metadata": {
    "collapsed": false,
    "pycharm": {
     "name": "#%% md\n"
    }
   }
  },
  {
   "cell_type": "markdown",
   "source": [
    "#### Sex"
   ],
   "metadata": {
    "collapsed": false,
    "pycharm": {
     "name": "#%% md\n"
    }
   }
  },
  {
   "cell_type": "code",
   "execution_count": 12,
   "outputs": [
    {
     "data": {
      "text/plain": "        counts  frequency   names\nfemale     314   0.352413  female\nmale       577   0.647587    male",
      "text/html": "<div>\n<style scoped>\n    .dataframe tbody tr th:only-of-type {\n        vertical-align: middle;\n    }\n\n    .dataframe tbody tr th {\n        vertical-align: top;\n    }\n\n    .dataframe thead th {\n        text-align: right;\n    }\n</style>\n<table border=\"1\" class=\"dataframe\">\n  <thead>\n    <tr style=\"text-align: right;\">\n      <th></th>\n      <th>counts</th>\n      <th>frequency</th>\n      <th>names</th>\n    </tr>\n  </thead>\n  <tbody>\n    <tr>\n      <th>female</th>\n      <td>314</td>\n      <td>0.352413</td>\n      <td>female</td>\n    </tr>\n    <tr>\n      <th>male</th>\n      <td>577</td>\n      <td>0.647587</td>\n      <td>male</td>\n    </tr>\n  </tbody>\n</table>\n</div>"
     },
     "execution_count": 12,
     "metadata": {},
     "output_type": "execute_result"
    }
   ],
   "source": [
    "described = describe_category(train_data[\"sex\"])\n",
    "described"
   ],
   "metadata": {
    "collapsed": false,
    "pycharm": {
     "name": "#%%\n"
    }
   }
  },
  {
   "cell_type": "code",
   "execution_count": 13,
   "outputs": [
    {
     "data": {
      "text/html": "\n\n\n\n\n\n  <div class=\"bk-root\" id=\"fa134325-4b82-4592-957e-99e500026cf0\" data-root-id=\"1106\"></div>\n"
     },
     "metadata": {},
     "output_type": "display_data"
    },
    {
     "data": {
      "application/javascript": "(function(root) {\n  function embed_document(root) {\n    \n  const docs_json = {\"ef05c99e-6ebb-408d-ace2-61ea5e354064\":{\"defs\":[],\"roots\":{\"references\":[{\"attributes\":{\"background_fill_color\":\"#20262B\",\"below\":[{\"id\":\"1117\"}],\"border_fill_color\":\"#15191C\",\"center\":[{\"id\":\"1119\"},{\"id\":\"1123\"}],\"height\":400,\"left\":[{\"id\":\"1120\"}],\"outline_line_alpha\":0.25,\"outline_line_color\":\"#E0E0E0\",\"renderers\":[{\"id\":\"1144\"}],\"title\":{\"id\":\"1107\"},\"toolbar\":{\"id\":\"1132\"},\"width\":400,\"x_range\":{\"id\":\"1109\"},\"x_scale\":{\"id\":\"1113\"},\"y_range\":{\"id\":\"1111\"},\"y_scale\":{\"id\":\"1115\"}},\"id\":\"1106\",\"subtype\":\"Figure\",\"type\":\"Plot\"},{\"attributes\":{},\"id\":\"1127\",\"type\":\"SaveTool\"},{\"attributes\":{},\"id\":\"1164\",\"type\":\"Selection\"},{\"attributes\":{},\"id\":\"1118\",\"type\":\"CategoricalTicker\"},{\"attributes\":{\"fill_alpha\":{\"value\":0.1},\"fill_color\":{\"value\":\"#1f77b4\"},\"hatch_alpha\":{\"value\":0.1},\"line_alpha\":{\"value\":0.1},\"line_color\":{\"value\":\"#1f77b4\"},\"top\":{\"field\":\"frequency\"},\"width\":{\"value\":0.6666666666666666},\"x\":{\"field\":\"names\"}},\"id\":\"1142\",\"type\":\"VBar\"},{\"attributes\":{},\"id\":\"1111\",\"type\":\"DataRange1d\"},{\"attributes\":{\"bottom_units\":\"screen\",\"coordinates\":null,\"fill_alpha\":0.5,\"fill_color\":\"lightgrey\",\"group\":null,\"left_units\":\"screen\",\"level\":\"overlay\",\"line_alpha\":1.0,\"line_color\":\"black\",\"line_dash\":[4,4],\"line_width\":2,\"right_units\":\"screen\",\"syncable\":false,\"top_units\":\"screen\"},\"id\":\"1130\",\"type\":\"BoxAnnotation\"},{\"attributes\":{\"tools\":[{\"id\":\"1124\"},{\"id\":\"1125\"},{\"id\":\"1126\"},{\"id\":\"1127\"},{\"id\":\"1128\"},{\"id\":\"1129\"},{\"id\":\"1131\"}]},\"id\":\"1132\",\"type\":\"Toolbar\"},{\"attributes\":{\"data\":{\"counts\":[314,577],\"frequency\":{\"__ndarray__\":\"oXDoVe+N1j+wxwtVCLnkPw==\",\"dtype\":\"float64\",\"order\":\"little\",\"shape\":[2]},\"index\":[\"female\",\"male\"],\"names\":[\"female\",\"male\"]},\"selected\":{\"id\":\"1164\"},\"selection_policy\":{\"id\":\"1163\"}},\"id\":\"1105\",\"type\":\"ColumnDataSource\"},{\"attributes\":{\"fill_alpha\":{\"value\":0.2},\"fill_color\":{\"value\":\"#1f77b4\"},\"hatch_alpha\":{\"value\":0.2},\"line_alpha\":{\"value\":0.2},\"line_color\":{\"value\":\"#1f77b4\"},\"top\":{\"field\":\"frequency\"},\"width\":{\"value\":0.6666666666666666},\"x\":{\"field\":\"names\"}},\"id\":\"1143\",\"type\":\"VBar\"},{\"attributes\":{},\"id\":\"1158\",\"type\":\"BasicTickFormatter\"},{\"attributes\":{\"coordinates\":null,\"group\":null,\"text\":\"Distribution by sex\",\"text_color\":\"#E0E0E0\",\"text_font\":\"Helvetica\",\"text_font_size\":\"1.15em\"},\"id\":\"1107\",\"type\":\"Title\"},{\"attributes\":{},\"id\":\"1159\",\"type\":\"AllLabels\"},{\"attributes\":{\"factors\":[\"female\",\"male\"]},\"id\":\"1109\",\"type\":\"FactorRange\"},{\"attributes\":{},\"id\":\"1115\",\"type\":\"LinearScale\"},{\"attributes\":{},\"id\":\"1161\",\"type\":\"CategoricalTickFormatter\"},{\"attributes\":{\"callback\":null,\"tooltips\":[[\"Value\",\"@names\"],[\"counts\",\"@counts\"],[\"frequency\",\"@frequency{%0.1f}\"]]},\"id\":\"1131\",\"type\":\"HoverTool\"},{\"attributes\":{},\"id\":\"1113\",\"type\":\"CategoricalScale\"},{\"attributes\":{},\"id\":\"1162\",\"type\":\"AllLabels\"},{\"attributes\":{\"axis\":{\"id\":\"1117\"},\"coordinates\":null,\"grid_line_alpha\":0.25,\"grid_line_color\":\"#E0E0E0\",\"group\":null,\"ticker\":null},\"id\":\"1119\",\"type\":\"Grid\"},{\"attributes\":{\"coordinates\":null,\"data_source\":{\"id\":\"1105\"},\"glyph\":{\"id\":\"1141\"},\"group\":null,\"hover_glyph\":null,\"muted_glyph\":{\"id\":\"1143\"},\"nonselection_glyph\":{\"id\":\"1142\"},\"view\":{\"id\":\"1145\"}},\"id\":\"1144\",\"type\":\"GlyphRenderer\"},{\"attributes\":{\"axis\":{\"id\":\"1120\"},\"coordinates\":null,\"dimension\":1,\"grid_line_alpha\":0.25,\"grid_line_color\":\"#E0E0E0\",\"group\":null,\"ticker\":null},\"id\":\"1123\",\"type\":\"Grid\"},{\"attributes\":{\"source\":{\"id\":\"1105\"}},\"id\":\"1145\",\"type\":\"CDSView\"},{\"attributes\":{\"axis_label_standoff\":10,\"axis_label_text_color\":\"#E0E0E0\",\"axis_label_text_font\":\"Helvetica\",\"axis_label_text_font_size\":\"1.25em\",\"axis_label_text_font_style\":\"normal\",\"axis_line_alpha\":0,\"axis_line_color\":\"#E0E0E0\",\"coordinates\":null,\"formatter\":{\"id\":\"1158\"},\"group\":null,\"major_label_policy\":{\"id\":\"1159\"},\"major_label_text_color\":\"#E0E0E0\",\"major_label_text_font\":\"Helvetica\",\"major_label_text_font_size\":\"1.025em\",\"major_tick_line_alpha\":0,\"major_tick_line_color\":\"#E0E0E0\",\"minor_tick_line_alpha\":0,\"minor_tick_line_color\":\"#E0E0E0\",\"ticker\":{\"id\":\"1121\"}},\"id\":\"1120\",\"type\":\"LinearAxis\"},{\"attributes\":{\"axis_label\":\"sex\",\"axis_label_standoff\":10,\"axis_label_text_color\":\"#E0E0E0\",\"axis_label_text_font\":\"Helvetica\",\"axis_label_text_font_size\":\"1.25em\",\"axis_label_text_font_style\":\"normal\",\"axis_line_alpha\":0,\"axis_line_color\":\"#E0E0E0\",\"coordinates\":null,\"formatter\":{\"id\":\"1161\"},\"group\":null,\"major_label_policy\":{\"id\":\"1162\"},\"major_label_text_color\":\"#E0E0E0\",\"major_label_text_font\":\"Helvetica\",\"major_label_text_font_size\":\"1.025em\",\"major_tick_line_alpha\":0,\"major_tick_line_color\":\"#E0E0E0\",\"minor_tick_line_alpha\":0,\"minor_tick_line_color\":\"#E0E0E0\",\"ticker\":{\"id\":\"1118\"}},\"id\":\"1117\",\"type\":\"CategoricalAxis\"},{\"attributes\":{},\"id\":\"1129\",\"type\":\"HelpTool\"},{\"attributes\":{\"fill_color\":{\"value\":\"#1f77b4\"},\"line_color\":{\"value\":\"#1f77b4\"},\"top\":{\"field\":\"frequency\"},\"width\":{\"value\":0.6666666666666666},\"x\":{\"field\":\"names\"}},\"id\":\"1141\",\"type\":\"VBar\"},{\"attributes\":{},\"id\":\"1121\",\"type\":\"BasicTicker\"},{\"attributes\":{},\"id\":\"1125\",\"type\":\"WheelZoomTool\"},{\"attributes\":{},\"id\":\"1124\",\"type\":\"PanTool\"},{\"attributes\":{},\"id\":\"1163\",\"type\":\"UnionRenderers\"},{\"attributes\":{\"overlay\":{\"id\":\"1130\"}},\"id\":\"1126\",\"type\":\"BoxZoomTool\"},{\"attributes\":{},\"id\":\"1128\",\"type\":\"ResetTool\"}],\"root_ids\":[\"1106\"]},\"title\":\"Bokeh Application\",\"version\":\"2.4.1\"}};\n  const render_items = [{\"docid\":\"ef05c99e-6ebb-408d-ace2-61ea5e354064\",\"root_ids\":[\"1106\"],\"roots\":{\"1106\":\"fa134325-4b82-4592-957e-99e500026cf0\"}}];\n  root.Bokeh.embed.embed_items_notebook(docs_json, render_items);\n\n  }\n  if (root.Bokeh !== undefined) {\n    embed_document(root);\n  } else {\n    let attempts = 0;\n    const timer = setInterval(function(root) {\n      if (root.Bokeh !== undefined) {\n        clearInterval(timer);\n        embed_document(root);\n      } else {\n        attempts++;\n        if (attempts > 100) {\n          clearInterval(timer);\n          console.log(\"Bokeh: ERROR: Unable to run BokehJS code because BokehJS library is missing\");\n        }\n      }\n    }, 10, root)\n  }\n})(window);",
      "application/vnd.bokehjs_exec.v0+json": ""
     },
     "metadata": {
      "application/vnd.bokehjs_exec.v0+json": {
       "id": "1106"
      }
     },
     "output_type": "display_data"
    }
   ],
   "source": [
    "plot_bokeh_vbar(train_data, \"sex\", False)"
   ],
   "metadata": {
    "collapsed": false,
    "pycharm": {
     "name": "#%%\n"
    }
   }
  },
  {
   "cell_type": "markdown",
   "source": [
    "#### Age"
   ],
   "metadata": {
    "collapsed": false,
    "pycharm": {
     "name": "#%% md\n"
    }
   }
  },
  {
   "cell_type": "code",
   "execution_count": 36,
   "outputs": [
    {
     "data": {
      "text/plain": "177"
     },
     "execution_count": 36,
     "metadata": {},
     "output_type": "execute_result"
    }
   ],
   "source": [
    "train_data[\"age\"].isna().sum()"
   ],
   "metadata": {
    "collapsed": false,
    "pycharm": {
     "name": "#%%\n"
    }
   }
  },
  {
   "cell_type": "markdown",
   "source": [
    "There are 177 passengers for whom we don't have an age. We can either exclude these records while creating a model or we impute these records with either the mean, median or some other way."
   ],
   "metadata": {
    "collapsed": false,
    "pycharm": {
     "name": "#%% md\n"
    }
   }
  },
  {
   "cell_type": "code",
   "execution_count": 14,
   "outputs": [
    {
     "data": {
      "text/plain": "count    714.000000\nmean      29.699118\nstd       14.526497\nmin        0.420000\n25%       20.125000\n50%       28.000000\n75%       38.000000\nmax       80.000000\nName: age, dtype: float64"
     },
     "execution_count": 14,
     "metadata": {},
     "output_type": "execute_result"
    }
   ],
   "source": [
    "train_data[\"age\"].describe()"
   ],
   "metadata": {
    "collapsed": false,
    "pycharm": {
     "name": "#%%\n"
    }
   }
  },
  {
   "cell_type": "markdown",
   "source": [
    "The average age of the passenger was about 30 yrs nad a median age at 28 yrs. The youngest passenger was 0.42 yrs (does not make sense for the years to be in decimal. Does it mean 42 months?). The oldest passenger was 80 yrs old."
   ],
   "metadata": {
    "collapsed": false,
    "pycharm": {
     "name": "#%% md\n"
    }
   }
  },
  {
   "cell_type": "code",
   "execution_count": 34,
   "outputs": [
    {
     "data": {
      "text/plain": "     passengerid  survived  pclass                             name     sex  \\\n78            79         1       2    Caldwell, Master. Alden Gates    male   \n305          306         1       1   Allison, Master. Hudson Trevor    male   \n469          470         1       3    Baclini, Miss. Helene Barbara  female   \n644          645         1       3           Baclini, Miss. Eugenie  female   \n755          756         1       2        Hamalainen, Master. Viljo    male   \n803          804         1       3  Thomas, Master. Assad Alexander    male   \n831          832         1       2  Richards, Master. George Sibley    male   \n\n      age  sibsp  parch  ticket      fare    cabin embarked  \n78   0.83      0      2  248738   29.0000      NaN        S  \n305  0.92      1      2  113781  151.5500  C22 C26        S  \n469  0.75      2      1    2666   19.2583      NaN        C  \n644  0.75      2      1    2666   19.2583      NaN        C  \n755  0.67      1      1  250649   14.5000      NaN        S  \n803  0.42      0      1    2625    8.5167      NaN        C  \n831  0.83      1      1   29106   18.7500      NaN        S  ",
      "text/html": "<div>\n<style scoped>\n    .dataframe tbody tr th:only-of-type {\n        vertical-align: middle;\n    }\n\n    .dataframe tbody tr th {\n        vertical-align: top;\n    }\n\n    .dataframe thead th {\n        text-align: right;\n    }\n</style>\n<table border=\"1\" class=\"dataframe\">\n  <thead>\n    <tr style=\"text-align: right;\">\n      <th></th>\n      <th>passengerid</th>\n      <th>survived</th>\n      <th>pclass</th>\n      <th>name</th>\n      <th>sex</th>\n      <th>age</th>\n      <th>sibsp</th>\n      <th>parch</th>\n      <th>ticket</th>\n      <th>fare</th>\n      <th>cabin</th>\n      <th>embarked</th>\n    </tr>\n  </thead>\n  <tbody>\n    <tr>\n      <th>78</th>\n      <td>79</td>\n      <td>1</td>\n      <td>2</td>\n      <td>Caldwell, Master. Alden Gates</td>\n      <td>male</td>\n      <td>0.83</td>\n      <td>0</td>\n      <td>2</td>\n      <td>248738</td>\n      <td>29.0000</td>\n      <td>NaN</td>\n      <td>S</td>\n    </tr>\n    <tr>\n      <th>305</th>\n      <td>306</td>\n      <td>1</td>\n      <td>1</td>\n      <td>Allison, Master. Hudson Trevor</td>\n      <td>male</td>\n      <td>0.92</td>\n      <td>1</td>\n      <td>2</td>\n      <td>113781</td>\n      <td>151.5500</td>\n      <td>C22 C26</td>\n      <td>S</td>\n    </tr>\n    <tr>\n      <th>469</th>\n      <td>470</td>\n      <td>1</td>\n      <td>3</td>\n      <td>Baclini, Miss. Helene Barbara</td>\n      <td>female</td>\n      <td>0.75</td>\n      <td>2</td>\n      <td>1</td>\n      <td>2666</td>\n      <td>19.2583</td>\n      <td>NaN</td>\n      <td>C</td>\n    </tr>\n    <tr>\n      <th>644</th>\n      <td>645</td>\n      <td>1</td>\n      <td>3</td>\n      <td>Baclini, Miss. Eugenie</td>\n      <td>female</td>\n      <td>0.75</td>\n      <td>2</td>\n      <td>1</td>\n      <td>2666</td>\n      <td>19.2583</td>\n      <td>NaN</td>\n      <td>C</td>\n    </tr>\n    <tr>\n      <th>755</th>\n      <td>756</td>\n      <td>1</td>\n      <td>2</td>\n      <td>Hamalainen, Master. Viljo</td>\n      <td>male</td>\n      <td>0.67</td>\n      <td>1</td>\n      <td>1</td>\n      <td>250649</td>\n      <td>14.5000</td>\n      <td>NaN</td>\n      <td>S</td>\n    </tr>\n    <tr>\n      <th>803</th>\n      <td>804</td>\n      <td>1</td>\n      <td>3</td>\n      <td>Thomas, Master. Assad Alexander</td>\n      <td>male</td>\n      <td>0.42</td>\n      <td>0</td>\n      <td>1</td>\n      <td>2625</td>\n      <td>8.5167</td>\n      <td>NaN</td>\n      <td>C</td>\n    </tr>\n    <tr>\n      <th>831</th>\n      <td>832</td>\n      <td>1</td>\n      <td>2</td>\n      <td>Richards, Master. George Sibley</td>\n      <td>male</td>\n      <td>0.83</td>\n      <td>1</td>\n      <td>1</td>\n      <td>29106</td>\n      <td>18.7500</td>\n      <td>NaN</td>\n      <td>S</td>\n    </tr>\n  </tbody>\n</table>\n</div>"
     },
     "execution_count": 34,
     "metadata": {},
     "output_type": "execute_result"
    }
   ],
   "source": [
    "train_data[train_data[\"age\"] < 1]"
   ],
   "metadata": {
    "collapsed": false,
    "pycharm": {
     "name": "#%%\n"
    }
   }
  },
  {
   "cell_type": "markdown",
   "source": [
    "There are 7 records where the age of the passenger was less than 1 year old."
   ],
   "metadata": {
    "collapsed": false,
    "pycharm": {
     "name": "#%% md\n"
    }
   }
  },
  {
   "cell_type": "code",
   "execution_count": 15,
   "outputs": [
    {
     "data": {
      "text/html": "\n\n\n\n\n\n  <div class=\"bk-root\" id=\"7e2d655b-375e-4879-97b8-5f40a9275572\" data-root-id=\"1216\"></div>\n"
     },
     "metadata": {},
     "output_type": "display_data"
    },
    {
     "data": {
      "application/javascript": "(function(root) {\n  function embed_document(root) {\n    \n  const docs_json = {\"929e7428-3e7d-4df2-a455-b7ed60f2ae8c\":{\"defs\":[],\"roots\":{\"references\":[{\"attributes\":{\"background_fill_color\":\"#20262B\",\"below\":[{\"id\":\"1227\"}],\"border_fill_color\":\"#15191C\",\"center\":[{\"id\":\"1230\"},{\"id\":\"1234\"}],\"height\":400,\"left\":[{\"id\":\"1231\"}],\"outline_line_alpha\":0.25,\"outline_line_color\":\"#E0E0E0\",\"renderers\":[{\"id\":\"1253\"}],\"title\":{\"id\":\"1217\"},\"toolbar\":{\"id\":\"1242\"},\"width\":400,\"x_range\":{\"id\":\"1219\"},\"x_scale\":{\"id\":\"1223\"},\"y_range\":{\"id\":\"1221\"},\"y_scale\":{\"id\":\"1225\"}},\"id\":\"1216\",\"subtype\":\"Figure\",\"type\":\"Plot\"},{\"attributes\":{\"axis\":{\"id\":\"1227\"},\"coordinates\":null,\"grid_line_alpha\":0.25,\"grid_line_color\":\"#E0E0E0\",\"group\":null,\"ticker\":null},\"id\":\"1230\",\"type\":\"Grid\"},{\"attributes\":{},\"id\":\"1280\",\"type\":\"BasicTickFormatter\"},{\"attributes\":{},\"id\":\"1281\",\"type\":\"AllLabels\"},{\"attributes\":{\"bottom\":{\"value\":0},\"fill_alpha\":{\"value\":0.1},\"fill_color\":{\"value\":\"#1f77b4\"},\"hatch_alpha\":{\"value\":0.1},\"left\":{\"field\":\"left\"},\"line_alpha\":{\"value\":0.1},\"line_color\":{\"value\":\"white\"},\"right\":{\"field\":\"right\"},\"top\":{\"field\":\"top\"}},\"id\":\"1251\",\"type\":\"Quad\"},{\"attributes\":{},\"id\":\"1221\",\"type\":\"DataRange1d\"},{\"attributes\":{},\"id\":\"1225\",\"type\":\"LinearScale\"},{\"attributes\":{\"coordinates\":null,\"data_source\":{\"id\":\"1249\"},\"glyph\":{\"id\":\"1250\"},\"group\":null,\"hover_glyph\":null,\"muted_glyph\":{\"id\":\"1252\"},\"nonselection_glyph\":{\"id\":\"1251\"},\"view\":{\"id\":\"1254\"}},\"id\":\"1253\",\"type\":\"GlyphRenderer\"},{\"attributes\":{\"bottom_units\":\"screen\",\"coordinates\":null,\"fill_alpha\":0.5,\"fill_color\":\"lightgrey\",\"group\":null,\"left_units\":\"screen\",\"level\":\"overlay\",\"line_alpha\":1.0,\"line_color\":\"black\",\"line_dash\":[4,4],\"line_width\":2,\"right_units\":\"screen\",\"syncable\":false,\"top_units\":\"screen\"},\"id\":\"1241\",\"type\":\"BoxAnnotation\"},{\"attributes\":{\"bottom\":{\"value\":0},\"fill_alpha\":{\"value\":0.2},\"fill_color\":{\"value\":\"#1f77b4\"},\"hatch_alpha\":{\"value\":0.2},\"left\":{\"field\":\"left\"},\"line_alpha\":{\"value\":0.2},\"line_color\":{\"value\":\"white\"},\"right\":{\"field\":\"right\"},\"top\":{\"field\":\"top\"}},\"id\":\"1252\",\"type\":\"Quad\"},{\"attributes\":{},\"id\":\"1228\",\"type\":\"BasicTicker\"},{\"attributes\":{},\"id\":\"1223\",\"type\":\"LinearScale\"},{\"attributes\":{\"axis_label_standoff\":10,\"axis_label_text_color\":\"#E0E0E0\",\"axis_label_text_font\":\"Helvetica\",\"axis_label_text_font_size\":\"1.25em\",\"axis_label_text_font_style\":\"normal\",\"axis_line_alpha\":0,\"axis_line_color\":\"#E0E0E0\",\"coordinates\":null,\"formatter\":{\"id\":\"1280\"},\"group\":null,\"major_label_policy\":{\"id\":\"1281\"},\"major_label_text_color\":\"#E0E0E0\",\"major_label_text_font\":\"Helvetica\",\"major_label_text_font_size\":\"1.025em\",\"major_tick_line_alpha\":0,\"major_tick_line_color\":\"#E0E0E0\",\"minor_tick_line_alpha\":0,\"minor_tick_line_color\":\"#E0E0E0\",\"ticker\":{\"id\":\"1228\"}},\"id\":\"1227\",\"type\":\"LinearAxis\"},{\"attributes\":{\"tools\":[{\"id\":\"1235\"},{\"id\":\"1236\"},{\"id\":\"1237\"},{\"id\":\"1238\"},{\"id\":\"1239\"},{\"id\":\"1240\"}]},\"id\":\"1242\",\"type\":\"Toolbar\"},{\"attributes\":{\"axis\":{\"id\":\"1231\"},\"coordinates\":null,\"dimension\":1,\"grid_line_alpha\":0.25,\"grid_line_color\":\"#E0E0E0\",\"group\":null,\"ticker\":null},\"id\":\"1234\",\"type\":\"Grid\"},{\"attributes\":{},\"id\":\"1232\",\"type\":\"BasicTicker\"},{\"attributes\":{},\"id\":\"1219\",\"type\":\"DataRange1d\"},{\"attributes\":{},\"id\":\"1278\",\"type\":\"AllLabels\"},{\"attributes\":{\"axis_label_standoff\":10,\"axis_label_text_color\":\"#E0E0E0\",\"axis_label_text_font\":\"Helvetica\",\"axis_label_text_font_size\":\"1.25em\",\"axis_label_text_font_style\":\"normal\",\"axis_line_alpha\":0,\"axis_line_color\":\"#E0E0E0\",\"coordinates\":null,\"formatter\":{\"id\":\"1277\"},\"group\":null,\"major_label_policy\":{\"id\":\"1278\"},\"major_label_text_color\":\"#E0E0E0\",\"major_label_text_font\":\"Helvetica\",\"major_label_text_font_size\":\"1.025em\",\"major_tick_line_alpha\":0,\"major_tick_line_color\":\"#E0E0E0\",\"minor_tick_line_alpha\":0,\"minor_tick_line_color\":\"#E0E0E0\",\"ticker\":{\"id\":\"1232\"}},\"id\":\"1231\",\"type\":\"LinearAxis\"},{\"attributes\":{},\"id\":\"1236\",\"type\":\"WheelZoomTool\"},{\"attributes\":{\"coordinates\":null,\"group\":null,\"text\":\"Distribution for age\",\"text_color\":\"#E0E0E0\",\"text_font\":\"Helvetica\",\"text_font_size\":\"1.15em\"},\"id\":\"1217\",\"type\":\"Title\"},{\"attributes\":{\"source\":{\"id\":\"1249\"}},\"id\":\"1254\",\"type\":\"CDSView\"},{\"attributes\":{},\"id\":\"1235\",\"type\":\"PanTool\"},{\"attributes\":{},\"id\":\"1240\",\"type\":\"HelpTool\"},{\"attributes\":{\"overlay\":{\"id\":\"1241\"}},\"id\":\"1237\",\"type\":\"BoxZoomTool\"},{\"attributes\":{},\"id\":\"1238\",\"type\":\"SaveTool\"},{\"attributes\":{},\"id\":\"1277\",\"type\":\"BasicTickFormatter\"},{\"attributes\":{},\"id\":\"1239\",\"type\":\"ResetTool\"},{\"attributes\":{},\"id\":\"1283\",\"type\":\"Selection\"},{\"attributes\":{},\"id\":\"1282\",\"type\":\"UnionRenderers\"},{\"attributes\":{\"data\":{\"left\":{\"__ndarray__\":\"4XoUrkfh2j9/arx0k5gRQKjGSzeJwSBAEVg5tMi2KEC9dJMYBFYwQHE9CtejUDRAJgaBlUNLOEDazvdT40U8QMdLN4lBIEBAIbByaJEdQkB7FK5H4RpEQNV46SYxGEZAMN0kBoEVSECKQWDl0BJKQOSlm8QgEExAPgrXo3ANTkBMN4lBYAVQQHnpJjEIBFFAppvEILACUkDTTWIQWAFTQA==\",\"dtype\":\"float64\",\"order\":\"little\",\"shape\":[20]},\"right\":{\"__ndarray__\":\"f2q8dJOYEUCoxks3icEgQBFYObTItihAvXSTGARWMEBxPQrXo1A0QCYGgZVDSzhA2s73U+NFPEDHSzeJQSBAQCGwcmiRHUJAexSuR+EaREDVeOkmMRhGQDDdJAaBFUhAikFg5dASSkDkpZvEIBBMQD4K16NwDU5ATDeJQWAFUEB56SYxCARRQKabxCCwAlJA001iEFgBU0AAAAAAAABUQA==\",\"dtype\":\"float64\",\"order\":\"little\",\"shape\":[20]},\"top\":[40,14,15,31,79,98,85,84,73,45,35,35,29,16,13,11,4,5,1,1]},\"selected\":{\"id\":\"1283\"},\"selection_policy\":{\"id\":\"1282\"}},\"id\":\"1249\",\"type\":\"ColumnDataSource\"},{\"attributes\":{\"bottom\":{\"value\":0},\"fill_color\":{\"value\":\"#1f77b4\"},\"left\":{\"field\":\"left\"},\"line_alpha\":{\"value\":0.9},\"line_color\":{\"value\":\"white\"},\"right\":{\"field\":\"right\"},\"top\":{\"field\":\"top\"}},\"id\":\"1250\",\"type\":\"Quad\"}],\"root_ids\":[\"1216\"]},\"title\":\"Bokeh Application\",\"version\":\"2.4.1\"}};\n  const render_items = [{\"docid\":\"929e7428-3e7d-4df2-a455-b7ed60f2ae8c\",\"root_ids\":[\"1216\"],\"roots\":{\"1216\":\"7e2d655b-375e-4879-97b8-5f40a9275572\"}}];\n  root.Bokeh.embed.embed_items_notebook(docs_json, render_items);\n\n  }\n  if (root.Bokeh !== undefined) {\n    embed_document(root);\n  } else {\n    let attempts = 0;\n    const timer = setInterval(function(root) {\n      if (root.Bokeh !== undefined) {\n        clearInterval(timer);\n        embed_document(root);\n      } else {\n        attempts++;\n        if (attempts > 100) {\n          clearInterval(timer);\n          console.log(\"Bokeh: ERROR: Unable to run BokehJS code because BokehJS library is missing\");\n        }\n      }\n    }, 10, root)\n  }\n})(window);",
      "application/vnd.bokehjs_exec.v0+json": ""
     },
     "metadata": {
      "application/vnd.bokehjs_exec.v0+json": {
       "id": "1216"
      }
     },
     "output_type": "display_data"
    }
   ],
   "source": [
    "plot_bokeh_histogram(train_data[train_data[\"age\"].notna()], \"age\")"
   ],
   "metadata": {
    "collapsed": false,
    "pycharm": {
     "name": "#%%\n"
    }
   }
  },
  {
   "cell_type": "markdown",
   "source": [
    "We can also try to create a new feature that tells us the passengers age decade i.e., if someone is 39 years old, their age group would be 30."
   ],
   "metadata": {
    "collapsed": false,
    "pycharm": {
     "name": "#%% md\n"
    }
   }
  },
  {
   "cell_type": "code",
   "execution_count": 38,
   "outputs": [],
   "source": [
    "train_data[\"age_group\"] =(train_data[\"age\"] // 10) * 10"
   ],
   "metadata": {
    "collapsed": false,
    "pycharm": {
     "name": "#%%\n"
    }
   }
  },
  {
   "cell_type": "code",
   "execution_count": 43,
   "outputs": [
    {
     "name": "stdout",
     "output_type": "stream",
     "text": [
      "177 records missing data\n"
     ]
    },
    {
     "data": {
      "text/plain": "      counts  frequency  names\n0.0       62   0.086835    0.0\n10.0     102   0.142857   10.0\n20.0     220   0.308123   20.0\n30.0     167   0.233894   30.0\n40.0      89   0.124650   40.0\n50.0      48   0.067227   50.0\n60.0      19   0.026611   60.0\n70.0       6   0.008403   70.0\n80.0       1   0.001401   80.0",
      "text/html": "<div>\n<style scoped>\n    .dataframe tbody tr th:only-of-type {\n        vertical-align: middle;\n    }\n\n    .dataframe tbody tr th {\n        vertical-align: top;\n    }\n\n    .dataframe thead th {\n        text-align: right;\n    }\n</style>\n<table border=\"1\" class=\"dataframe\">\n  <thead>\n    <tr style=\"text-align: right;\">\n      <th></th>\n      <th>counts</th>\n      <th>frequency</th>\n      <th>names</th>\n    </tr>\n  </thead>\n  <tbody>\n    <tr>\n      <th>0.0</th>\n      <td>62</td>\n      <td>0.086835</td>\n      <td>0.0</td>\n    </tr>\n    <tr>\n      <th>10.0</th>\n      <td>102</td>\n      <td>0.142857</td>\n      <td>10.0</td>\n    </tr>\n    <tr>\n      <th>20.0</th>\n      <td>220</td>\n      <td>0.308123</td>\n      <td>20.0</td>\n    </tr>\n    <tr>\n      <th>30.0</th>\n      <td>167</td>\n      <td>0.233894</td>\n      <td>30.0</td>\n    </tr>\n    <tr>\n      <th>40.0</th>\n      <td>89</td>\n      <td>0.124650</td>\n      <td>40.0</td>\n    </tr>\n    <tr>\n      <th>50.0</th>\n      <td>48</td>\n      <td>0.067227</td>\n      <td>50.0</td>\n    </tr>\n    <tr>\n      <th>60.0</th>\n      <td>19</td>\n      <td>0.026611</td>\n      <td>60.0</td>\n    </tr>\n    <tr>\n      <th>70.0</th>\n      <td>6</td>\n      <td>0.008403</td>\n      <td>70.0</td>\n    </tr>\n    <tr>\n      <th>80.0</th>\n      <td>1</td>\n      <td>0.001401</td>\n      <td>80.0</td>\n    </tr>\n  </tbody>\n</table>\n</div>"
     },
     "execution_count": 43,
     "metadata": {},
     "output_type": "execute_result"
    }
   ],
   "source": [
    "describe_category(train_data[\"age_group\"])"
   ],
   "metadata": {
    "collapsed": false,
    "pycharm": {
     "name": "#%%\n"
    }
   }
  },
  {
   "cell_type": "markdown",
   "source": [
    "Majority of the patients in our dataset are between 10 and 30 years old."
   ],
   "metadata": {
    "collapsed": false,
    "pycharm": {
     "name": "#%% md\n"
    }
   }
  },
  {
   "cell_type": "code",
   "execution_count": 41,
   "outputs": [
    {
     "name": "stdout",
     "output_type": "stream",
     "text": [
      "177 records missing data\n"
     ]
    },
    {
     "data": {
      "text/html": "\n\n\n\n\n\n  <div class=\"bk-root\" id=\"257fa31e-ded1-4d4e-b2a0-d697e4b38786\" data-root-id=\"2668\"></div>\n"
     },
     "metadata": {},
     "output_type": "display_data"
    },
    {
     "data": {
      "application/javascript": "(function(root) {\n  function embed_document(root) {\n    \n  const docs_json = {\"31635318-908f-4195-997e-925cb53f4d3b\":{\"defs\":[],\"roots\":{\"references\":[{\"attributes\":{\"background_fill_color\":\"#20262B\",\"below\":[{\"id\":\"2679\"}],\"border_fill_color\":\"#15191C\",\"center\":[{\"id\":\"2682\"},{\"id\":\"2686\"}],\"height\":400,\"left\":[{\"id\":\"2683\"}],\"outline_line_alpha\":0.25,\"outline_line_color\":\"#E0E0E0\",\"renderers\":[{\"id\":\"2707\"}],\"title\":{\"id\":\"2669\"},\"toolbar\":{\"id\":\"2695\"},\"width\":400,\"x_range\":{\"id\":\"2671\"},\"x_scale\":{\"id\":\"2675\"},\"y_range\":{\"id\":\"2673\"},\"y_scale\":{\"id\":\"2677\"}},\"id\":\"2668\",\"subtype\":\"Figure\",\"type\":\"Plot\"},{\"attributes\":{},\"id\":\"2677\",\"type\":\"LinearScale\"},{\"attributes\":{\"callback\":null,\"tooltips\":[[\"Value\",\"@names\"],[\"counts\",\"@counts\"],[\"frequency\",\"@frequency{%0.1f}\"]]},\"id\":\"2694\",\"type\":\"HoverTool\"},{\"attributes\":{\"coordinates\":null,\"data_source\":{\"id\":\"2667\"},\"glyph\":{\"id\":\"2704\"},\"group\":null,\"hover_glyph\":null,\"muted_glyph\":{\"id\":\"2706\"},\"nonselection_glyph\":{\"id\":\"2705\"},\"view\":{\"id\":\"2708\"}},\"id\":\"2707\",\"type\":\"GlyphRenderer\"},{\"attributes\":{},\"id\":\"2680\",\"type\":\"BasicTicker\"},{\"attributes\":{},\"id\":\"2825\",\"type\":\"AllLabels\"},{\"attributes\":{\"axis_label\":\"age_group\",\"axis_label_standoff\":10,\"axis_label_text_color\":\"#E0E0E0\",\"axis_label_text_font\":\"Helvetica\",\"axis_label_text_font_size\":\"1.25em\",\"axis_label_text_font_style\":\"normal\",\"axis_line_alpha\":0,\"axis_line_color\":\"#E0E0E0\",\"coordinates\":null,\"formatter\":{\"id\":\"2824\"},\"group\":null,\"major_label_policy\":{\"id\":\"2825\"},\"major_label_text_color\":\"#E0E0E0\",\"major_label_text_font\":\"Helvetica\",\"major_label_text_font_size\":\"1.025em\",\"major_tick_line_alpha\":0,\"major_tick_line_color\":\"#E0E0E0\",\"minor_tick_line_alpha\":0,\"minor_tick_line_color\":\"#E0E0E0\",\"ticker\":{\"id\":\"2680\"}},\"id\":\"2679\",\"type\":\"LinearAxis\"},{\"attributes\":{\"axis\":{\"id\":\"2679\"},\"coordinates\":null,\"grid_line_alpha\":0.25,\"grid_line_color\":\"#E0E0E0\",\"group\":null,\"ticker\":null},\"id\":\"2682\",\"type\":\"Grid\"},{\"attributes\":{\"coordinates\":null,\"group\":null,\"text\":\"Distribution by age_group\",\"text_color\":\"#E0E0E0\",\"text_font\":\"Helvetica\",\"text_font_size\":\"1.15em\"},\"id\":\"2669\",\"type\":\"Title\"},{\"attributes\":{\"data\":{\"counts\":[62,102,220,167,89,48,19,6,1],\"frequency\":{\"__ndarray__\":\"Fs06Fs06tj+SJEmSJEnCP5RKuJNKuNM/XjnwXTnwzT+gDemfDem/PxHINRHINbE/G9I/G9I/mz8RyDURyDWBPxdg8hZg8lY/\",\"dtype\":\"float64\",\"order\":\"little\",\"shape\":[9]},\"index\":{\"__ndarray__\":\"AAAAAAAAAAAAAAAAAAAkQAAAAAAAADRAAAAAAAAAPkAAAAAAAABEQAAAAAAAAElAAAAAAAAATkAAAAAAAIBRQAAAAAAAAFRA\",\"dtype\":\"float64\",\"order\":\"little\",\"shape\":[9]},\"names\":{\"__ndarray__\":\"AAAAAAAAAAAAAAAAAAAkQAAAAAAAADRAAAAAAAAAPkAAAAAAAABEQAAAAAAAAElAAAAAAAAATkAAAAAAAIBRQAAAAAAAAFRA\",\"dtype\":\"float64\",\"order\":\"little\",\"shape\":[9]}},\"selected\":{\"id\":\"2827\"},\"selection_policy\":{\"id\":\"2826\"}},\"id\":\"2667\",\"type\":\"ColumnDataSource\"},{\"attributes\":{},\"id\":\"2684\",\"type\":\"BasicTicker\"},{\"attributes\":{},\"id\":\"2692\",\"type\":\"HelpTool\"},{\"attributes\":{\"source\":{\"id\":\"2667\"}},\"id\":\"2708\",\"type\":\"CDSView\"},{\"attributes\":{},\"id\":\"2821\",\"type\":\"BasicTickFormatter\"},{\"attributes\":{},\"id\":\"2675\",\"type\":\"LinearScale\"},{\"attributes\":{\"fill_alpha\":{\"value\":0.2},\"fill_color\":{\"value\":\"#1f77b4\"},\"hatch_alpha\":{\"value\":0.2},\"line_alpha\":{\"value\":0.2},\"line_color\":{\"value\":\"#1f77b4\"},\"top\":{\"field\":\"frequency\"},\"width\":{\"value\":0.6666666666666666},\"x\":{\"field\":\"names\"}},\"id\":\"2706\",\"type\":\"VBar\"},{\"attributes\":{\"tools\":[{\"id\":\"2687\"},{\"id\":\"2688\"},{\"id\":\"2689\"},{\"id\":\"2690\"},{\"id\":\"2691\"},{\"id\":\"2692\"},{\"id\":\"2694\"}]},\"id\":\"2695\",\"type\":\"Toolbar\"},{\"attributes\":{},\"id\":\"2690\",\"type\":\"SaveTool\"},{\"attributes\":{},\"id\":\"2826\",\"type\":\"UnionRenderers\"},{\"attributes\":{\"axis_label_standoff\":10,\"axis_label_text_color\":\"#E0E0E0\",\"axis_label_text_font\":\"Helvetica\",\"axis_label_text_font_size\":\"1.25em\",\"axis_label_text_font_style\":\"normal\",\"axis_line_alpha\":0,\"axis_line_color\":\"#E0E0E0\",\"coordinates\":null,\"formatter\":{\"id\":\"2821\"},\"group\":null,\"major_label_policy\":{\"id\":\"2822\"},\"major_label_text_color\":\"#E0E0E0\",\"major_label_text_font\":\"Helvetica\",\"major_label_text_font_size\":\"1.025em\",\"major_tick_line_alpha\":0,\"major_tick_line_color\":\"#E0E0E0\",\"minor_tick_line_alpha\":0,\"minor_tick_line_color\":\"#E0E0E0\",\"ticker\":{\"id\":\"2684\"}},\"id\":\"2683\",\"type\":\"LinearAxis\"},{\"attributes\":{},\"id\":\"2827\",\"type\":\"Selection\"},{\"attributes\":{},\"id\":\"2688\",\"type\":\"WheelZoomTool\"},{\"attributes\":{},\"id\":\"2673\",\"type\":\"DataRange1d\"},{\"attributes\":{},\"id\":\"2824\",\"type\":\"BasicTickFormatter\"},{\"attributes\":{\"bottom_units\":\"screen\",\"coordinates\":null,\"fill_alpha\":0.5,\"fill_color\":\"lightgrey\",\"group\":null,\"left_units\":\"screen\",\"level\":\"overlay\",\"line_alpha\":1.0,\"line_color\":\"black\",\"line_dash\":[4,4],\"line_width\":2,\"right_units\":\"screen\",\"syncable\":false,\"top_units\":\"screen\"},\"id\":\"2693\",\"type\":\"BoxAnnotation\"},{\"attributes\":{\"axis\":{\"id\":\"2683\"},\"coordinates\":null,\"dimension\":1,\"grid_line_alpha\":0.25,\"grid_line_color\":\"#E0E0E0\",\"group\":null,\"ticker\":null},\"id\":\"2686\",\"type\":\"Grid\"},{\"attributes\":{},\"id\":\"2687\",\"type\":\"PanTool\"},{\"attributes\":{\"overlay\":{\"id\":\"2693\"}},\"id\":\"2689\",\"type\":\"BoxZoomTool\"},{\"attributes\":{},\"id\":\"2691\",\"type\":\"ResetTool\"},{\"attributes\":{},\"id\":\"2671\",\"type\":\"DataRange1d\"},{\"attributes\":{},\"id\":\"2822\",\"type\":\"AllLabels\"},{\"attributes\":{\"fill_color\":{\"value\":\"#1f77b4\"},\"line_color\":{\"value\":\"#1f77b4\"},\"top\":{\"field\":\"frequency\"},\"width\":{\"value\":0.6666666666666666},\"x\":{\"field\":\"names\"}},\"id\":\"2704\",\"type\":\"VBar\"},{\"attributes\":{\"fill_alpha\":{\"value\":0.1},\"fill_color\":{\"value\":\"#1f77b4\"},\"hatch_alpha\":{\"value\":0.1},\"line_alpha\":{\"value\":0.1},\"line_color\":{\"value\":\"#1f77b4\"},\"top\":{\"field\":\"frequency\"},\"width\":{\"value\":0.6666666666666666},\"x\":{\"field\":\"names\"}},\"id\":\"2705\",\"type\":\"VBar\"}],\"root_ids\":[\"2668\"]},\"title\":\"Bokeh Application\",\"version\":\"2.4.1\"}};\n  const render_items = [{\"docid\":\"31635318-908f-4195-997e-925cb53f4d3b\",\"root_ids\":[\"2668\"],\"roots\":{\"2668\":\"257fa31e-ded1-4d4e-b2a0-d697e4b38786\"}}];\n  root.Bokeh.embed.embed_items_notebook(docs_json, render_items);\n\n  }\n  if (root.Bokeh !== undefined) {\n    embed_document(root);\n  } else {\n    let attempts = 0;\n    const timer = setInterval(function(root) {\n      if (root.Bokeh !== undefined) {\n        clearInterval(timer);\n        embed_document(root);\n      } else {\n        attempts++;\n        if (attempts > 100) {\n          clearInterval(timer);\n          console.log(\"Bokeh: ERROR: Unable to run BokehJS code because BokehJS library is missing\");\n        }\n      }\n    }, 10, root)\n  }\n})(window);",
      "application/vnd.bokehjs_exec.v0+json": ""
     },
     "metadata": {
      "application/vnd.bokehjs_exec.v0+json": {
       "id": "2668"
      }
     },
     "output_type": "display_data"
    }
   ],
   "source": [
    "plot_bokeh_vbar(train_data, \"age_group\", True)"
   ],
   "metadata": {
    "collapsed": false,
    "pycharm": {
     "name": "#%%\n"
    }
   }
  },
  {
   "cell_type": "markdown",
   "source": [
    "#### sibsp"
   ],
   "metadata": {
    "collapsed": false,
    "pycharm": {
     "name": "#%% md\n"
    }
   }
  },
  {
   "cell_type": "markdown",
   "source": [
    "`sibsp` represents the number of siblings / spouses the passengers is travelling with onboard Titanic."
   ],
   "metadata": {
    "collapsed": false,
    "pycharm": {
     "name": "#%% md\n"
    }
   }
  },
  {
   "cell_type": "code",
   "execution_count": 44,
   "outputs": [
    {
     "data": {
      "text/plain": "   counts  frequency  names\n0     608   0.682379      0\n1     209   0.234568      1\n2      28   0.031425      2\n3      16   0.017957      3\n4      18   0.020202      4\n5       5   0.005612      5\n8       7   0.007856      8",
      "text/html": "<div>\n<style scoped>\n    .dataframe tbody tr th:only-of-type {\n        vertical-align: middle;\n    }\n\n    .dataframe tbody tr th {\n        vertical-align: top;\n    }\n\n    .dataframe thead th {\n        text-align: right;\n    }\n</style>\n<table border=\"1\" class=\"dataframe\">\n  <thead>\n    <tr style=\"text-align: right;\">\n      <th></th>\n      <th>counts</th>\n      <th>frequency</th>\n      <th>names</th>\n    </tr>\n  </thead>\n  <tbody>\n    <tr>\n      <th>0</th>\n      <td>608</td>\n      <td>0.682379</td>\n      <td>0</td>\n    </tr>\n    <tr>\n      <th>1</th>\n      <td>209</td>\n      <td>0.234568</td>\n      <td>1</td>\n    </tr>\n    <tr>\n      <th>2</th>\n      <td>28</td>\n      <td>0.031425</td>\n      <td>2</td>\n    </tr>\n    <tr>\n      <th>3</th>\n      <td>16</td>\n      <td>0.017957</td>\n      <td>3</td>\n    </tr>\n    <tr>\n      <th>4</th>\n      <td>18</td>\n      <td>0.020202</td>\n      <td>4</td>\n    </tr>\n    <tr>\n      <th>5</th>\n      <td>5</td>\n      <td>0.005612</td>\n      <td>5</td>\n    </tr>\n    <tr>\n      <th>8</th>\n      <td>7</td>\n      <td>0.007856</td>\n      <td>8</td>\n    </tr>\n  </tbody>\n</table>\n</div>"
     },
     "execution_count": 44,
     "metadata": {},
     "output_type": "execute_result"
    }
   ],
   "source": [
    "describe_category(train_data[\"sibsp\"])"
   ],
   "metadata": {
    "collapsed": false,
    "pycharm": {
     "name": "#%%\n"
    }
   }
  },
  {
   "cell_type": "code",
   "execution_count": 16,
   "outputs": [
    {
     "data": {
      "text/html": "\n\n\n\n\n\n  <div class=\"bk-root\" id=\"0fb00814-5142-4f02-8272-f019a8f77c67\" data-root-id=\"1336\"></div>\n"
     },
     "metadata": {},
     "output_type": "display_data"
    },
    {
     "data": {
      "application/javascript": "(function(root) {\n  function embed_document(root) {\n    \n  const docs_json = {\"1f56d132-df3a-4542-adce-d281d0fa2513\":{\"defs\":[],\"roots\":{\"references\":[{\"attributes\":{\"background_fill_color\":\"#20262B\",\"below\":[{\"id\":\"1347\"}],\"border_fill_color\":\"#15191C\",\"center\":[{\"id\":\"1350\"},{\"id\":\"1354\"}],\"height\":400,\"left\":[{\"id\":\"1351\"}],\"outline_line_alpha\":0.25,\"outline_line_color\":\"#E0E0E0\",\"renderers\":[{\"id\":\"1375\"}],\"title\":{\"id\":\"1337\"},\"toolbar\":{\"id\":\"1363\"},\"width\":400,\"x_range\":{\"id\":\"1339\"},\"x_scale\":{\"id\":\"1343\"},\"y_range\":{\"id\":\"1341\"},\"y_scale\":{\"id\":\"1345\"}},\"id\":\"1336\",\"subtype\":\"Figure\",\"type\":\"Plot\"},{\"attributes\":{},\"id\":\"1360\",\"type\":\"HelpTool\"},{\"attributes\":{},\"id\":\"1409\",\"type\":\"BasicTickFormatter\"},{\"attributes\":{\"axis_label_standoff\":10,\"axis_label_text_color\":\"#E0E0E0\",\"axis_label_text_font\":\"Helvetica\",\"axis_label_text_font_size\":\"1.25em\",\"axis_label_text_font_style\":\"normal\",\"axis_line_alpha\":0,\"axis_line_color\":\"#E0E0E0\",\"coordinates\":null,\"formatter\":{\"id\":\"1409\"},\"group\":null,\"major_label_policy\":{\"id\":\"1410\"},\"major_label_text_color\":\"#E0E0E0\",\"major_label_text_font\":\"Helvetica\",\"major_label_text_font_size\":\"1.025em\",\"major_tick_line_alpha\":0,\"major_tick_line_color\":\"#E0E0E0\",\"minor_tick_line_alpha\":0,\"minor_tick_line_color\":\"#E0E0E0\",\"ticker\":{\"id\":\"1352\"}},\"id\":\"1351\",\"type\":\"LinearAxis\"},{\"attributes\":{\"axis\":{\"id\":\"1351\"},\"coordinates\":null,\"dimension\":1,\"grid_line_alpha\":0.25,\"grid_line_color\":\"#E0E0E0\",\"group\":null,\"ticker\":null},\"id\":\"1354\",\"type\":\"Grid\"},{\"attributes\":{},\"id\":\"1352\",\"type\":\"BasicTicker\"},{\"attributes\":{},\"id\":\"1410\",\"type\":\"AllLabels\"},{\"attributes\":{\"callback\":null,\"tooltips\":[[\"Value\",\"@names\"],[\"counts\",\"@counts\"],[\"frequency\",\"@frequency{%0.1f}\"]]},\"id\":\"1362\",\"type\":\"HoverTool\"},{\"attributes\":{},\"id\":\"1356\",\"type\":\"WheelZoomTool\"},{\"attributes\":{},\"id\":\"1412\",\"type\":\"BasicTickFormatter\"},{\"attributes\":{},\"id\":\"1355\",\"type\":\"PanTool\"},{\"attributes\":{\"overlay\":{\"id\":\"1361\"}},\"id\":\"1357\",\"type\":\"BoxZoomTool\"},{\"attributes\":{},\"id\":\"1348\",\"type\":\"BasicTicker\"},{\"attributes\":{},\"id\":\"1358\",\"type\":\"SaveTool\"},{\"attributes\":{},\"id\":\"1341\",\"type\":\"DataRange1d\"},{\"attributes\":{},\"id\":\"1413\",\"type\":\"AllLabels\"},{\"attributes\":{},\"id\":\"1359\",\"type\":\"ResetTool\"},{\"attributes\":{\"bottom_units\":\"screen\",\"coordinates\":null,\"fill_alpha\":0.5,\"fill_color\":\"lightgrey\",\"group\":null,\"left_units\":\"screen\",\"level\":\"overlay\",\"line_alpha\":1.0,\"line_color\":\"black\",\"line_dash\":[4,4],\"line_width\":2,\"right_units\":\"screen\",\"syncable\":false,\"top_units\":\"screen\"},\"id\":\"1361\",\"type\":\"BoxAnnotation\"},{\"attributes\":{},\"id\":\"1339\",\"type\":\"DataRange1d\"},{\"attributes\":{\"coordinates\":null,\"group\":null,\"text\":\"Distribution by sibsp\",\"text_color\":\"#E0E0E0\",\"text_font\":\"Helvetica\",\"text_font_size\":\"1.15em\"},\"id\":\"1337\",\"type\":\"Title\"},{\"attributes\":{\"fill_alpha\":{\"value\":0.1},\"fill_color\":{\"value\":\"#1f77b4\"},\"hatch_alpha\":{\"value\":0.1},\"line_alpha\":{\"value\":0.1},\"line_color\":{\"value\":\"#1f77b4\"},\"top\":{\"field\":\"frequency\"},\"width\":{\"value\":0.6666666666666666},\"x\":{\"field\":\"names\"}},\"id\":\"1373\",\"type\":\"VBar\"},{\"attributes\":{},\"id\":\"1414\",\"type\":\"UnionRenderers\"},{\"attributes\":{\"tools\":[{\"id\":\"1355\"},{\"id\":\"1356\"},{\"id\":\"1357\"},{\"id\":\"1358\"},{\"id\":\"1359\"},{\"id\":\"1360\"},{\"id\":\"1362\"}]},\"id\":\"1363\",\"type\":\"Toolbar\"},{\"attributes\":{},\"id\":\"1415\",\"type\":\"Selection\"},{\"attributes\":{\"data\":{\"counts\":[608,209,28,16,18,5,7],\"frequency\":{\"__ndarray__\":\"/MlzNw3W5T+6NT8sUgbOP9WUzkP8FqA/GKoQcmljkj9bv1Kg1q+UP53UlM5D/HY/1ZTOQ/wWgD8=\",\"dtype\":\"float64\",\"order\":\"little\",\"shape\":[7]},\"index\":[0,1,2,3,4,5,8],\"names\":[0,1,2,3,4,5,8]},\"selected\":{\"id\":\"1415\"},\"selection_policy\":{\"id\":\"1414\"}},\"id\":\"1335\",\"type\":\"ColumnDataSource\"},{\"attributes\":{},\"id\":\"1345\",\"type\":\"LinearScale\"},{\"attributes\":{\"fill_color\":{\"value\":\"#1f77b4\"},\"line_color\":{\"value\":\"#1f77b4\"},\"top\":{\"field\":\"frequency\"},\"width\":{\"value\":0.6666666666666666},\"x\":{\"field\":\"names\"}},\"id\":\"1372\",\"type\":\"VBar\"},{\"attributes\":{},\"id\":\"1343\",\"type\":\"LinearScale\"},{\"attributes\":{\"fill_alpha\":{\"value\":0.2},\"fill_color\":{\"value\":\"#1f77b4\"},\"hatch_alpha\":{\"value\":0.2},\"line_alpha\":{\"value\":0.2},\"line_color\":{\"value\":\"#1f77b4\"},\"top\":{\"field\":\"frequency\"},\"width\":{\"value\":0.6666666666666666},\"x\":{\"field\":\"names\"}},\"id\":\"1374\",\"type\":\"VBar\"},{\"attributes\":{\"axis\":{\"id\":\"1347\"},\"coordinates\":null,\"grid_line_alpha\":0.25,\"grid_line_color\":\"#E0E0E0\",\"group\":null,\"ticker\":null},\"id\":\"1350\",\"type\":\"Grid\"},{\"attributes\":{\"coordinates\":null,\"data_source\":{\"id\":\"1335\"},\"glyph\":{\"id\":\"1372\"},\"group\":null,\"hover_glyph\":null,\"muted_glyph\":{\"id\":\"1374\"},\"nonselection_glyph\":{\"id\":\"1373\"},\"view\":{\"id\":\"1376\"}},\"id\":\"1375\",\"type\":\"GlyphRenderer\"},{\"attributes\":{\"axis_label\":\"sibsp\",\"axis_label_standoff\":10,\"axis_label_text_color\":\"#E0E0E0\",\"axis_label_text_font\":\"Helvetica\",\"axis_label_text_font_size\":\"1.25em\",\"axis_label_text_font_style\":\"normal\",\"axis_line_alpha\":0,\"axis_line_color\":\"#E0E0E0\",\"coordinates\":null,\"formatter\":{\"id\":\"1412\"},\"group\":null,\"major_label_policy\":{\"id\":\"1413\"},\"major_label_text_color\":\"#E0E0E0\",\"major_label_text_font\":\"Helvetica\",\"major_label_text_font_size\":\"1.025em\",\"major_tick_line_alpha\":0,\"major_tick_line_color\":\"#E0E0E0\",\"minor_tick_line_alpha\":0,\"minor_tick_line_color\":\"#E0E0E0\",\"ticker\":{\"id\":\"1348\"}},\"id\":\"1347\",\"type\":\"LinearAxis\"},{\"attributes\":{\"source\":{\"id\":\"1335\"}},\"id\":\"1376\",\"type\":\"CDSView\"}],\"root_ids\":[\"1336\"]},\"title\":\"Bokeh Application\",\"version\":\"2.4.1\"}};\n  const render_items = [{\"docid\":\"1f56d132-df3a-4542-adce-d281d0fa2513\",\"root_ids\":[\"1336\"],\"roots\":{\"1336\":\"0fb00814-5142-4f02-8272-f019a8f77c67\"}}];\n  root.Bokeh.embed.embed_items_notebook(docs_json, render_items);\n\n  }\n  if (root.Bokeh !== undefined) {\n    embed_document(root);\n  } else {\n    let attempts = 0;\n    const timer = setInterval(function(root) {\n      if (root.Bokeh !== undefined) {\n        clearInterval(timer);\n        embed_document(root);\n      } else {\n        attempts++;\n        if (attempts > 100) {\n          clearInterval(timer);\n          console.log(\"Bokeh: ERROR: Unable to run BokehJS code because BokehJS library is missing\");\n        }\n      }\n    }, 10, root)\n  }\n})(window);",
      "application/vnd.bokehjs_exec.v0+json": ""
     },
     "metadata": {
      "application/vnd.bokehjs_exec.v0+json": {
       "id": "1336"
      }
     },
     "output_type": "display_data"
    }
   ],
   "source": [
    "plot_bokeh_vbar(train_data, \"sibsp\", True)"
   ],
   "metadata": {
    "collapsed": false,
    "pycharm": {
     "name": "#%%\n"
    }
   }
  },
  {
   "cell_type": "markdown",
   "source": [
    "Majority of the patients were travelling by themselves (about 68%)."
   ],
   "metadata": {
    "collapsed": false,
    "pycharm": {
     "name": "#%% md\n"
    }
   }
  },
  {
   "cell_type": "markdown",
   "source": [
    "#### parch"
   ],
   "metadata": {
    "collapsed": false,
    "pycharm": {
     "name": "#%% md\n"
    }
   }
  },
  {
   "cell_type": "markdown",
   "source": [
    "`parch` is described as the number of parents or children the passenger had aboard the Titanic. Majority of the passengers were traveling by themselves (about 76%)."
   ],
   "metadata": {
    "collapsed": false,
    "pycharm": {
     "name": "#%% md\n"
    }
   }
  },
  {
   "cell_type": "code",
   "execution_count": 17,
   "outputs": [
    {
     "data": {
      "text/plain": "   counts  frequency  names\n0     678   0.760943      0\n1     118   0.132435      1\n2      80   0.089787      2\n3       5   0.005612      3\n4       4   0.004489      4\n5       5   0.005612      5\n6       1   0.001122      6",
      "text/html": "<div>\n<style scoped>\n    .dataframe tbody tr th:only-of-type {\n        vertical-align: middle;\n    }\n\n    .dataframe tbody tr th {\n        vertical-align: top;\n    }\n\n    .dataframe thead th {\n        text-align: right;\n    }\n</style>\n<table border=\"1\" class=\"dataframe\">\n  <thead>\n    <tr style=\"text-align: right;\">\n      <th></th>\n      <th>counts</th>\n      <th>frequency</th>\n      <th>names</th>\n    </tr>\n  </thead>\n  <tbody>\n    <tr>\n      <th>0</th>\n      <td>678</td>\n      <td>0.760943</td>\n      <td>0</td>\n    </tr>\n    <tr>\n      <th>1</th>\n      <td>118</td>\n      <td>0.132435</td>\n      <td>1</td>\n    </tr>\n    <tr>\n      <th>2</th>\n      <td>80</td>\n      <td>0.089787</td>\n      <td>2</td>\n    </tr>\n    <tr>\n      <th>3</th>\n      <td>5</td>\n      <td>0.005612</td>\n      <td>3</td>\n    </tr>\n    <tr>\n      <th>4</th>\n      <td>4</td>\n      <td>0.004489</td>\n      <td>4</td>\n    </tr>\n    <tr>\n      <th>5</th>\n      <td>5</td>\n      <td>0.005612</td>\n      <td>5</td>\n    </tr>\n    <tr>\n      <th>6</th>\n      <td>1</td>\n      <td>0.001122</td>\n      <td>6</td>\n    </tr>\n  </tbody>\n</table>\n</div>"
     },
     "execution_count": 17,
     "metadata": {},
     "output_type": "execute_result"
    }
   ],
   "source": [
    "describe_category(train_data[\"parch\"])"
   ],
   "metadata": {
    "collapsed": false,
    "pycharm": {
     "name": "#%%\n"
    }
   }
  },
  {
   "cell_type": "code",
   "execution_count": 18,
   "outputs": [
    {
     "data": {
      "text/html": "\n\n\n\n\n\n  <div class=\"bk-root\" id=\"47acd8b5-fb2f-45a4-b718-b43ceecf4e0e\" data-root-id=\"1468\"></div>\n"
     },
     "metadata": {},
     "output_type": "display_data"
    },
    {
     "data": {
      "application/javascript": "(function(root) {\n  function embed_document(root) {\n    \n  const docs_json = {\"9e7cb6f4-10b9-4095-847d-236fd70cbdde\":{\"defs\":[],\"roots\":{\"references\":[{\"attributes\":{\"background_fill_color\":\"#20262B\",\"below\":[{\"id\":\"1479\"}],\"border_fill_color\":\"#15191C\",\"center\":[{\"id\":\"1482\"},{\"id\":\"1486\"}],\"height\":400,\"left\":[{\"id\":\"1483\"}],\"outline_line_alpha\":0.25,\"outline_line_color\":\"#E0E0E0\",\"renderers\":[{\"id\":\"1507\"}],\"title\":{\"id\":\"1469\"},\"toolbar\":{\"id\":\"1495\"},\"width\":400,\"x_range\":{\"id\":\"1471\"},\"x_scale\":{\"id\":\"1475\"},\"y_range\":{\"id\":\"1473\"},\"y_scale\":{\"id\":\"1477\"}},\"id\":\"1468\",\"subtype\":\"Figure\",\"type\":\"Plot\"},{\"attributes\":{},\"id\":\"1488\",\"type\":\"WheelZoomTool\"},{\"attributes\":{},\"id\":\"1554\",\"type\":\"BasicTickFormatter\"},{\"attributes\":{},\"id\":\"1490\",\"type\":\"SaveTool\"},{\"attributes\":{},\"id\":\"1552\",\"type\":\"AllLabels\"},{\"attributes\":{\"overlay\":{\"id\":\"1493\"}},\"id\":\"1489\",\"type\":\"BoxZoomTool\"},{\"attributes\":{},\"id\":\"1551\",\"type\":\"BasicTickFormatter\"},{\"attributes\":{},\"id\":\"1484\",\"type\":\"BasicTicker\"},{\"attributes\":{},\"id\":\"1487\",\"type\":\"PanTool\"},{\"attributes\":{},\"id\":\"1491\",\"type\":\"ResetTool\"},{\"attributes\":{\"axis\":{\"id\":\"1479\"},\"coordinates\":null,\"grid_line_alpha\":0.25,\"grid_line_color\":\"#E0E0E0\",\"group\":null,\"ticker\":null},\"id\":\"1482\",\"type\":\"Grid\"},{\"attributes\":{\"axis_label_standoff\":10,\"axis_label_text_color\":\"#E0E0E0\",\"axis_label_text_font\":\"Helvetica\",\"axis_label_text_font_size\":\"1.25em\",\"axis_label_text_font_style\":\"normal\",\"axis_line_alpha\":0,\"axis_line_color\":\"#E0E0E0\",\"coordinates\":null,\"formatter\":{\"id\":\"1551\"},\"group\":null,\"major_label_policy\":{\"id\":\"1552\"},\"major_label_text_color\":\"#E0E0E0\",\"major_label_text_font\":\"Helvetica\",\"major_label_text_font_size\":\"1.025em\",\"major_tick_line_alpha\":0,\"major_tick_line_color\":\"#E0E0E0\",\"minor_tick_line_alpha\":0,\"minor_tick_line_color\":\"#E0E0E0\",\"ticker\":{\"id\":\"1484\"}},\"id\":\"1483\",\"type\":\"LinearAxis\"},{\"attributes\":{\"source\":{\"id\":\"1467\"}},\"id\":\"1508\",\"type\":\"CDSView\"},{\"attributes\":{\"axis\":{\"id\":\"1483\"},\"coordinates\":null,\"dimension\":1,\"grid_line_alpha\":0.25,\"grid_line_color\":\"#E0E0E0\",\"group\":null,\"ticker\":null},\"id\":\"1486\",\"type\":\"Grid\"},{\"attributes\":{\"coordinates\":null,\"data_source\":{\"id\":\"1467\"},\"glyph\":{\"id\":\"1504\"},\"group\":null,\"hover_glyph\":null,\"muted_glyph\":{\"id\":\"1506\"},\"nonselection_glyph\":{\"id\":\"1505\"},\"view\":{\"id\":\"1508\"}},\"id\":\"1507\",\"type\":\"GlyphRenderer\"},{\"attributes\":{},\"id\":\"1492\",\"type\":\"HelpTool\"},{\"attributes\":{\"axis_label\":\"parch\",\"axis_label_standoff\":10,\"axis_label_text_color\":\"#E0E0E0\",\"axis_label_text_font\":\"Helvetica\",\"axis_label_text_font_size\":\"1.25em\",\"axis_label_text_font_style\":\"normal\",\"axis_line_alpha\":0,\"axis_line_color\":\"#E0E0E0\",\"coordinates\":null,\"formatter\":{\"id\":\"1554\"},\"group\":null,\"major_label_policy\":{\"id\":\"1555\"},\"major_label_text_color\":\"#E0E0E0\",\"major_label_text_font\":\"Helvetica\",\"major_label_text_font_size\":\"1.025em\",\"major_tick_line_alpha\":0,\"major_tick_line_color\":\"#E0E0E0\",\"minor_tick_line_alpha\":0,\"minor_tick_line_color\":\"#E0E0E0\",\"ticker\":{\"id\":\"1480\"}},\"id\":\"1479\",\"type\":\"LinearAxis\"},{\"attributes\":{},\"id\":\"1555\",\"type\":\"AllLabels\"},{\"attributes\":{\"fill_alpha\":{\"value\":0.1},\"fill_color\":{\"value\":\"#1f77b4\"},\"hatch_alpha\":{\"value\":0.1},\"line_alpha\":{\"value\":0.1},\"line_color\":{\"value\":\"#1f77b4\"},\"top\":{\"field\":\"frequency\"},\"width\":{\"value\":0.6666666666666666},\"x\":{\"field\":\"names\"}},\"id\":\"1505\",\"type\":\"VBar\"},{\"attributes\":{},\"id\":\"1475\",\"type\":\"LinearScale\"},{\"attributes\":{\"fill_color\":{\"value\":\"#1f77b4\"},\"line_color\":{\"value\":\"#1f77b4\"},\"top\":{\"field\":\"frequency\"},\"width\":{\"value\":0.6666666666666666},\"x\":{\"field\":\"names\"}},\"id\":\"1504\",\"type\":\"VBar\"},{\"attributes\":{},\"id\":\"1477\",\"type\":\"LinearScale\"},{\"attributes\":{\"bottom_units\":\"screen\",\"coordinates\":null,\"fill_alpha\":0.5,\"fill_color\":\"lightgrey\",\"group\":null,\"left_units\":\"screen\",\"level\":\"overlay\",\"line_alpha\":1.0,\"line_color\":\"black\",\"line_dash\":[4,4],\"line_width\":2,\"right_units\":\"screen\",\"syncable\":false,\"top_units\":\"screen\"},\"id\":\"1493\",\"type\":\"BoxAnnotation\"},{\"attributes\":{\"coordinates\":null,\"group\":null,\"text\":\"Distribution by parch\",\"text_color\":\"#E0E0E0\",\"text_font\":\"Helvetica\",\"text_font_size\":\"1.15em\"},\"id\":\"1469\",\"type\":\"Title\"},{\"attributes\":{\"tools\":[{\"id\":\"1487\"},{\"id\":\"1488\"},{\"id\":\"1489\"},{\"id\":\"1490\"},{\"id\":\"1491\"},{\"id\":\"1492\"},{\"id\":\"1494\"}]},\"id\":\"1495\",\"type\":\"Toolbar\"},{\"attributes\":{},\"id\":\"1471\",\"type\":\"DataRange1d\"},{\"attributes\":{},\"id\":\"1556\",\"type\":\"UnionRenderers\"},{\"attributes\":{},\"id\":\"1473\",\"type\":\"DataRange1d\"},{\"attributes\":{\"callback\":null,\"tooltips\":[[\"Value\",\"@names\"],[\"counts\",\"@counts\"],[\"frequency\",\"@frequency{%0.1f}\"]]},\"id\":\"1494\",\"type\":\"HoverTool\"},{\"attributes\":{},\"id\":\"1557\",\"type\":\"Selection\"},{\"attributes\":{\"fill_alpha\":{\"value\":0.2},\"fill_color\":{\"value\":\"#1f77b4\"},\"hatch_alpha\":{\"value\":0.2},\"line_alpha\":{\"value\":0.2},\"line_color\":{\"value\":\"#1f77b4\"},\"top\":{\"field\":\"frequency\"},\"width\":{\"value\":0.6666666666666666},\"x\":{\"field\":\"names\"}},\"id\":\"1506\",\"type\":\"VBar\"},{\"attributes\":{},\"id\":\"1480\",\"type\":\"BasicTicker\"},{\"attributes\":{\"data\":{\"counts\":[678,118,80,5,4,5,1],\"frequency\":{\"__ndarray__\":\"PREMoqRZ6D/OXCc1pfPAP53UlM5D/LY/ndSUzkP8dj8YqhByaWNyP53UlM5D/HY/GKoQcmljUj8=\",\"dtype\":\"float64\",\"order\":\"little\",\"shape\":[7]},\"index\":[0,1,2,3,4,5,6],\"names\":[0,1,2,3,4,5,6]},\"selected\":{\"id\":\"1557\"},\"selection_policy\":{\"id\":\"1556\"}},\"id\":\"1467\",\"type\":\"ColumnDataSource\"}],\"root_ids\":[\"1468\"]},\"title\":\"Bokeh Application\",\"version\":\"2.4.1\"}};\n  const render_items = [{\"docid\":\"9e7cb6f4-10b9-4095-847d-236fd70cbdde\",\"root_ids\":[\"1468\"],\"roots\":{\"1468\":\"47acd8b5-fb2f-45a4-b718-b43ceecf4e0e\"}}];\n  root.Bokeh.embed.embed_items_notebook(docs_json, render_items);\n\n  }\n  if (root.Bokeh !== undefined) {\n    embed_document(root);\n  } else {\n    let attempts = 0;\n    const timer = setInterval(function(root) {\n      if (root.Bokeh !== undefined) {\n        clearInterval(timer);\n        embed_document(root);\n      } else {\n        attempts++;\n        if (attempts > 100) {\n          clearInterval(timer);\n          console.log(\"Bokeh: ERROR: Unable to run BokehJS code because BokehJS library is missing\");\n        }\n      }\n    }, 10, root)\n  }\n})(window);",
      "application/vnd.bokehjs_exec.v0+json": ""
     },
     "metadata": {
      "application/vnd.bokehjs_exec.v0+json": {
       "id": "1468"
      }
     },
     "output_type": "display_data"
    }
   ],
   "source": [
    "plot_bokeh_vbar(train_data, \"parch\", True)"
   ],
   "metadata": {
    "collapsed": false,
    "pycharm": {
     "name": "#%%\n"
    }
   }
  },
  {
   "cell_type": "markdown",
   "source": [
    "#### fare"
   ],
   "metadata": {
    "collapsed": false,
    "pycharm": {
     "name": "#%% md\n"
    }
   }
  },
  {
   "cell_type": "markdown",
   "source": [
    "`fare` is the ticket fare the passenger paid for the Titanic."
   ],
   "metadata": {
    "collapsed": false,
    "pycharm": {
     "name": "#%% md\n"
    }
   }
  },
  {
   "cell_type": "code",
   "execution_count": 50,
   "outputs": [
    {
     "data": {
      "text/plain": "0"
     },
     "execution_count": 50,
     "metadata": {},
     "output_type": "execute_result"
    }
   ],
   "source": [
    "train_data[\"fare\"].isna().sum()"
   ],
   "metadata": {
    "collapsed": false,
    "pycharm": {
     "name": "#%%\n"
    }
   }
  },
  {
   "cell_type": "code",
   "execution_count": 19,
   "outputs": [
    {
     "data": {
      "text/plain": "count    891.000000\nmean      32.204208\nstd       49.693429\nmin        0.000000\n25%        7.910400\n50%       14.454200\n75%       31.000000\nmax      512.329200\nName: fare, dtype: float64"
     },
     "execution_count": 19,
     "metadata": {},
     "output_type": "execute_result"
    }
   ],
   "source": [
    "train_data[\"fare\"].describe()"
   ],
   "metadata": {
    "collapsed": false,
    "pycharm": {
     "name": "#%%\n"
    }
   }
  },
  {
   "cell_type": "code",
   "execution_count": 20,
   "outputs": [
    {
     "data": {
      "text/html": "\n\n\n\n\n\n  <div class=\"bk-root\" id=\"6921cc6f-e9f0-4393-ab2f-56a7c2e47847\" data-root-id=\"1609\"></div>\n"
     },
     "metadata": {},
     "output_type": "display_data"
    },
    {
     "data": {
      "application/javascript": "(function(root) {\n  function embed_document(root) {\n    \n  const docs_json = {\"b8d34f18-4d4c-42d4-a7ae-84093723dfed\":{\"defs\":[],\"roots\":{\"references\":[{\"attributes\":{\"background_fill_color\":\"#20262B\",\"below\":[{\"id\":\"1620\"}],\"border_fill_color\":\"#15191C\",\"center\":[{\"id\":\"1623\"},{\"id\":\"1627\"}],\"height\":400,\"left\":[{\"id\":\"1624\"}],\"outline_line_alpha\":0.25,\"outline_line_color\":\"#E0E0E0\",\"renderers\":[{\"id\":\"1646\"}],\"title\":{\"id\":\"1610\"},\"toolbar\":{\"id\":\"1635\"},\"width\":400,\"x_range\":{\"id\":\"1612\"},\"x_scale\":{\"id\":\"1616\"},\"y_range\":{\"id\":\"1614\"},\"y_scale\":{\"id\":\"1618\"}},\"id\":\"1609\",\"subtype\":\"Figure\",\"type\":\"Plot\"},{\"attributes\":{},\"id\":\"1706\",\"type\":\"Selection\"},{\"attributes\":{\"bottom_units\":\"screen\",\"coordinates\":null,\"fill_alpha\":0.5,\"fill_color\":\"lightgrey\",\"group\":null,\"left_units\":\"screen\",\"level\":\"overlay\",\"line_alpha\":1.0,\"line_color\":\"black\",\"line_dash\":[4,4],\"line_width\":2,\"right_units\":\"screen\",\"syncable\":false,\"top_units\":\"screen\"},\"id\":\"1634\",\"type\":\"BoxAnnotation\"},{\"attributes\":{\"coordinates\":null,\"data_source\":{\"id\":\"1642\"},\"glyph\":{\"id\":\"1643\"},\"group\":null,\"hover_glyph\":null,\"muted_glyph\":{\"id\":\"1645\"},\"nonselection_glyph\":{\"id\":\"1644\"},\"view\":{\"id\":\"1647\"}},\"id\":\"1646\",\"type\":\"GlyphRenderer\"},{\"attributes\":{\"axis\":{\"id\":\"1620\"},\"coordinates\":null,\"grid_line_alpha\":0.25,\"grid_line_color\":\"#E0E0E0\",\"group\":null,\"ticker\":null},\"id\":\"1623\",\"type\":\"Grid\"},{\"attributes\":{\"bottom\":{\"value\":0},\"fill_alpha\":{\"value\":0.2},\"fill_color\":{\"value\":\"#1f77b4\"},\"hatch_alpha\":{\"value\":0.2},\"left\":{\"field\":\"left\"},\"line_alpha\":{\"value\":0.2},\"line_color\":{\"value\":\"white\"},\"right\":{\"field\":\"right\"},\"top\":{\"field\":\"top\"}},\"id\":\"1645\",\"type\":\"Quad\"},{\"attributes\":{\"bottom\":{\"value\":0},\"fill_alpha\":{\"value\":0.1},\"fill_color\":{\"value\":\"#1f77b4\"},\"hatch_alpha\":{\"value\":0.1},\"left\":{\"field\":\"left\"},\"line_alpha\":{\"value\":0.1},\"line_color\":{\"value\":\"white\"},\"right\":{\"field\":\"right\"},\"top\":{\"field\":\"top\"}},\"id\":\"1644\",\"type\":\"Quad\"},{\"attributes\":{\"axis_label_standoff\":10,\"axis_label_text_color\":\"#E0E0E0\",\"axis_label_text_font\":\"Helvetica\",\"axis_label_text_font_size\":\"1.25em\",\"axis_label_text_font_style\":\"normal\",\"axis_line_alpha\":0,\"axis_line_color\":\"#E0E0E0\",\"coordinates\":null,\"formatter\":{\"id\":\"1703\"},\"group\":null,\"major_label_policy\":{\"id\":\"1704\"},\"major_label_text_color\":\"#E0E0E0\",\"major_label_text_font\":\"Helvetica\",\"major_label_text_font_size\":\"1.025em\",\"major_tick_line_alpha\":0,\"major_tick_line_color\":\"#E0E0E0\",\"minor_tick_line_alpha\":0,\"minor_tick_line_color\":\"#E0E0E0\",\"ticker\":{\"id\":\"1621\"}},\"id\":\"1620\",\"type\":\"LinearAxis\"},{\"attributes\":{},\"id\":\"1612\",\"type\":\"DataRange1d\"},{\"attributes\":{\"bottom\":{\"value\":0},\"fill_color\":{\"value\":\"#1f77b4\"},\"left\":{\"field\":\"left\"},\"line_alpha\":{\"value\":0.9},\"line_color\":{\"value\":\"white\"},\"right\":{\"field\":\"right\"},\"top\":{\"field\":\"top\"}},\"id\":\"1643\",\"type\":\"Quad\"},{\"attributes\":{},\"id\":\"1704\",\"type\":\"AllLabels\"},{\"attributes\":{},\"id\":\"1614\",\"type\":\"DataRange1d\"},{\"attributes\":{\"axis_label_standoff\":10,\"axis_label_text_color\":\"#E0E0E0\",\"axis_label_text_font\":\"Helvetica\",\"axis_label_text_font_size\":\"1.25em\",\"axis_label_text_font_style\":\"normal\",\"axis_line_alpha\":0,\"axis_line_color\":\"#E0E0E0\",\"coordinates\":null,\"formatter\":{\"id\":\"1700\"},\"group\":null,\"major_label_policy\":{\"id\":\"1701\"},\"major_label_text_color\":\"#E0E0E0\",\"major_label_text_font\":\"Helvetica\",\"major_label_text_font_size\":\"1.025em\",\"major_tick_line_alpha\":0,\"major_tick_line_color\":\"#E0E0E0\",\"minor_tick_line_alpha\":0,\"minor_tick_line_color\":\"#E0E0E0\",\"ticker\":{\"id\":\"1625\"}},\"id\":\"1624\",\"type\":\"LinearAxis\"},{\"attributes\":{\"source\":{\"id\":\"1642\"}},\"id\":\"1647\",\"type\":\"CDSView\"},{\"attributes\":{},\"id\":\"1616\",\"type\":\"LinearScale\"},{\"attributes\":{},\"id\":\"1618\",\"type\":\"LinearScale\"},{\"attributes\":{},\"id\":\"1633\",\"type\":\"HelpTool\"},{\"attributes\":{},\"id\":\"1703\",\"type\":\"BasicTickFormatter\"},{\"attributes\":{},\"id\":\"1621\",\"type\":\"BasicTicker\"},{\"attributes\":{\"coordinates\":null,\"group\":null,\"text\":\"Distribution for fare\",\"text_color\":\"#E0E0E0\",\"text_font\":\"Helvetica\",\"text_font_size\":\"1.15em\"},\"id\":\"1610\",\"type\":\"Title\"},{\"attributes\":{},\"id\":\"1701\",\"type\":\"AllLabels\"},{\"attributes\":{\"axis\":{\"id\":\"1624\"},\"coordinates\":null,\"dimension\":1,\"grid_line_alpha\":0.25,\"grid_line_color\":\"#E0E0E0\",\"group\":null,\"ticker\":null},\"id\":\"1627\",\"type\":\"Grid\"},{\"attributes\":{},\"id\":\"1705\",\"type\":\"UnionRenderers\"},{\"attributes\":{},\"id\":\"1629\",\"type\":\"WheelZoomTool\"},{\"attributes\":{},\"id\":\"1625\",\"type\":\"BasicTicker\"},{\"attributes\":{\"tools\":[{\"id\":\"1628\"},{\"id\":\"1629\"},{\"id\":\"1630\"},{\"id\":\"1631\"},{\"id\":\"1632\"},{\"id\":\"1633\"}]},\"id\":\"1635\",\"type\":\"Toolbar\"},{\"attributes\":{},\"id\":\"1628\",\"type\":\"PanTool\"},{\"attributes\":{},\"id\":\"1700\",\"type\":\"BasicTickFormatter\"},{\"attributes\":{\"overlay\":{\"id\":\"1634\"}},\"id\":\"1630\",\"type\":\"BoxZoomTool\"},{\"attributes\":{\"data\":{\"left\":{\"__ndarray__\":\"AAAAAAAAAAAeua7PCScTQB65rs8JJyNArRWGt466LEAeua7PCSczQGZnmkPM8DdArRWGt466PED64biVKMJAQB65rs8JJ0NAQpCkCeuLRUBmZ5pDzPBHQIk+kH2tVUpArRWGt466TEDR7Hvxbx9PQPrhuJUowlBAjM2zMpn0UUAeua7PCSdTQLCkqWx6WVRAQpCkCeuLVUDUe5+mW75WQGZnmkPM8FdA91KV4DwjWUCJPpB9rVVaQBsqixoeiFtArRWGt466XEA/AYFU/+xdQNHse/FvH19AMWw7R/AoYED64biVKMJgQMNXNuRgW2FAjM2zMpn0YUBVQzGB0Y1iQB65rs8JJ2NA5y4sHkLAY0CwpKlsellkQHkaJ7uy8mRAQpCkCeuLZUALBiJYIyVmQNR7n6ZbvmZAnfEc9ZNXZ0BmZ5pDzPBnQC7dF5IEimhA91KV4DwjaUDAyBIvdbxpQIk+kH2tVWpAUrQNzOXuakAbKosaHohrQOSfCGlWIWxArRWGt466bEB2iwMGx1NtQD8BgVT/7G1ACHf+ojeGbkDR7Hvxbx9vQJpi+T+ouG9AMWw7R/AocEAWJ3pujHVwQPrhuJUownBA35z3vMQOcUDDVzbkYFtxQKgSdQv9p3FAjM2zMpn0cUBxiPJZNUFyQFVDMYHRjXJAOv5vqG3ackAeua7PCSdzQAJ07falc3NA5y4sHkLAc0DL6WpF3gx0QLCkqWx6WXRAlF/okxamdEB5Gie7svJ0QF3VZeJOP3VAQpCkCeuLdUAmS+Mwh9h1QAsGIlgjJXZA78Bgf79xdkDUe5+mW752QLg23s33CndAnfEc9ZNXd0CBrFscMKR3QGZnmkPM8HdASiLZamg9eEAu3ReSBIp4QBOYVrmg1nhA91KV4DwjeUDcDdQH2W95QMDIEi91vHlApYNRVhEJekCJPpB9rVV6QG75zqRJonpAUrQNzOXuekA3b0zzgTt7QBsqixoeiHtAAOXJQbrUe0DknwhpViF8QMlaR5DybXxArRWGt466fECR0MTeKgd9QHaLAwbHU31AWkZCLWOgfUA/AYFU/+x9QCO8v3ubOX5ACHf+ojeGfkDsMT3K09J+QNHse/FvH39Atae6GAxsf0CaYvk/qLh/QA==\",\"dtype\":\"float64\",\"order\":\"little\",\"shape\":[107]},\"right\":{\"__ndarray__\":\"HrmuzwknE0Aeua7PCScjQK0VhreOuixAHrmuzwknM0BmZ5pDzPA3QK0VhreOujxA+uG4lSjCQEAeua7PCSdDQEKQpAnri0VAZmeaQ8zwR0CJPpB9rVVKQK0VhreOukxA0ex78W8fT0D64biVKMJQQIzNszKZ9FFAHrmuzwknU0CwpKlsellUQEKQpAnri1VA1Hufplu+VkBmZ5pDzPBXQPdSleA8I1lAiT6Qfa1VWkAbKosaHohbQK0VhreOulxAPwGBVP/sXUDR7Hvxbx9fQDFsO0fwKGBA+uG4lSjCYEDDVzbkYFthQIzNszKZ9GFAVUMxgdGNYkAeua7PCSdjQOcuLB5CwGNAsKSpbHpZZEB5Gie7svJkQEKQpAnri2VACwYiWCMlZkDUe5+mW75mQJ3xHPWTV2dAZmeaQ8zwZ0Au3ReSBIpoQPdSleA8I2lAwMgSL3W8aUCJPpB9rVVqQFK0Dczl7mpAGyqLGh6Ia0DknwhpViFsQK0VhreOumxAdosDBsdTbUA/AYFU/+xtQAh3/qI3hm5A0ex78W8fb0CaYvk/qLhvQDFsO0fwKHBAFid6box1cED64biVKMJwQN+c97zEDnFAw1c25GBbcUCoEnUL/adxQIzNszKZ9HFAcYjyWTVBckBVQzGB0Y1yQDr+b6ht2nJAHrmuzwknc0ACdO32pXNzQOcuLB5CwHNAy+lqRd4MdECwpKlsell0QJRf6JMWpnRAeRonu7LydEBd1WXiTj91QEKQpAnri3VAJkvjMIfYdUALBiJYIyV2QO/AYH+/cXZA1Hufplu+dkC4Nt7N9wp3QJ3xHPWTV3dAgaxbHDCkd0BmZ5pDzPB3QEoi2WpoPXhALt0XkgSKeEATmFa5oNZ4QPdSleA8I3lA3A3UB9lveUDAyBIvdbx5QKWDUVYRCXpAiT6Qfa1VekBu+c6kSaJ6QFK0Dczl7npAN29M84E7e0AbKosaHoh7QADlyUG61HtA5J8IaVYhfEDJWkeQ8m18QK0VhreOunxAkdDE3ioHfUB2iwMGx1N9QFpGQi1joH1APwGBVP/sfUAjvL97mzl+QAh3/qI3hn5A7DE9ytPSfkDR7Hvxbx9/QLWnuhgMbH9AmmL5P6i4f0C/DpwzogKAQA==\",\"dtype\":\"float64\",\"order\":\"little\",\"shape\":[107]},\"top\":[16,313,109,69,40,94,45,15,19,7,18,21,6,5,12,7,21,8,9,4,0,0,4,7,0,4,0,2,5,0,2,4,3,0,2,0,0,0,0,0,0,0,0,0,4,0,1,4,0,0,0,2,0,0,6,0,0,0,0,0,0,0,0,0,0,0,0,0,0,0,0,0,0,0,0,0,0,0,0,0,0,0,0,0,0,0,0,0,0,0,0,0,0,0,0,0,0,0,0,0,0,0,0,0,0,0,3]},\"selected\":{\"id\":\"1706\"},\"selection_policy\":{\"id\":\"1705\"}},\"id\":\"1642\",\"type\":\"ColumnDataSource\"},{\"attributes\":{},\"id\":\"1631\",\"type\":\"SaveTool\"},{\"attributes\":{},\"id\":\"1632\",\"type\":\"ResetTool\"}],\"root_ids\":[\"1609\"]},\"title\":\"Bokeh Application\",\"version\":\"2.4.1\"}};\n  const render_items = [{\"docid\":\"b8d34f18-4d4c-42d4-a7ae-84093723dfed\",\"root_ids\":[\"1609\"],\"roots\":{\"1609\":\"6921cc6f-e9f0-4393-ab2f-56a7c2e47847\"}}];\n  root.Bokeh.embed.embed_items_notebook(docs_json, render_items);\n\n  }\n  if (root.Bokeh !== undefined) {\n    embed_document(root);\n  } else {\n    let attempts = 0;\n    const timer = setInterval(function(root) {\n      if (root.Bokeh !== undefined) {\n        clearInterval(timer);\n        embed_document(root);\n      } else {\n        attempts++;\n        if (attempts > 100) {\n          clearInterval(timer);\n          console.log(\"Bokeh: ERROR: Unable to run BokehJS code because BokehJS library is missing\");\n        }\n      }\n    }, 10, root)\n  }\n})(window);",
      "application/vnd.bokehjs_exec.v0+json": ""
     },
     "metadata": {
      "application/vnd.bokehjs_exec.v0+json": {
       "id": "1609"
      }
     },
     "output_type": "display_data"
    }
   ],
   "source": [
    "plot_bokeh_histogram(train_data, \"fare\")"
   ],
   "metadata": {
    "collapsed": false,
    "pycharm": {
     "name": "#%%\n"
    }
   }
  },
  {
   "cell_type": "markdown",
   "source": [
    "The average ticket fare was 32 pounds (assuming it is in pounds) and the median fare was around 14.5 pounds. The highest fare was 512 pounds which I think is really expensive compared to 1912. We also have few passengers who did not have to pay any fare. Is this correct or is this a discrepancy in the data?"
   ],
   "metadata": {
    "collapsed": false,
    "pycharm": {
     "name": "#%% md\n"
    }
   }
  },
  {
   "cell_type": "markdown",
   "source": [
    "We can apply log transformation to `fare` and look at the distribution"
   ],
   "metadata": {
    "collapsed": false,
    "pycharm": {
     "name": "#%% md\n"
    }
   }
  },
  {
   "cell_type": "code",
   "execution_count": 48,
   "outputs": [],
   "source": [
    "train_data[\"log_fare\"] = train_data[\"fare\"].apply(lambda x: np.log(x+1))"
   ],
   "metadata": {
    "collapsed": false,
    "pycharm": {
     "name": "#%%\n"
    }
   }
  },
  {
   "cell_type": "code",
   "execution_count": 49,
   "outputs": [
    {
     "data": {
      "text/html": "\n\n\n\n\n\n  <div class=\"bk-root\" id=\"ce1a9d11-65cb-42bd-97c3-0286187fc491\" data-root-id=\"3101\"></div>\n"
     },
     "metadata": {},
     "output_type": "display_data"
    },
    {
     "data": {
      "application/javascript": "(function(root) {\n  function embed_document(root) {\n    \n  const docs_json = {\"10c00a96-0585-427a-b2ef-e853ed42df80\":{\"defs\":[],\"roots\":{\"references\":[{\"attributes\":{\"background_fill_color\":\"#20262B\",\"below\":[{\"id\":\"3112\"}],\"border_fill_color\":\"#15191C\",\"center\":[{\"id\":\"3115\"},{\"id\":\"3119\"}],\"height\":400,\"left\":[{\"id\":\"3116\"}],\"outline_line_alpha\":0.25,\"outline_line_color\":\"#E0E0E0\",\"renderers\":[{\"id\":\"3138\"}],\"title\":{\"id\":\"3102\"},\"toolbar\":{\"id\":\"3127\"},\"width\":400,\"x_range\":{\"id\":\"3104\"},\"x_scale\":{\"id\":\"3108\"},\"y_range\":{\"id\":\"3106\"},\"y_scale\":{\"id\":\"3110\"}},\"id\":\"3101\",\"subtype\":\"Figure\",\"type\":\"Plot\"},{\"attributes\":{},\"id\":\"3273\",\"type\":\"AllLabels\"},{\"attributes\":{},\"id\":\"3108\",\"type\":\"LinearScale\"},{\"attributes\":{\"bottom\":{\"value\":0},\"fill_color\":{\"value\":\"#1f77b4\"},\"left\":{\"field\":\"left\"},\"line_alpha\":{\"value\":0.9},\"line_color\":{\"value\":\"white\"},\"right\":{\"field\":\"right\"},\"top\":{\"field\":\"top\"}},\"id\":\"3135\",\"type\":\"Quad\"},{\"attributes\":{},\"id\":\"3104\",\"type\":\"DataRange1d\"},{\"attributes\":{\"data\":{\"left\":{\"__ndarray__\":\"AAAAAAAAAAAZR/9bd6TQPxlH/1t3pOA/pur+CbP26D8ZR/9bd6TwP98Y/zKVzfQ/pur+CbP2+D9svP7g0B/9PxlH/1t3pABA/C9/Rwa5AkDfGP8ylc0EQMIBfx4k4gZApur+CbP2CECJ0371QQsLQGy8/uDQHw1AT6V+zF80D0AZR/9bd6QQQIs7v9G+rhFA/C9/Rwa5EkBuJD+9TcMTQN8Y/zKVzRRAUQ2/qNzXFUDCAX8eJOIWQDT2PpRr7BdA\",\"dtype\":\"float64\",\"order\":\"little\",\"shape\":[24]},\"right\":{\"__ndarray__\":\"GUf/W3ek0D8ZR/9bd6TgP6bq/gmz9ug/GUf/W3ek8D/fGP8ylc30P6bq/gmz9vg/bLz+4NAf/T8ZR/9bd6QAQPwvf0cGuQJA3xj/MpXNBEDCAX8eJOIGQKbq/gmz9ghAidN+9UELC0BsvP7g0B8NQE+lfsxfNA9AGUf/W3ekEECLO7/Rvq4RQPwvf0cGuRJAbiQ/vU3DE0DfGP8ylc0UQFENv6jc1xVAwgF/HiTiFkA09j6Ua+wXQKbq/gmz9hhA\",\"dtype\":\"float64\",\"order\":\"little\",\"shape\":[24]},\"top\":[15,0,0,0,0,0,2,11,290,61,115,40,105,62,26,45,46,22,20,11,9,8,0,3]},\"selected\":{\"id\":\"3278\"},\"selection_policy\":{\"id\":\"3277\"}},\"id\":\"3134\",\"type\":\"ColumnDataSource\"},{\"attributes\":{},\"id\":\"3121\",\"type\":\"WheelZoomTool\"},{\"attributes\":{},\"id\":\"3276\",\"type\":\"AllLabels\"},{\"attributes\":{\"tools\":[{\"id\":\"3120\"},{\"id\":\"3121\"},{\"id\":\"3122\"},{\"id\":\"3123\"},{\"id\":\"3124\"},{\"id\":\"3125\"}]},\"id\":\"3127\",\"type\":\"Toolbar\"},{\"attributes\":{\"coordinates\":null,\"data_source\":{\"id\":\"3134\"},\"glyph\":{\"id\":\"3135\"},\"group\":null,\"hover_glyph\":null,\"muted_glyph\":{\"id\":\"3137\"},\"nonselection_glyph\":{\"id\":\"3136\"},\"view\":{\"id\":\"3139\"}},\"id\":\"3138\",\"type\":\"GlyphRenderer\"},{\"attributes\":{},\"id\":\"3125\",\"type\":\"HelpTool\"},{\"attributes\":{\"bottom\":{\"value\":0},\"fill_alpha\":{\"value\":0.1},\"fill_color\":{\"value\":\"#1f77b4\"},\"hatch_alpha\":{\"value\":0.1},\"left\":{\"field\":\"left\"},\"line_alpha\":{\"value\":0.1},\"line_color\":{\"value\":\"white\"},\"right\":{\"field\":\"right\"},\"top\":{\"field\":\"top\"}},\"id\":\"3136\",\"type\":\"Quad\"},{\"attributes\":{},\"id\":\"3272\",\"type\":\"BasicTickFormatter\"},{\"attributes\":{},\"id\":\"3106\",\"type\":\"DataRange1d\"},{\"attributes\":{},\"id\":\"3110\",\"type\":\"LinearScale\"},{\"attributes\":{\"axis_label_standoff\":10,\"axis_label_text_color\":\"#E0E0E0\",\"axis_label_text_font\":\"Helvetica\",\"axis_label_text_font_size\":\"1.25em\",\"axis_label_text_font_style\":\"normal\",\"axis_line_alpha\":0,\"axis_line_color\":\"#E0E0E0\",\"coordinates\":null,\"formatter\":{\"id\":\"3275\"},\"group\":null,\"major_label_policy\":{\"id\":\"3276\"},\"major_label_text_color\":\"#E0E0E0\",\"major_label_text_font\":\"Helvetica\",\"major_label_text_font_size\":\"1.025em\",\"major_tick_line_alpha\":0,\"major_tick_line_color\":\"#E0E0E0\",\"minor_tick_line_alpha\":0,\"minor_tick_line_color\":\"#E0E0E0\",\"ticker\":{\"id\":\"3113\"}},\"id\":\"3112\",\"type\":\"LinearAxis\"},{\"attributes\":{\"axis\":{\"id\":\"3116\"},\"coordinates\":null,\"dimension\":1,\"grid_line_alpha\":0.25,\"grid_line_color\":\"#E0E0E0\",\"group\":null,\"ticker\":null},\"id\":\"3119\",\"type\":\"Grid\"},{\"attributes\":{\"bottom\":{\"value\":0},\"fill_alpha\":{\"value\":0.2},\"fill_color\":{\"value\":\"#1f77b4\"},\"hatch_alpha\":{\"value\":0.2},\"left\":{\"field\":\"left\"},\"line_alpha\":{\"value\":0.2},\"line_color\":{\"value\":\"white\"},\"right\":{\"field\":\"right\"},\"top\":{\"field\":\"top\"}},\"id\":\"3137\",\"type\":\"Quad\"},{\"attributes\":{},\"id\":\"3120\",\"type\":\"PanTool\"},{\"attributes\":{},\"id\":\"3117\",\"type\":\"BasicTicker\"},{\"attributes\":{},\"id\":\"3277\",\"type\":\"UnionRenderers\"},{\"attributes\":{},\"id\":\"3113\",\"type\":\"BasicTicker\"},{\"attributes\":{\"overlay\":{\"id\":\"3126\"}},\"id\":\"3122\",\"type\":\"BoxZoomTool\"},{\"attributes\":{\"source\":{\"id\":\"3134\"}},\"id\":\"3139\",\"type\":\"CDSView\"},{\"attributes\":{\"coordinates\":null,\"group\":null,\"text\":\"Distribution for log_fare\",\"text_color\":\"#E0E0E0\",\"text_font\":\"Helvetica\",\"text_font_size\":\"1.15em\"},\"id\":\"3102\",\"type\":\"Title\"},{\"attributes\":{\"axis_label_standoff\":10,\"axis_label_text_color\":\"#E0E0E0\",\"axis_label_text_font\":\"Helvetica\",\"axis_label_text_font_size\":\"1.25em\",\"axis_label_text_font_style\":\"normal\",\"axis_line_alpha\":0,\"axis_line_color\":\"#E0E0E0\",\"coordinates\":null,\"formatter\":{\"id\":\"3272\"},\"group\":null,\"major_label_policy\":{\"id\":\"3273\"},\"major_label_text_color\":\"#E0E0E0\",\"major_label_text_font\":\"Helvetica\",\"major_label_text_font_size\":\"1.025em\",\"major_tick_line_alpha\":0,\"major_tick_line_color\":\"#E0E0E0\",\"minor_tick_line_alpha\":0,\"minor_tick_line_color\":\"#E0E0E0\",\"ticker\":{\"id\":\"3117\"}},\"id\":\"3116\",\"type\":\"LinearAxis\"},{\"attributes\":{},\"id\":\"3275\",\"type\":\"BasicTickFormatter\"},{\"attributes\":{},\"id\":\"3278\",\"type\":\"Selection\"},{\"attributes\":{\"bottom_units\":\"screen\",\"coordinates\":null,\"fill_alpha\":0.5,\"fill_color\":\"lightgrey\",\"group\":null,\"left_units\":\"screen\",\"level\":\"overlay\",\"line_alpha\":1.0,\"line_color\":\"black\",\"line_dash\":[4,4],\"line_width\":2,\"right_units\":\"screen\",\"syncable\":false,\"top_units\":\"screen\"},\"id\":\"3126\",\"type\":\"BoxAnnotation\"},{\"attributes\":{\"axis\":{\"id\":\"3112\"},\"coordinates\":null,\"grid_line_alpha\":0.25,\"grid_line_color\":\"#E0E0E0\",\"group\":null,\"ticker\":null},\"id\":\"3115\",\"type\":\"Grid\"},{\"attributes\":{},\"id\":\"3123\",\"type\":\"SaveTool\"},{\"attributes\":{},\"id\":\"3124\",\"type\":\"ResetTool\"}],\"root_ids\":[\"3101\"]},\"title\":\"Bokeh Application\",\"version\":\"2.4.1\"}};\n  const render_items = [{\"docid\":\"10c00a96-0585-427a-b2ef-e853ed42df80\",\"root_ids\":[\"3101\"],\"roots\":{\"3101\":\"ce1a9d11-65cb-42bd-97c3-0286187fc491\"}}];\n  root.Bokeh.embed.embed_items_notebook(docs_json, render_items);\n\n  }\n  if (root.Bokeh !== undefined) {\n    embed_document(root);\n  } else {\n    let attempts = 0;\n    const timer = setInterval(function(root) {\n      if (root.Bokeh !== undefined) {\n        clearInterval(timer);\n        embed_document(root);\n      } else {\n        attempts++;\n        if (attempts > 100) {\n          clearInterval(timer);\n          console.log(\"Bokeh: ERROR: Unable to run BokehJS code because BokehJS library is missing\");\n        }\n      }\n    }, 10, root)\n  }\n})(window);",
      "application/vnd.bokehjs_exec.v0+json": ""
     },
     "metadata": {
      "application/vnd.bokehjs_exec.v0+json": {
       "id": "3101"
      }
     },
     "output_type": "display_data"
    }
   ],
   "source": [
    "plot_bokeh_histogram(train_data, \"log_fare\")"
   ],
   "metadata": {
    "collapsed": false,
    "pycharm": {
     "name": "#%%\n"
    }
   }
  },
  {
   "cell_type": "markdown",
   "source": [
    "#### cabin"
   ],
   "metadata": {
    "collapsed": false,
    "pycharm": {
     "name": "#%% md\n"
    }
   }
  },
  {
   "cell_type": "code",
   "execution_count": 21,
   "outputs": [
    {
     "name": "stdout",
     "output_type": "stream",
     "text": [
      "687 records missing data\n"
     ]
    },
    {
     "data": {
      "text/plain": "     counts  frequency names\nA10       1   0.004902   A10\nA14       1   0.004902   A14\nA16       1   0.004902   A16\nA19       1   0.004902   A19\nA20       1   0.004902   A20\n..      ...        ...   ...\nF33       3   0.014706   F33\nF38       1   0.004902   F38\nF4        2   0.009804    F4\nG6        4   0.019608    G6\nT         1   0.004902     T\n\n[147 rows x 3 columns]",
      "text/html": "<div>\n<style scoped>\n    .dataframe tbody tr th:only-of-type {\n        vertical-align: middle;\n    }\n\n    .dataframe tbody tr th {\n        vertical-align: top;\n    }\n\n    .dataframe thead th {\n        text-align: right;\n    }\n</style>\n<table border=\"1\" class=\"dataframe\">\n  <thead>\n    <tr style=\"text-align: right;\">\n      <th></th>\n      <th>counts</th>\n      <th>frequency</th>\n      <th>names</th>\n    </tr>\n  </thead>\n  <tbody>\n    <tr>\n      <th>A10</th>\n      <td>1</td>\n      <td>0.004902</td>\n      <td>A10</td>\n    </tr>\n    <tr>\n      <th>A14</th>\n      <td>1</td>\n      <td>0.004902</td>\n      <td>A14</td>\n    </tr>\n    <tr>\n      <th>A16</th>\n      <td>1</td>\n      <td>0.004902</td>\n      <td>A16</td>\n    </tr>\n    <tr>\n      <th>A19</th>\n      <td>1</td>\n      <td>0.004902</td>\n      <td>A19</td>\n    </tr>\n    <tr>\n      <th>A20</th>\n      <td>1</td>\n      <td>0.004902</td>\n      <td>A20</td>\n    </tr>\n    <tr>\n      <th>...</th>\n      <td>...</td>\n      <td>...</td>\n      <td>...</td>\n    </tr>\n    <tr>\n      <th>F33</th>\n      <td>3</td>\n      <td>0.014706</td>\n      <td>F33</td>\n    </tr>\n    <tr>\n      <th>F38</th>\n      <td>1</td>\n      <td>0.004902</td>\n      <td>F38</td>\n    </tr>\n    <tr>\n      <th>F4</th>\n      <td>2</td>\n      <td>0.009804</td>\n      <td>F4</td>\n    </tr>\n    <tr>\n      <th>G6</th>\n      <td>4</td>\n      <td>0.019608</td>\n      <td>G6</td>\n    </tr>\n    <tr>\n      <th>T</th>\n      <td>1</td>\n      <td>0.004902</td>\n      <td>T</td>\n    </tr>\n  </tbody>\n</table>\n<p>147 rows × 3 columns</p>\n</div>"
     },
     "execution_count": 21,
     "metadata": {},
     "output_type": "execute_result"
    }
   ],
   "source": [
    "describe_category(train_data[\"cabin\"])"
   ],
   "metadata": {
    "collapsed": false,
    "pycharm": {
     "name": "#%%\n"
    }
   }
  },
  {
   "cell_type": "markdown",
   "source": [
    "`cabin` doesn't provide useful information so we'll skip this feature."
   ],
   "metadata": {
    "collapsed": false,
    "pycharm": {
     "name": "#%% md\n"
    }
   }
  },
  {
   "cell_type": "markdown",
   "source": [
    "#### embarked"
   ],
   "metadata": {
    "collapsed": false,
    "pycharm": {
     "name": "#%% md\n"
    }
   }
  },
  {
   "cell_type": "markdown",
   "source": [
    "`embarked` tells us the port of embarkation for the passenger"
   ],
   "metadata": {
    "collapsed": false,
    "pycharm": {
     "name": "#%% md\n"
    }
   }
  },
  {
   "cell_type": "code",
   "execution_count": 22,
   "outputs": [
    {
     "name": "stdout",
     "output_type": "stream",
     "text": [
      "2 records missing data\n"
     ]
    },
    {
     "data": {
      "text/plain": "   counts  frequency names\nC     168   0.188976     C\nQ      77   0.086614     Q\nS     644   0.724409     S",
      "text/html": "<div>\n<style scoped>\n    .dataframe tbody tr th:only-of-type {\n        vertical-align: middle;\n    }\n\n    .dataframe tbody tr th {\n        vertical-align: top;\n    }\n\n    .dataframe thead th {\n        text-align: right;\n    }\n</style>\n<table border=\"1\" class=\"dataframe\">\n  <thead>\n    <tr style=\"text-align: right;\">\n      <th></th>\n      <th>counts</th>\n      <th>frequency</th>\n      <th>names</th>\n    </tr>\n  </thead>\n  <tbody>\n    <tr>\n      <th>C</th>\n      <td>168</td>\n      <td>0.188976</td>\n      <td>C</td>\n    </tr>\n    <tr>\n      <th>Q</th>\n      <td>77</td>\n      <td>0.086614</td>\n      <td>Q</td>\n    </tr>\n    <tr>\n      <th>S</th>\n      <td>644</td>\n      <td>0.724409</td>\n      <td>S</td>\n    </tr>\n  </tbody>\n</table>\n</div>"
     },
     "execution_count": 22,
     "metadata": {},
     "output_type": "execute_result"
    }
   ],
   "source": [
    "describe_category(train_data[\"embarked\"])"
   ],
   "metadata": {
    "collapsed": false,
    "pycharm": {
     "name": "#%%\n"
    }
   }
  },
  {
   "cell_type": "code",
   "execution_count": 23,
   "outputs": [
    {
     "name": "stdout",
     "output_type": "stream",
     "text": [
      "2 records missing data\n"
     ]
    },
    {
     "data": {
      "text/html": "\n\n\n\n\n\n  <div class=\"bk-root\" id=\"53464f50-75bf-4309-b8d8-997ee7e3fde9\" data-root-id=\"1759\"></div>\n"
     },
     "metadata": {},
     "output_type": "display_data"
    },
    {
     "data": {
      "application/javascript": "(function(root) {\n  function embed_document(root) {\n    \n  const docs_json = {\"c9114970-20c8-4c1c-b52d-0003a2083cec\":{\"defs\":[],\"roots\":{\"references\":[{\"attributes\":{\"background_fill_color\":\"#20262B\",\"below\":[{\"id\":\"1770\"}],\"border_fill_color\":\"#15191C\",\"center\":[{\"id\":\"1772\"},{\"id\":\"1776\"}],\"height\":400,\"left\":[{\"id\":\"1773\"}],\"outline_line_alpha\":0.25,\"outline_line_color\":\"#E0E0E0\",\"renderers\":[{\"id\":\"1797\"}],\"title\":{\"id\":\"1760\"},\"toolbar\":{\"id\":\"1785\"},\"width\":400,\"x_range\":{\"id\":\"1762\"},\"x_scale\":{\"id\":\"1766\"},\"y_range\":{\"id\":\"1764\"},\"y_scale\":{\"id\":\"1768\"}},\"id\":\"1759\",\"subtype\":\"Figure\",\"type\":\"Plot\"},{\"attributes\":{},\"id\":\"1861\",\"type\":\"BasicTickFormatter\"},{\"attributes\":{\"axis\":{\"id\":\"1773\"},\"coordinates\":null,\"dimension\":1,\"grid_line_alpha\":0.25,\"grid_line_color\":\"#E0E0E0\",\"group\":null,\"ticker\":null},\"id\":\"1776\",\"type\":\"Grid\"},{\"attributes\":{},\"id\":\"1782\",\"type\":\"HelpTool\"},{\"attributes\":{\"callback\":null,\"tooltips\":[[\"Value\",\"@names\"],[\"counts\",\"@counts\"],[\"frequency\",\"@frequency{%0.1f}\"]]},\"id\":\"1784\",\"type\":\"HoverTool\"},{\"attributes\":{},\"id\":\"1862\",\"type\":\"AllLabels\"},{\"attributes\":{},\"id\":\"1778\",\"type\":\"WheelZoomTool\"},{\"attributes\":{},\"id\":\"1777\",\"type\":\"PanTool\"},{\"attributes\":{},\"id\":\"1864\",\"type\":\"CategoricalTickFormatter\"},{\"attributes\":{\"overlay\":{\"id\":\"1783\"}},\"id\":\"1779\",\"type\":\"BoxZoomTool\"},{\"attributes\":{\"axis\":{\"id\":\"1770\"},\"coordinates\":null,\"grid_line_alpha\":0.25,\"grid_line_color\":\"#E0E0E0\",\"group\":null,\"ticker\":null},\"id\":\"1772\",\"type\":\"Grid\"},{\"attributes\":{},\"id\":\"1780\",\"type\":\"SaveTool\"},{\"attributes\":{},\"id\":\"1781\",\"type\":\"ResetTool\"},{\"attributes\":{},\"id\":\"1865\",\"type\":\"AllLabels\"},{\"attributes\":{\"data\":{\"counts\":[168,77,644],\"frequency\":{\"__ndarray__\":\"DAaDwWAwyD+LxWKxWCy2P8zlcrlcLuc/\",\"dtype\":\"float64\",\"order\":\"little\",\"shape\":[3]},\"index\":[\"C\",\"Q\",\"S\"],\"names\":[\"C\",\"Q\",\"S\"]},\"selected\":{\"id\":\"1867\"},\"selection_policy\":{\"id\":\"1866\"}},\"id\":\"1758\",\"type\":\"ColumnDataSource\"},{\"attributes\":{\"bottom_units\":\"screen\",\"coordinates\":null,\"fill_alpha\":0.5,\"fill_color\":\"lightgrey\",\"group\":null,\"left_units\":\"screen\",\"level\":\"overlay\",\"line_alpha\":1.0,\"line_color\":\"black\",\"line_dash\":[4,4],\"line_width\":2,\"right_units\":\"screen\",\"syncable\":false,\"top_units\":\"screen\"},\"id\":\"1783\",\"type\":\"BoxAnnotation\"},{\"attributes\":{},\"id\":\"1771\",\"type\":\"CategoricalTicker\"},{\"attributes\":{\"fill_alpha\":{\"value\":0.1},\"fill_color\":{\"value\":\"#1f77b4\"},\"hatch_alpha\":{\"value\":0.1},\"line_alpha\":{\"value\":0.1},\"line_color\":{\"value\":\"#1f77b4\"},\"top\":{\"field\":\"frequency\"},\"width\":{\"value\":0.6666666666666666},\"x\":{\"field\":\"names\"}},\"id\":\"1795\",\"type\":\"VBar\"},{\"attributes\":{\"tools\":[{\"id\":\"1777\"},{\"id\":\"1778\"},{\"id\":\"1779\"},{\"id\":\"1780\"},{\"id\":\"1781\"},{\"id\":\"1782\"},{\"id\":\"1784\"}]},\"id\":\"1785\",\"type\":\"Toolbar\"},{\"attributes\":{},\"id\":\"1866\",\"type\":\"UnionRenderers\"},{\"attributes\":{},\"id\":\"1867\",\"type\":\"Selection\"},{\"attributes\":{\"axis_label\":\"embarked\",\"axis_label_standoff\":10,\"axis_label_text_color\":\"#E0E0E0\",\"axis_label_text_font\":\"Helvetica\",\"axis_label_text_font_size\":\"1.25em\",\"axis_label_text_font_style\":\"normal\",\"axis_line_alpha\":0,\"axis_line_color\":\"#E0E0E0\",\"coordinates\":null,\"formatter\":{\"id\":\"1864\"},\"group\":null,\"major_label_policy\":{\"id\":\"1865\"},\"major_label_text_color\":\"#E0E0E0\",\"major_label_text_font\":\"Helvetica\",\"major_label_text_font_size\":\"1.025em\",\"major_tick_line_alpha\":0,\"major_tick_line_color\":\"#E0E0E0\",\"minor_tick_line_alpha\":0,\"minor_tick_line_color\":\"#E0E0E0\",\"ticker\":{\"id\":\"1771\"}},\"id\":\"1770\",\"type\":\"CategoricalAxis\"},{\"attributes\":{\"fill_color\":{\"value\":\"#1f77b4\"},\"line_color\":{\"value\":\"#1f77b4\"},\"top\":{\"field\":\"frequency\"},\"width\":{\"value\":0.6666666666666666},\"x\":{\"field\":\"names\"}},\"id\":\"1794\",\"type\":\"VBar\"},{\"attributes\":{\"fill_alpha\":{\"value\":0.2},\"fill_color\":{\"value\":\"#1f77b4\"},\"hatch_alpha\":{\"value\":0.2},\"line_alpha\":{\"value\":0.2},\"line_color\":{\"value\":\"#1f77b4\"},\"top\":{\"field\":\"frequency\"},\"width\":{\"value\":0.6666666666666666},\"x\":{\"field\":\"names\"}},\"id\":\"1796\",\"type\":\"VBar\"},{\"attributes\":{},\"id\":\"1764\",\"type\":\"DataRange1d\"},{\"attributes\":{\"coordinates\":null,\"group\":null,\"text\":\"Distribution by embarked\",\"text_color\":\"#E0E0E0\",\"text_font\":\"Helvetica\",\"text_font_size\":\"1.15em\"},\"id\":\"1760\",\"type\":\"Title\"},{\"attributes\":{},\"id\":\"1768\",\"type\":\"LinearScale\"},{\"attributes\":{\"axis_label_standoff\":10,\"axis_label_text_color\":\"#E0E0E0\",\"axis_label_text_font\":\"Helvetica\",\"axis_label_text_font_size\":\"1.25em\",\"axis_label_text_font_style\":\"normal\",\"axis_line_alpha\":0,\"axis_line_color\":\"#E0E0E0\",\"coordinates\":null,\"formatter\":{\"id\":\"1861\"},\"group\":null,\"major_label_policy\":{\"id\":\"1862\"},\"major_label_text_color\":\"#E0E0E0\",\"major_label_text_font\":\"Helvetica\",\"major_label_text_font_size\":\"1.025em\",\"major_tick_line_alpha\":0,\"major_tick_line_color\":\"#E0E0E0\",\"minor_tick_line_alpha\":0,\"minor_tick_line_color\":\"#E0E0E0\",\"ticker\":{\"id\":\"1774\"}},\"id\":\"1773\",\"type\":\"LinearAxis\"},{\"attributes\":{},\"id\":\"1766\",\"type\":\"CategoricalScale\"},{\"attributes\":{},\"id\":\"1774\",\"type\":\"BasicTicker\"},{\"attributes\":{\"source\":{\"id\":\"1758\"}},\"id\":\"1798\",\"type\":\"CDSView\"},{\"attributes\":{\"factors\":[\"C\",\"Q\",\"S\"]},\"id\":\"1762\",\"type\":\"FactorRange\"},{\"attributes\":{\"coordinates\":null,\"data_source\":{\"id\":\"1758\"},\"glyph\":{\"id\":\"1794\"},\"group\":null,\"hover_glyph\":null,\"muted_glyph\":{\"id\":\"1796\"},\"nonselection_glyph\":{\"id\":\"1795\"},\"view\":{\"id\":\"1798\"}},\"id\":\"1797\",\"type\":\"GlyphRenderer\"}],\"root_ids\":[\"1759\"]},\"title\":\"Bokeh Application\",\"version\":\"2.4.1\"}};\n  const render_items = [{\"docid\":\"c9114970-20c8-4c1c-b52d-0003a2083cec\",\"root_ids\":[\"1759\"],\"roots\":{\"1759\":\"53464f50-75bf-4309-b8d8-997ee7e3fde9\"}}];\n  root.Bokeh.embed.embed_items_notebook(docs_json, render_items);\n\n  }\n  if (root.Bokeh !== undefined) {\n    embed_document(root);\n  } else {\n    let attempts = 0;\n    const timer = setInterval(function(root) {\n      if (root.Bokeh !== undefined) {\n        clearInterval(timer);\n        embed_document(root);\n      } else {\n        attempts++;\n        if (attempts > 100) {\n          clearInterval(timer);\n          console.log(\"Bokeh: ERROR: Unable to run BokehJS code because BokehJS library is missing\");\n        }\n      }\n    }, 10, root)\n  }\n})(window);",
      "application/vnd.bokehjs_exec.v0+json": ""
     },
     "metadata": {
      "application/vnd.bokehjs_exec.v0+json": {
       "id": "1759"
      }
     },
     "output_type": "display_data"
    }
   ],
   "source": [
    "plot_bokeh_vbar(train_data, \"embarked\", False)"
   ],
   "metadata": {
    "collapsed": false,
    "pycharm": {
     "name": "#%%\n"
    }
   }
  },
  {
   "cell_type": "markdown",
   "source": [
    "Most of the passengers embarked from the Southampton port. Not sure if this feature provides any useful information."
   ],
   "metadata": {
    "collapsed": false,
    "pycharm": {
     "name": "#%% md\n"
    }
   }
  },
  {
   "cell_type": "markdown",
   "id": "c3de396c-b157-4031-8f05-d9f2df2ec50a",
   "metadata": {
    "tags": [],
    "pycharm": {
     "name": "#%% md\n"
    }
   },
   "source": [
    "### Pairwise"
   ]
  },
  {
   "cell_type": "code",
   "execution_count": 31,
   "id": "f38d3866-df2a-44a6-9a56-253750cd00bb",
   "metadata": {
    "pycharm": {
     "name": "#%%\n"
    }
   },
   "outputs": [
    {
     "data": {
      "text/plain": "Index(['passengerid', 'survived', 'pclass', 'name', 'sex', 'age', 'sibsp',\n       'parch', 'ticket', 'fare', 'cabin', 'embarked'],\n      dtype='object')"
     },
     "execution_count": 31,
     "metadata": {},
     "output_type": "execute_result"
    }
   ],
   "source": [
    "train_data.columns"
   ]
  },
  {
   "cell_type": "code",
   "execution_count": 31,
   "id": "ec2251c9-bfcb-4cb3-be3b-657d547ed4ab",
   "metadata": {
    "pycharm": {
     "name": "#%%\n"
    }
   },
   "outputs": [],
   "source": []
  },
  {
   "cell_type": "code",
   "execution_count": 31,
   "id": "1eb2ec14-0a2a-4dc1-8a18-8669cd4d70bf",
   "metadata": {
    "pycharm": {
     "name": "#%%\n"
    }
   },
   "outputs": [],
   "source": []
  },
  {
   "cell_type": "code",
   "execution_count": 31,
   "id": "b392dd47-062f-4ff1-bf14-990f1098e276",
   "metadata": {
    "pycharm": {
     "name": "#%%\n"
    }
   },
   "outputs": [],
   "source": []
  },
  {
   "cell_type": "markdown",
   "id": "b74d8861-ea35-437b-b7c9-ef0dd60428d8",
   "metadata": {
    "tags": [],
    "pycharm": {
     "name": "#%% md\n"
    }
   },
   "source": [
    "## Preprocessing"
   ]
  },
  {
   "cell_type": "code",
   "execution_count": 31,
   "id": "df7a1cc6-cbd1-49de-8d48-c2386c7e080d",
   "metadata": {
    "pycharm": {
     "name": "#%%\n"
    }
   },
   "outputs": [],
   "source": []
  },
  {
   "cell_type": "code",
   "execution_count": 31,
   "id": "9ccd1888-128f-4e14-849c-c509d88929e5",
   "metadata": {
    "pycharm": {
     "name": "#%%\n"
    }
   },
   "outputs": [],
   "source": []
  },
  {
   "cell_type": "code",
   "execution_count": 31,
   "id": "d16cdec7-077e-4d2a-8b3b-f2e08a979a5f",
   "metadata": {
    "pycharm": {
     "name": "#%%\n"
    }
   },
   "outputs": [],
   "source": []
  },
  {
   "cell_type": "code",
   "execution_count": 31,
   "id": "4cb6f301-bb23-435d-9a33-46709451409d",
   "metadata": {
    "pycharm": {
     "name": "#%%\n"
    }
   },
   "outputs": [],
   "source": []
  },
  {
   "cell_type": "markdown",
   "id": "21bbd154-e0bb-460d-b6eb-82a729449258",
   "metadata": {
    "tags": [],
    "pycharm": {
     "name": "#%% md\n"
    }
   },
   "source": [
    "## Modeling"
   ]
  },
  {
   "cell_type": "markdown",
   "id": "894806b3-ee91-45b0-b159-2e298e084a5b",
   "metadata": {
    "pycharm": {
     "name": "#%% md\n"
    }
   },
   "source": [
    "### Logistic Regression"
   ]
  },
  {
   "cell_type": "code",
   "execution_count": 31,
   "id": "13aac4ea-f52a-497e-b9e9-c3c7c9217999",
   "metadata": {
    "pycharm": {
     "name": "#%%\n"
    }
   },
   "outputs": [],
   "source": []
  },
  {
   "cell_type": "markdown",
   "id": "05dcea2a-893d-408e-aec5-2474f28a67a9",
   "metadata": {
    "pycharm": {
     "name": "#%% md\n"
    }
   },
   "source": [
    "### Random Forest"
   ]
  },
  {
   "cell_type": "code",
   "execution_count": 31,
   "id": "5da5e178-7838-4bc5-93d6-6f048c69366a",
   "metadata": {
    "pycharm": {
     "name": "#%%\n"
    }
   },
   "outputs": [],
   "source": []
  },
  {
   "cell_type": "markdown",
   "id": "4dd46f29-1f97-466c-883d-3fcc9cecb57e",
   "metadata": {
    "pycharm": {
     "name": "#%% md\n"
    }
   },
   "source": [
    "### Bayes Classifier"
   ]
  },
  {
   "cell_type": "code",
   "execution_count": 31,
   "id": "b30c3149-f817-4bd6-9482-73cb33f5cecf",
   "metadata": {
    "pycharm": {
     "name": "#%%\n"
    }
   },
   "outputs": [],
   "source": []
  },
  {
   "cell_type": "code",
   "execution_count": 31,
   "id": "1df957b1-de3b-4a7f-83a9-b32304b2ca42",
   "metadata": {
    "pycharm": {
     "name": "#%%\n"
    }
   },
   "outputs": [],
   "source": []
  },
  {
   "cell_type": "markdown",
   "id": "9b94e4ea-30b9-419a-aa99-ebf2514898b7",
   "metadata": {
    "tags": [],
    "pycharm": {
     "name": "#%% md\n"
    }
   },
   "source": [
    "## Model Evaluation"
   ]
  },
  {
   "cell_type": "code",
   "execution_count": 31,
   "id": "a9523672-5666-494d-b726-7559c57ed8bf",
   "metadata": {
    "pycharm": {
     "name": "#%%\n"
    }
   },
   "outputs": [],
   "source": []
  },
  {
   "cell_type": "code",
   "execution_count": 31,
   "id": "47837620-81c3-429f-9dfa-a73b5ca945ab",
   "metadata": {
    "pycharm": {
     "name": "#%%\n"
    }
   },
   "outputs": [],
   "source": []
  },
  {
   "cell_type": "code",
   "execution_count": 31,
   "id": "a0e1a428-f009-41d4-82be-9349a35c4ee3",
   "metadata": {
    "pycharm": {
     "name": "#%%\n"
    }
   },
   "outputs": [],
   "source": []
  },
  {
   "cell_type": "markdown",
   "id": "e5855a5d-d0a2-4157-93be-f09a06cb8402",
   "metadata": {
    "tags": [],
    "pycharm": {
     "name": "#%% md\n"
    }
   },
   "source": [
    "## Model Performance"
   ]
  },
  {
   "cell_type": "code",
   "execution_count": 31,
   "id": "65423226-d9c2-4643-84f0-99207fd3b60d",
   "metadata": {
    "pycharm": {
     "name": "#%%\n"
    }
   },
   "outputs": [],
   "source": []
  },
  {
   "cell_type": "code",
   "execution_count": 31,
   "id": "74bcfa79-3b1d-4b4c-b3b1-fb6bc65a34b4",
   "metadata": {
    "pycharm": {
     "name": "#%%\n"
    }
   },
   "outputs": [],
   "source": []
  }
 ],
 "metadata": {
  "kernelspec": {
   "display_name": "Python 3 (ipykernel)",
   "language": "python",
   "name": "python3"
  },
  "language_info": {
   "codemirror_mode": {
    "name": "ipython",
    "version": 3
   },
   "file_extension": ".py",
   "mimetype": "text/x-python",
   "name": "python",
   "nbconvert_exporter": "python",
   "pygments_lexer": "ipython3",
   "version": "3.9.7"
  }
 },
 "nbformat": 4,
 "nbformat_minor": 5
}