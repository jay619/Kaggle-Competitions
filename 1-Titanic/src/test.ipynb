{
 "cells": [
  {
   "cell_type": "code",
   "execution_count": 79,
   "id": "b06e55b5-ae3b-49fb-9a0f-1d1dc27f12f4",
   "metadata": {},
   "outputs": [],
   "source": [
    "import pandas as pd\n",
    "import numpy as np\n",
    "from bokeh.plotting import figure, show, ColumnDataSource\n",
    "from bokeh.io import output_notebook\n",
    "\n",
    "%matplotlib inline"
   ]
  },
  {
   "cell_type": "code",
   "execution_count": 2,
   "id": "fcb86ca3-b282-49bf-bcc8-b501598ee2eb",
   "metadata": {},
   "outputs": [],
   "source": [
    "FILE_PATH_TRAIN = 'https://raw.githubusercontent.com/jay619/Kaggle-Competitions/main/1-Titanic/titanic/train.csv'\n",
    "FILE_PATH_TEST = 'https://raw.githubusercontent.com/jay619/Kaggle-Competitions/main/1-Titanic/titanic/train.csv'"
   ]
  },
  {
   "cell_type": "code",
   "execution_count": 7,
   "id": "3787f27c-68dc-444e-aeb4-877ec5f59975",
   "metadata": {},
   "outputs": [],
   "source": [
    "train_data = pd.read_csv(FILE_PATH_TRAIN)\n",
    "test_data = pd.read_csv(FILE_PATH_TEST)\n",
    "train_data.columns = train_data.columns.str.lower()\n",
    "test_data.columns = test_data.columns.str.lower()"
   ]
  },
  {
   "cell_type": "code",
   "execution_count": 4,
   "id": "9f11b510-9fd7-42c2-8e49-b48c2d2641c2",
   "metadata": {},
   "outputs": [
    {
     "data": {
      "text/html": [
       "<div>\n",
       "<style scoped>\n",
       "    .dataframe tbody tr th:only-of-type {\n",
       "        vertical-align: middle;\n",
       "    }\n",
       "\n",
       "    .dataframe tbody tr th {\n",
       "        vertical-align: top;\n",
       "    }\n",
       "\n",
       "    .dataframe thead th {\n",
       "        text-align: right;\n",
       "    }\n",
       "</style>\n",
       "<table border=\"1\" class=\"dataframe\">\n",
       "  <thead>\n",
       "    <tr style=\"text-align: right;\">\n",
       "      <th></th>\n",
       "      <th>PassengerId</th>\n",
       "      <th>Survived</th>\n",
       "      <th>Pclass</th>\n",
       "      <th>Name</th>\n",
       "      <th>Sex</th>\n",
       "      <th>Age</th>\n",
       "      <th>SibSp</th>\n",
       "      <th>Parch</th>\n",
       "      <th>Ticket</th>\n",
       "      <th>Fare</th>\n",
       "      <th>Cabin</th>\n",
       "      <th>Embarked</th>\n",
       "    </tr>\n",
       "  </thead>\n",
       "  <tbody>\n",
       "    <tr>\n",
       "      <th>0</th>\n",
       "      <td>1</td>\n",
       "      <td>0</td>\n",
       "      <td>3</td>\n",
       "      <td>Braund, Mr. Owen Harris</td>\n",
       "      <td>male</td>\n",
       "      <td>22.0</td>\n",
       "      <td>1</td>\n",
       "      <td>0</td>\n",
       "      <td>A/5 21171</td>\n",
       "      <td>7.2500</td>\n",
       "      <td>NaN</td>\n",
       "      <td>S</td>\n",
       "    </tr>\n",
       "    <tr>\n",
       "      <th>1</th>\n",
       "      <td>2</td>\n",
       "      <td>1</td>\n",
       "      <td>1</td>\n",
       "      <td>Cumings, Mrs. John Bradley (Florence Briggs Th...</td>\n",
       "      <td>female</td>\n",
       "      <td>38.0</td>\n",
       "      <td>1</td>\n",
       "      <td>0</td>\n",
       "      <td>PC 17599</td>\n",
       "      <td>71.2833</td>\n",
       "      <td>C85</td>\n",
       "      <td>C</td>\n",
       "    </tr>\n",
       "    <tr>\n",
       "      <th>2</th>\n",
       "      <td>3</td>\n",
       "      <td>1</td>\n",
       "      <td>3</td>\n",
       "      <td>Heikkinen, Miss. Laina</td>\n",
       "      <td>female</td>\n",
       "      <td>26.0</td>\n",
       "      <td>0</td>\n",
       "      <td>0</td>\n",
       "      <td>STON/O2. 3101282</td>\n",
       "      <td>7.9250</td>\n",
       "      <td>NaN</td>\n",
       "      <td>S</td>\n",
       "    </tr>\n",
       "    <tr>\n",
       "      <th>3</th>\n",
       "      <td>4</td>\n",
       "      <td>1</td>\n",
       "      <td>1</td>\n",
       "      <td>Futrelle, Mrs. Jacques Heath (Lily May Peel)</td>\n",
       "      <td>female</td>\n",
       "      <td>35.0</td>\n",
       "      <td>1</td>\n",
       "      <td>0</td>\n",
       "      <td>113803</td>\n",
       "      <td>53.1000</td>\n",
       "      <td>C123</td>\n",
       "      <td>S</td>\n",
       "    </tr>\n",
       "    <tr>\n",
       "      <th>4</th>\n",
       "      <td>5</td>\n",
       "      <td>0</td>\n",
       "      <td>3</td>\n",
       "      <td>Allen, Mr. William Henry</td>\n",
       "      <td>male</td>\n",
       "      <td>35.0</td>\n",
       "      <td>0</td>\n",
       "      <td>0</td>\n",
       "      <td>373450</td>\n",
       "      <td>8.0500</td>\n",
       "      <td>NaN</td>\n",
       "      <td>S</td>\n",
       "    </tr>\n",
       "  </tbody>\n",
       "</table>\n",
       "</div>"
      ],
      "text/plain": [
       "   PassengerId  Survived  Pclass  ...     Fare Cabin  Embarked\n",
       "0            1         0       3  ...   7.2500   NaN         S\n",
       "1            2         1       1  ...  71.2833   C85         C\n",
       "2            3         1       3  ...   7.9250   NaN         S\n",
       "3            4         1       1  ...  53.1000  C123         S\n",
       "4            5         0       3  ...   8.0500   NaN         S\n",
       "\n",
       "[5 rows x 12 columns]"
      ]
     },
     "execution_count": 4,
     "metadata": {},
     "output_type": "execute_result"
    }
   ],
   "source": [
    "train_data.head()"
   ]
  },
  {
   "cell_type": "code",
   "execution_count": 8,
   "id": "31f3e6d2-84a4-433d-a477-2965ede5d7ce",
   "metadata": {},
   "outputs": [
    {
     "data": {
      "text/html": [
       "<div>\n",
       "<style scoped>\n",
       "    .dataframe tbody tr th:only-of-type {\n",
       "        vertical-align: middle;\n",
       "    }\n",
       "\n",
       "    .dataframe tbody tr th {\n",
       "        vertical-align: top;\n",
       "    }\n",
       "\n",
       "    .dataframe thead th {\n",
       "        text-align: right;\n",
       "    }\n",
       "</style>\n",
       "<table border=\"1\" class=\"dataframe\">\n",
       "  <thead>\n",
       "    <tr style=\"text-align: right;\">\n",
       "      <th></th>\n",
       "      <th>passengerid</th>\n",
       "      <th>survived</th>\n",
       "      <th>pclass</th>\n",
       "      <th>name</th>\n",
       "      <th>sex</th>\n",
       "      <th>age</th>\n",
       "      <th>sibsp</th>\n",
       "      <th>parch</th>\n",
       "      <th>ticket</th>\n",
       "      <th>fare</th>\n",
       "      <th>cabin</th>\n",
       "      <th>embarked</th>\n",
       "    </tr>\n",
       "  </thead>\n",
       "  <tbody>\n",
       "    <tr>\n",
       "      <th>0</th>\n",
       "      <td>1</td>\n",
       "      <td>0</td>\n",
       "      <td>3</td>\n",
       "      <td>Braund, Mr. Owen Harris</td>\n",
       "      <td>male</td>\n",
       "      <td>22.0</td>\n",
       "      <td>1</td>\n",
       "      <td>0</td>\n",
       "      <td>A/5 21171</td>\n",
       "      <td>7.2500</td>\n",
       "      <td>NaN</td>\n",
       "      <td>S</td>\n",
       "    </tr>\n",
       "    <tr>\n",
       "      <th>1</th>\n",
       "      <td>2</td>\n",
       "      <td>1</td>\n",
       "      <td>1</td>\n",
       "      <td>Cumings, Mrs. John Bradley (Florence Briggs Th...</td>\n",
       "      <td>female</td>\n",
       "      <td>38.0</td>\n",
       "      <td>1</td>\n",
       "      <td>0</td>\n",
       "      <td>PC 17599</td>\n",
       "      <td>71.2833</td>\n",
       "      <td>C85</td>\n",
       "      <td>C</td>\n",
       "    </tr>\n",
       "    <tr>\n",
       "      <th>2</th>\n",
       "      <td>3</td>\n",
       "      <td>1</td>\n",
       "      <td>3</td>\n",
       "      <td>Heikkinen, Miss. Laina</td>\n",
       "      <td>female</td>\n",
       "      <td>26.0</td>\n",
       "      <td>0</td>\n",
       "      <td>0</td>\n",
       "      <td>STON/O2. 3101282</td>\n",
       "      <td>7.9250</td>\n",
       "      <td>NaN</td>\n",
       "      <td>S</td>\n",
       "    </tr>\n",
       "    <tr>\n",
       "      <th>3</th>\n",
       "      <td>4</td>\n",
       "      <td>1</td>\n",
       "      <td>1</td>\n",
       "      <td>Futrelle, Mrs. Jacques Heath (Lily May Peel)</td>\n",
       "      <td>female</td>\n",
       "      <td>35.0</td>\n",
       "      <td>1</td>\n",
       "      <td>0</td>\n",
       "      <td>113803</td>\n",
       "      <td>53.1000</td>\n",
       "      <td>C123</td>\n",
       "      <td>S</td>\n",
       "    </tr>\n",
       "    <tr>\n",
       "      <th>4</th>\n",
       "      <td>5</td>\n",
       "      <td>0</td>\n",
       "      <td>3</td>\n",
       "      <td>Allen, Mr. William Henry</td>\n",
       "      <td>male</td>\n",
       "      <td>35.0</td>\n",
       "      <td>0</td>\n",
       "      <td>0</td>\n",
       "      <td>373450</td>\n",
       "      <td>8.0500</td>\n",
       "      <td>NaN</td>\n",
       "      <td>S</td>\n",
       "    </tr>\n",
       "  </tbody>\n",
       "</table>\n",
       "</div>"
      ],
      "text/plain": [
       "   passengerid  survived  pclass  ...     fare cabin  embarked\n",
       "0            1         0       3  ...   7.2500   NaN         S\n",
       "1            2         1       1  ...  71.2833   C85         C\n",
       "2            3         1       3  ...   7.9250   NaN         S\n",
       "3            4         1       1  ...  53.1000  C123         S\n",
       "4            5         0       3  ...   8.0500   NaN         S\n",
       "\n",
       "[5 rows x 12 columns]"
      ]
     },
     "execution_count": 8,
     "metadata": {},
     "output_type": "execute_result"
    }
   ],
   "source": [
    "test_data.head()"
   ]
  },
  {
   "cell_type": "markdown",
   "id": "ec9ee977-36b3-4ac6-b010-d7df9420f089",
   "metadata": {
    "tags": []
   },
   "source": [
    "## EDA"
   ]
  },
  {
   "cell_type": "code",
   "execution_count": 40,
   "id": "579d57a2-4b49-41b0-b7f1-0d247b20f2e5",
   "metadata": {},
   "outputs": [],
   "source": [
    "def describe_category(data):\n",
    "    nas = data.isna().sum()\n",
    "    if nas > 0:\n",
    "        print(f\"{nas} records missing data\")\n",
    "    described = data.value_counts().to_frame(name=\"counts\").sort_index()\n",
    "    described[\"frequency\"] = data.value_counts(normalize=True).sort_index()\n",
    "    described[\"names\"] = data.value_counts().sort_index().index.tolist()\n",
    "    return described"
   ]
  },
  {
   "cell_type": "code",
   "execution_count": 195,
   "id": "a907efc2-b8b2-47a5-9a10-0c5de021b1e4",
   "metadata": {},
   "outputs": [],
   "source": [
    "def plot_bokeh_vbar(data, feature):\n",
    "    described = describe_category(data[feature])\n",
    "\n",
    "    source = ColumnDataSource(data=described)\n",
    "\n",
    "    p = figure(\n",
    "        title = f\"Distribution by {feature}\",\n",
    "        plot_width=400,\n",
    "        plot_height=400,\n",
    "        tooltips=[\n",
    "            (\"Value\", \"@names\"),\n",
    "            (\"counts\", \"@counts\"),\n",
    "            (\"frequency\", \"@frequency{%0.1f}\")\n",
    "        ],\n",
    "        x_axis_label=f\"{feature}\",\n",
    "        x_range=described[\"names\"]\n",
    "    )\n",
    "    \n",
    "    width = 1/1.5\n",
    "    p.vbar('names', top='frequency', width=width, source=source)\n",
    "    show(p)"
   ]
  },
  {
   "cell_type": "code",
   "execution_count": 49,
   "id": "a2f47047-dac1-4f42-83ab-d801384f0862",
   "metadata": {},
   "outputs": [
    {
     "data": {
      "text/html": [
       "\n",
       "    <div class=\"bk-root\">\n",
       "        <a href=\"https://bokeh.org\" target=\"_blank\" class=\"bk-logo bk-logo-small bk-logo-notebook\"></a>\n",
       "        <span id=\"1553\">Loading BokehJS ...</span>\n",
       "    </div>"
      ]
     },
     "metadata": {},
     "output_type": "display_data"
    },
    {
     "data": {
      "application/javascript": [
       "\n",
       "(function(root) {\n",
       "  function now() {\n",
       "    return new Date();\n",
       "  }\n",
       "\n",
       "  const force = true;\n",
       "\n",
       "  if (typeof root._bokeh_onload_callbacks === \"undefined\" || force === true) {\n",
       "    root._bokeh_onload_callbacks = [];\n",
       "    root._bokeh_is_loading = undefined;\n",
       "  }\n",
       "\n",
       "  const JS_MIME_TYPE = 'application/javascript';\n",
       "  const HTML_MIME_TYPE = 'text/html';\n",
       "  const EXEC_MIME_TYPE = 'application/vnd.bokehjs_exec.v0+json';\n",
       "  const CLASS_NAME = 'output_bokeh rendered_html';\n",
       "\n",
       "  /**\n",
       "   * Render data to the DOM node\n",
       "   */\n",
       "  function render(props, node) {\n",
       "    const script = document.createElement(\"script\");\n",
       "    node.appendChild(script);\n",
       "  }\n",
       "\n",
       "  /**\n",
       "   * Handle when an output is cleared or removed\n",
       "   */\n",
       "  function handleClearOutput(event, handle) {\n",
       "    const cell = handle.cell;\n",
       "\n",
       "    const id = cell.output_area._bokeh_element_id;\n",
       "    const server_id = cell.output_area._bokeh_server_id;\n",
       "    // Clean up Bokeh references\n",
       "    if (id != null && id in Bokeh.index) {\n",
       "      Bokeh.index[id].model.document.clear();\n",
       "      delete Bokeh.index[id];\n",
       "    }\n",
       "\n",
       "    if (server_id !== undefined) {\n",
       "      // Clean up Bokeh references\n",
       "      const cmd_clean = \"from bokeh.io.state import curstate; print(curstate().uuid_to_server['\" + server_id + \"'].get_sessions()[0].document.roots[0]._id)\";\n",
       "      cell.notebook.kernel.execute(cmd_clean, {\n",
       "        iopub: {\n",
       "          output: function(msg) {\n",
       "            const id = msg.content.text.trim();\n",
       "            if (id in Bokeh.index) {\n",
       "              Bokeh.index[id].model.document.clear();\n",
       "              delete Bokeh.index[id];\n",
       "            }\n",
       "          }\n",
       "        }\n",
       "      });\n",
       "      // Destroy server and session\n",
       "      const cmd_destroy = \"import bokeh.io.notebook as ion; ion.destroy_server('\" + server_id + \"')\";\n",
       "      cell.notebook.kernel.execute(cmd_destroy);\n",
       "    }\n",
       "  }\n",
       "\n",
       "  /**\n",
       "   * Handle when a new output is added\n",
       "   */\n",
       "  function handleAddOutput(event, handle) {\n",
       "    const output_area = handle.output_area;\n",
       "    const output = handle.output;\n",
       "\n",
       "    // limit handleAddOutput to display_data with EXEC_MIME_TYPE content only\n",
       "    if ((output.output_type != \"display_data\") || (!Object.prototype.hasOwnProperty.call(output.data, EXEC_MIME_TYPE))) {\n",
       "      return\n",
       "    }\n",
       "\n",
       "    const toinsert = output_area.element.find(\".\" + CLASS_NAME.split(' ')[0]);\n",
       "\n",
       "    if (output.metadata[EXEC_MIME_TYPE][\"id\"] !== undefined) {\n",
       "      toinsert[toinsert.length - 1].firstChild.textContent = output.data[JS_MIME_TYPE];\n",
       "      // store reference to embed id on output_area\n",
       "      output_area._bokeh_element_id = output.metadata[EXEC_MIME_TYPE][\"id\"];\n",
       "    }\n",
       "    if (output.metadata[EXEC_MIME_TYPE][\"server_id\"] !== undefined) {\n",
       "      const bk_div = document.createElement(\"div\");\n",
       "      bk_div.innerHTML = output.data[HTML_MIME_TYPE];\n",
       "      const script_attrs = bk_div.children[0].attributes;\n",
       "      for (let i = 0; i < script_attrs.length; i++) {\n",
       "        toinsert[toinsert.length - 1].firstChild.setAttribute(script_attrs[i].name, script_attrs[i].value);\n",
       "        toinsert[toinsert.length - 1].firstChild.textContent = bk_div.children[0].textContent\n",
       "      }\n",
       "      // store reference to server id on output_area\n",
       "      output_area._bokeh_server_id = output.metadata[EXEC_MIME_TYPE][\"server_id\"];\n",
       "    }\n",
       "  }\n",
       "\n",
       "  function register_renderer(events, OutputArea) {\n",
       "\n",
       "    function append_mime(data, metadata, element) {\n",
       "      // create a DOM node to render to\n",
       "      const toinsert = this.create_output_subarea(\n",
       "        metadata,\n",
       "        CLASS_NAME,\n",
       "        EXEC_MIME_TYPE\n",
       "      );\n",
       "      this.keyboard_manager.register_events(toinsert);\n",
       "      // Render to node\n",
       "      const props = {data: data, metadata: metadata[EXEC_MIME_TYPE]};\n",
       "      render(props, toinsert[toinsert.length - 1]);\n",
       "      element.append(toinsert);\n",
       "      return toinsert\n",
       "    }\n",
       "\n",
       "    /* Handle when an output is cleared or removed */\n",
       "    events.on('clear_output.CodeCell', handleClearOutput);\n",
       "    events.on('delete.Cell', handleClearOutput);\n",
       "\n",
       "    /* Handle when a new output is added */\n",
       "    events.on('output_added.OutputArea', handleAddOutput);\n",
       "\n",
       "    /**\n",
       "     * Register the mime type and append_mime function with output_area\n",
       "     */\n",
       "    OutputArea.prototype.register_mime_type(EXEC_MIME_TYPE, append_mime, {\n",
       "      /* Is output safe? */\n",
       "      safe: true,\n",
       "      /* Index of renderer in `output_area.display_order` */\n",
       "      index: 0\n",
       "    });\n",
       "  }\n",
       "\n",
       "  // register the mime type if in Jupyter Notebook environment and previously unregistered\n",
       "  if (root.Jupyter !== undefined) {\n",
       "    const events = require('base/js/events');\n",
       "    const OutputArea = require('notebook/js/outputarea').OutputArea;\n",
       "\n",
       "    if (OutputArea.prototype.mime_types().indexOf(EXEC_MIME_TYPE) == -1) {\n",
       "      register_renderer(events, OutputArea);\n",
       "    }\n",
       "  }\n",
       "\n",
       "  \n",
       "  if (typeof (root._bokeh_timeout) === \"undefined\" || force === true) {\n",
       "    root._bokeh_timeout = Date.now() + 5000;\n",
       "    root._bokeh_failed_load = false;\n",
       "  }\n",
       "\n",
       "  const NB_LOAD_WARNING = {'data': {'text/html':\n",
       "     \"<div style='background-color: #fdd'>\\n\"+\n",
       "     \"<p>\\n\"+\n",
       "     \"BokehJS does not appear to have successfully loaded. If loading BokehJS from CDN, this \\n\"+\n",
       "     \"may be due to a slow or bad network connection. Possible fixes:\\n\"+\n",
       "     \"</p>\\n\"+\n",
       "     \"<ul>\\n\"+\n",
       "     \"<li>re-rerun `output_notebook()` to attempt to load from CDN again, or</li>\\n\"+\n",
       "     \"<li>use INLINE resources instead, as so:</li>\\n\"+\n",
       "     \"</ul>\\n\"+\n",
       "     \"<code>\\n\"+\n",
       "     \"from bokeh.resources import INLINE\\n\"+\n",
       "     \"output_notebook(resources=INLINE)\\n\"+\n",
       "     \"</code>\\n\"+\n",
       "     \"</div>\"}};\n",
       "\n",
       "  function display_loaded() {\n",
       "    const el = document.getElementById(\"1553\");\n",
       "    if (el != null) {\n",
       "      el.textContent = \"BokehJS is loading...\";\n",
       "    }\n",
       "    if (root.Bokeh !== undefined) {\n",
       "      if (el != null) {\n",
       "        el.textContent = \"BokehJS \" + root.Bokeh.version + \" successfully loaded.\";\n",
       "      }\n",
       "    } else if (Date.now() < root._bokeh_timeout) {\n",
       "      setTimeout(display_loaded, 100)\n",
       "    }\n",
       "  }\n",
       "\n",
       "\n",
       "  function run_callbacks() {\n",
       "    try {\n",
       "      root._bokeh_onload_callbacks.forEach(function(callback) {\n",
       "        if (callback != null)\n",
       "          callback();\n",
       "      });\n",
       "    } finally {\n",
       "      delete root._bokeh_onload_callbacks\n",
       "    }\n",
       "    console.debug(\"Bokeh: all callbacks have finished\");\n",
       "  }\n",
       "\n",
       "  function load_libs(css_urls, js_urls, callback) {\n",
       "    if (css_urls == null) css_urls = [];\n",
       "    if (js_urls == null) js_urls = [];\n",
       "\n",
       "    root._bokeh_onload_callbacks.push(callback);\n",
       "    if (root._bokeh_is_loading > 0) {\n",
       "      console.debug(\"Bokeh: BokehJS is being loaded, scheduling callback at\", now());\n",
       "      return null;\n",
       "    }\n",
       "    if (js_urls == null || js_urls.length === 0) {\n",
       "      run_callbacks();\n",
       "      return null;\n",
       "    }\n",
       "    console.debug(\"Bokeh: BokehJS not loaded, scheduling load and callback at\", now());\n",
       "    root._bokeh_is_loading = css_urls.length + js_urls.length;\n",
       "\n",
       "    function on_load() {\n",
       "      root._bokeh_is_loading--;\n",
       "      if (root._bokeh_is_loading === 0) {\n",
       "        console.debug(\"Bokeh: all BokehJS libraries/stylesheets loaded\");\n",
       "        run_callbacks()\n",
       "      }\n",
       "    }\n",
       "\n",
       "    function on_error(url) {\n",
       "      console.error(\"failed to load \" + url);\n",
       "    }\n",
       "\n",
       "    for (let i = 0; i < css_urls.length; i++) {\n",
       "      const url = css_urls[i];\n",
       "      const element = document.createElement(\"link\");\n",
       "      element.onload = on_load;\n",
       "      element.onerror = on_error.bind(null, url);\n",
       "      element.rel = \"stylesheet\";\n",
       "      element.type = \"text/css\";\n",
       "      element.href = url;\n",
       "      console.debug(\"Bokeh: injecting link tag for BokehJS stylesheet: \", url);\n",
       "      document.body.appendChild(element);\n",
       "    }\n",
       "\n",
       "    for (let i = 0; i < js_urls.length; i++) {\n",
       "      const url = js_urls[i];\n",
       "      const element = document.createElement('script');\n",
       "      element.onload = on_load;\n",
       "      element.onerror = on_error.bind(null, url);\n",
       "      element.async = false;\n",
       "      element.src = url;\n",
       "      console.debug(\"Bokeh: injecting script tag for BokehJS library: \", url);\n",
       "      document.head.appendChild(element);\n",
       "    }\n",
       "  };\n",
       "\n",
       "  function inject_raw_css(css) {\n",
       "    const element = document.createElement(\"style\");\n",
       "    element.appendChild(document.createTextNode(css));\n",
       "    document.body.appendChild(element);\n",
       "  }\n",
       "\n",
       "  \n",
       "  const js_urls = [\"https://cdn.bokeh.org/bokeh/release/bokeh-2.4.1.min.js\", \"https://cdn.bokeh.org/bokeh/release/bokeh-gl-2.4.1.min.js\", \"https://cdn.bokeh.org/bokeh/release/bokeh-widgets-2.4.1.min.js\", \"https://cdn.bokeh.org/bokeh/release/bokeh-tables-2.4.1.min.js\", \"https://cdn.bokeh.org/bokeh/release/bokeh-mathjax-2.4.1.min.js\"];\n",
       "  const css_urls = [];\n",
       "  \n",
       "\n",
       "  const inline_js = [\n",
       "    function(Bokeh) {\n",
       "      Bokeh.set_log_level(\"info\");\n",
       "    },\n",
       "    function(Bokeh) {\n",
       "    \n",
       "    \n",
       "    }\n",
       "  ];\n",
       "\n",
       "  function run_inline_js() {\n",
       "    \n",
       "    if (root.Bokeh !== undefined || force === true) {\n",
       "      \n",
       "    for (let i = 0; i < inline_js.length; i++) {\n",
       "      inline_js[i].call(root, root.Bokeh);\n",
       "    }\n",
       "    if (force === true) {\n",
       "        display_loaded();\n",
       "      }} else if (Date.now() < root._bokeh_timeout) {\n",
       "      setTimeout(run_inline_js, 100);\n",
       "    } else if (!root._bokeh_failed_load) {\n",
       "      console.log(\"Bokeh: BokehJS failed to load within specified timeout.\");\n",
       "      root._bokeh_failed_load = true;\n",
       "    } else if (force !== true) {\n",
       "      const cell = $(document.getElementById(\"1553\")).parents('.cell').data().cell;\n",
       "      cell.output_area.append_execute_result(NB_LOAD_WARNING)\n",
       "    }\n",
       "\n",
       "  }\n",
       "\n",
       "  if (root._bokeh_is_loading === 0) {\n",
       "    console.debug(\"Bokeh: BokehJS loaded, going straight to plotting\");\n",
       "    run_inline_js();\n",
       "  } else {\n",
       "    load_libs(css_urls, js_urls, function() {\n",
       "      console.debug(\"Bokeh: BokehJS plotting callback run at\", now());\n",
       "      run_inline_js();\n",
       "    });\n",
       "  }\n",
       "}(window));"
      ],
      "application/vnd.bokehjs_load.v0+json": "\n(function(root) {\n  function now() {\n    return new Date();\n  }\n\n  const force = true;\n\n  if (typeof root._bokeh_onload_callbacks === \"undefined\" || force === true) {\n    root._bokeh_onload_callbacks = [];\n    root._bokeh_is_loading = undefined;\n  }\n\n  \n\n  \n  if (typeof (root._bokeh_timeout) === \"undefined\" || force === true) {\n    root._bokeh_timeout = Date.now() + 5000;\n    root._bokeh_failed_load = false;\n  }\n\n  const NB_LOAD_WARNING = {'data': {'text/html':\n     \"<div style='background-color: #fdd'>\\n\"+\n     \"<p>\\n\"+\n     \"BokehJS does not appear to have successfully loaded. If loading BokehJS from CDN, this \\n\"+\n     \"may be due to a slow or bad network connection. Possible fixes:\\n\"+\n     \"</p>\\n\"+\n     \"<ul>\\n\"+\n     \"<li>re-rerun `output_notebook()` to attempt to load from CDN again, or</li>\\n\"+\n     \"<li>use INLINE resources instead, as so:</li>\\n\"+\n     \"</ul>\\n\"+\n     \"<code>\\n\"+\n     \"from bokeh.resources import INLINE\\n\"+\n     \"output_notebook(resources=INLINE)\\n\"+\n     \"</code>\\n\"+\n     \"</div>\"}};\n\n  function display_loaded() {\n    const el = document.getElementById(\"1553\");\n    if (el != null) {\n      el.textContent = \"BokehJS is loading...\";\n    }\n    if (root.Bokeh !== undefined) {\n      if (el != null) {\n        el.textContent = \"BokehJS \" + root.Bokeh.version + \" successfully loaded.\";\n      }\n    } else if (Date.now() < root._bokeh_timeout) {\n      setTimeout(display_loaded, 100)\n    }\n  }\n\n\n  function run_callbacks() {\n    try {\n      root._bokeh_onload_callbacks.forEach(function(callback) {\n        if (callback != null)\n          callback();\n      });\n    } finally {\n      delete root._bokeh_onload_callbacks\n    }\n    console.debug(\"Bokeh: all callbacks have finished\");\n  }\n\n  function load_libs(css_urls, js_urls, callback) {\n    if (css_urls == null) css_urls = [];\n    if (js_urls == null) js_urls = [];\n\n    root._bokeh_onload_callbacks.push(callback);\n    if (root._bokeh_is_loading > 0) {\n      console.debug(\"Bokeh: BokehJS is being loaded, scheduling callback at\", now());\n      return null;\n    }\n    if (js_urls == null || js_urls.length === 0) {\n      run_callbacks();\n      return null;\n    }\n    console.debug(\"Bokeh: BokehJS not loaded, scheduling load and callback at\", now());\n    root._bokeh_is_loading = css_urls.length + js_urls.length;\n\n    function on_load() {\n      root._bokeh_is_loading--;\n      if (root._bokeh_is_loading === 0) {\n        console.debug(\"Bokeh: all BokehJS libraries/stylesheets loaded\");\n        run_callbacks()\n      }\n    }\n\n    function on_error(url) {\n      console.error(\"failed to load \" + url);\n    }\n\n    for (let i = 0; i < css_urls.length; i++) {\n      const url = css_urls[i];\n      const element = document.createElement(\"link\");\n      element.onload = on_load;\n      element.onerror = on_error.bind(null, url);\n      element.rel = \"stylesheet\";\n      element.type = \"text/css\";\n      element.href = url;\n      console.debug(\"Bokeh: injecting link tag for BokehJS stylesheet: \", url);\n      document.body.appendChild(element);\n    }\n\n    for (let i = 0; i < js_urls.length; i++) {\n      const url = js_urls[i];\n      const element = document.createElement('script');\n      element.onload = on_load;\n      element.onerror = on_error.bind(null, url);\n      element.async = false;\n      element.src = url;\n      console.debug(\"Bokeh: injecting script tag for BokehJS library: \", url);\n      document.head.appendChild(element);\n    }\n  };\n\n  function inject_raw_css(css) {\n    const element = document.createElement(\"style\");\n    element.appendChild(document.createTextNode(css));\n    document.body.appendChild(element);\n  }\n\n  \n  const js_urls = [\"https://cdn.bokeh.org/bokeh/release/bokeh-2.4.1.min.js\", \"https://cdn.bokeh.org/bokeh/release/bokeh-gl-2.4.1.min.js\", \"https://cdn.bokeh.org/bokeh/release/bokeh-widgets-2.4.1.min.js\", \"https://cdn.bokeh.org/bokeh/release/bokeh-tables-2.4.1.min.js\", \"https://cdn.bokeh.org/bokeh/release/bokeh-mathjax-2.4.1.min.js\"];\n  const css_urls = [];\n  \n\n  const inline_js = [\n    function(Bokeh) {\n      Bokeh.set_log_level(\"info\");\n    },\n    function(Bokeh) {\n    \n    \n    }\n  ];\n\n  function run_inline_js() {\n    \n    if (root.Bokeh !== undefined || force === true) {\n      \n    for (let i = 0; i < inline_js.length; i++) {\n      inline_js[i].call(root, root.Bokeh);\n    }\n    if (force === true) {\n        display_loaded();\n      }} else if (Date.now() < root._bokeh_timeout) {\n      setTimeout(run_inline_js, 100);\n    } else if (!root._bokeh_failed_load) {\n      console.log(\"Bokeh: BokehJS failed to load within specified timeout.\");\n      root._bokeh_failed_load = true;\n    } else if (force !== true) {\n      const cell = $(document.getElementById(\"1553\")).parents('.cell').data().cell;\n      cell.output_area.append_execute_result(NB_LOAD_WARNING)\n    }\n\n  }\n\n  if (root._bokeh_is_loading === 0) {\n    console.debug(\"Bokeh: BokehJS loaded, going straight to plotting\");\n    run_inline_js();\n  } else {\n    load_libs(css_urls, js_urls, function() {\n      console.debug(\"Bokeh: BokehJS plotting callback run at\", now());\n      run_inline_js();\n    });\n  }\n}(window));"
     },
     "metadata": {},
     "output_type": "display_data"
    }
   ],
   "source": [
    "output_notebook()"
   ]
  },
  {
   "cell_type": "markdown",
   "id": "f5609fa8-81a3-434a-8757-1362ff942bc3",
   "metadata": {},
   "source": [
    "### Single Variable"
   ]
  },
  {
   "cell_type": "markdown",
   "id": "b1a87b44-dcd9-478b-8cbf-0349ca2631af",
   "metadata": {},
   "source": [
    "#### Passenger ID"
   ]
  },
  {
   "cell_type": "markdown",
   "id": "552f2cc6-26e4-4ae0-b3db-256322ca71af",
   "metadata": {},
   "source": [
    "Passenger ID doesn't provide any useful insignts into the data so we'll skip this column"
   ]
  },
  {
   "cell_type": "markdown",
   "id": "244224f7-23bf-46ee-9dc8-1f25b74ec560",
   "metadata": {},
   "source": [
    "#### PClass"
   ]
  },
  {
   "cell_type": "markdown",
   "id": "3689b3b0-59c1-4194-849a-d558a418460e",
   "metadata": {},
   "source": [
    "Represents passengers ticket class. We have 3 classes; 1st class, 2nd class and 3rd class. Ticket class also represents the socio-economic class. `1st` = Upper class, `2nd` = middle class and `3rd` = lower class"
   ]
  },
  {
   "cell_type": "code",
   "execution_count": 179,
   "id": "61893fea-c954-4555-ba99-72f8ad923d12",
   "metadata": {},
   "outputs": [
    {
     "data": {
      "text/html": [
       "<div>\n",
       "<style scoped>\n",
       "    .dataframe tbody tr th:only-of-type {\n",
       "        vertical-align: middle;\n",
       "    }\n",
       "\n",
       "    .dataframe tbody tr th {\n",
       "        vertical-align: top;\n",
       "    }\n",
       "\n",
       "    .dataframe thead th {\n",
       "        text-align: right;\n",
       "    }\n",
       "</style>\n",
       "<table border=\"1\" class=\"dataframe\">\n",
       "  <thead>\n",
       "    <tr style=\"text-align: right;\">\n",
       "      <th></th>\n",
       "      <th>counts</th>\n",
       "      <th>frequency</th>\n",
       "      <th>names</th>\n",
       "    </tr>\n",
       "  </thead>\n",
       "  <tbody>\n",
       "    <tr>\n",
       "      <th>1</th>\n",
       "      <td>216</td>\n",
       "      <td>0.242424</td>\n",
       "      <td>1</td>\n",
       "    </tr>\n",
       "    <tr>\n",
       "      <th>2</th>\n",
       "      <td>184</td>\n",
       "      <td>0.206510</td>\n",
       "      <td>2</td>\n",
       "    </tr>\n",
       "    <tr>\n",
       "      <th>3</th>\n",
       "      <td>491</td>\n",
       "      <td>0.551066</td>\n",
       "      <td>3</td>\n",
       "    </tr>\n",
       "  </tbody>\n",
       "</table>\n",
       "</div>"
      ],
      "text/plain": [
       "   counts  frequency  names\n",
       "1     216   0.242424      1\n",
       "2     184   0.206510      2\n",
       "3     491   0.551066      3"
      ]
     },
     "execution_count": 179,
     "metadata": {},
     "output_type": "execute_result"
    }
   ],
   "source": [
    "described = describe_category(train_data[\"pclass\"])\n",
    "described"
   ]
  },
  {
   "cell_type": "code",
   "execution_count": 146,
   "id": "3d33ad19-39d4-42e6-925d-7cd8c684964f",
   "metadata": {},
   "outputs": [
    {
     "data": {
      "text/html": [
       "\n",
       "\n",
       "\n",
       "\n",
       "\n",
       "\n",
       "  <div class=\"bk-root\" id=\"7db02bfa-739e-4a30-811e-dd91dce4092a\" data-root-id=\"30547\"></div>\n"
      ]
     },
     "metadata": {},
     "output_type": "display_data"
    },
    {
     "data": {
      "application/javascript": [
       "(function(root) {\n",
       "  function embed_document(root) {\n",
       "    \n",
       "  const docs_json = {\"adbf206b-305b-416b-8041-e6f7a491cab5\":{\"defs\":[],\"roots\":{\"references\":[{\"attributes\":{\"below\":[{\"id\":\"30558\"}],\"center\":[{\"id\":\"30561\"},{\"id\":\"30565\"}],\"height\":400,\"left\":[{\"id\":\"30562\"}],\"renderers\":[{\"id\":\"30586\"}],\"title\":{\"id\":\"30548\"},\"toolbar\":{\"id\":\"30574\"},\"width\":400,\"x_range\":{\"id\":\"30550\"},\"x_scale\":{\"id\":\"30554\"},\"y_range\":{\"id\":\"30552\"},\"y_scale\":{\"id\":\"30556\"}},\"id\":\"30547\",\"subtype\":\"Figure\",\"type\":\"Plot\"},{\"attributes\":{\"coordinates\":null,\"data_source\":{\"id\":\"30546\"},\"glyph\":{\"id\":\"30583\"},\"group\":null,\"hover_glyph\":null,\"muted_glyph\":{\"id\":\"30585\"},\"nonselection_glyph\":{\"id\":\"30584\"},\"view\":{\"id\":\"30587\"}},\"id\":\"30586\",\"type\":\"GlyphRenderer\"},{\"attributes\":{\"axis\":{\"id\":\"30562\"},\"coordinates\":null,\"dimension\":1,\"group\":null,\"ticker\":null},\"id\":\"30565\",\"type\":\"Grid\"},{\"attributes\":{},\"id\":\"30550\",\"type\":\"DataRange1d\"},{\"attributes\":{},\"id\":\"30566\",\"type\":\"PanTool\"},{\"attributes\":{\"axis\":{\"id\":\"30558\"},\"coordinates\":null,\"group\":null,\"ticker\":null},\"id\":\"30561\",\"type\":\"Grid\"},{\"attributes\":{\"bottom_units\":\"screen\",\"coordinates\":null,\"fill_alpha\":0.5,\"fill_color\":\"lightgrey\",\"group\":null,\"left_units\":\"screen\",\"level\":\"overlay\",\"line_alpha\":1.0,\"line_color\":\"black\",\"line_dash\":[4,4],\"line_width\":2,\"right_units\":\"screen\",\"syncable\":false,\"top_units\":\"screen\"},\"id\":\"30572\",\"type\":\"BoxAnnotation\"},{\"attributes\":{\"data\":{\"counts\":[216,184,491],\"frequency\":{\"__ndarray__\":\"CB988MEHzz+C9PeT527KPx774p5VouE/\",\"dtype\":\"float64\",\"order\":\"little\",\"shape\":[3]},\"index\":[1,2,3],\"names\":[1,2,3]},\"selected\":{\"id\":\"31266\"},\"selection_policy\":{\"id\":\"31265\"}},\"id\":\"30546\",\"type\":\"ColumnDataSource\"},{\"attributes\":{\"coordinates\":null,\"group\":null,\"text\":\"Distribution by Pclass\"},\"id\":\"30548\",\"type\":\"Title\"},{\"attributes\":{\"coordinates\":null,\"formatter\":{\"id\":\"31260\"},\"group\":null,\"major_label_policy\":{\"id\":\"31261\"},\"ticker\":{\"id\":\"30563\"}},\"id\":\"30562\",\"type\":\"LinearAxis\"},{\"attributes\":{},\"id\":\"31260\",\"type\":\"BasicTickFormatter\"},{\"attributes\":{},\"id\":\"31265\",\"type\":\"UnionRenderers\"},{\"attributes\":{\"axis_label\":\"pclass\",\"coordinates\":null,\"formatter\":{\"id\":\"31263\"},\"group\":null,\"major_label_policy\":{\"id\":\"31264\"},\"ticker\":{\"id\":\"30559\"}},\"id\":\"30558\",\"type\":\"LinearAxis\"},{\"attributes\":{},\"id\":\"30569\",\"type\":\"SaveTool\"},{\"attributes\":{},\"id\":\"30567\",\"type\":\"WheelZoomTool\"},{\"attributes\":{},\"id\":\"30554\",\"type\":\"LinearScale\"},{\"attributes\":{\"callback\":null,\"tooltips\":[[\"Value\",\"@names\"],[\"counts\",\"@counts\"],[\"frequency\",\"@frequency{%0.1f}\"]]},\"id\":\"30573\",\"type\":\"HoverTool\"},{\"attributes\":{},\"id\":\"31263\",\"type\":\"BasicTickFormatter\"},{\"attributes\":{},\"id\":\"31266\",\"type\":\"Selection\"},{\"attributes\":{},\"id\":\"30571\",\"type\":\"HelpTool\"},{\"attributes\":{},\"id\":\"31261\",\"type\":\"AllLabels\"},{\"attributes\":{},\"id\":\"30559\",\"type\":\"BasicTicker\"},{\"attributes\":{},\"id\":\"30556\",\"type\":\"LinearScale\"},{\"attributes\":{},\"id\":\"30563\",\"type\":\"BasicTicker\"},{\"attributes\":{\"fill_alpha\":{\"value\":0.1},\"fill_color\":{\"value\":\"#1f77b4\"},\"hatch_alpha\":{\"value\":0.1},\"line_alpha\":{\"value\":0.1},\"line_color\":{\"value\":\"#1f77b4\"},\"top\":{\"field\":\"frequency\"},\"width\":{\"value\":0.6666666666666666},\"x\":{\"field\":\"names\"}},\"id\":\"30584\",\"type\":\"VBar\"},{\"attributes\":{},\"id\":\"31264\",\"type\":\"AllLabels\"},{\"attributes\":{},\"id\":\"30570\",\"type\":\"ResetTool\"},{\"attributes\":{},\"id\":\"30552\",\"type\":\"DataRange1d\"},{\"attributes\":{\"tools\":[{\"id\":\"30566\"},{\"id\":\"30567\"},{\"id\":\"30568\"},{\"id\":\"30569\"},{\"id\":\"30570\"},{\"id\":\"30571\"},{\"id\":\"30573\"}]},\"id\":\"30574\",\"type\":\"Toolbar\"},{\"attributes\":{\"fill_color\":{\"value\":\"#1f77b4\"},\"line_color\":{\"value\":\"#1f77b4\"},\"top\":{\"field\":\"frequency\"},\"width\":{\"value\":0.6666666666666666},\"x\":{\"field\":\"names\"}},\"id\":\"30583\",\"type\":\"VBar\"},{\"attributes\":{\"overlay\":{\"id\":\"30572\"}},\"id\":\"30568\",\"type\":\"BoxZoomTool\"},{\"attributes\":{\"source\":{\"id\":\"30546\"}},\"id\":\"30587\",\"type\":\"CDSView\"},{\"attributes\":{\"fill_alpha\":{\"value\":0.2},\"fill_color\":{\"value\":\"#1f77b4\"},\"hatch_alpha\":{\"value\":0.2},\"line_alpha\":{\"value\":0.2},\"line_color\":{\"value\":\"#1f77b4\"},\"top\":{\"field\":\"frequency\"},\"width\":{\"value\":0.6666666666666666},\"x\":{\"field\":\"names\"}},\"id\":\"30585\",\"type\":\"VBar\"}],\"root_ids\":[\"30547\"]},\"title\":\"Bokeh Application\",\"version\":\"2.4.1\"}};\n",
       "  const render_items = [{\"docid\":\"adbf206b-305b-416b-8041-e6f7a491cab5\",\"root_ids\":[\"30547\"],\"roots\":{\"30547\":\"7db02bfa-739e-4a30-811e-dd91dce4092a\"}}];\n",
       "  root.Bokeh.embed.embed_items_notebook(docs_json, render_items);\n",
       "\n",
       "  }\n",
       "  if (root.Bokeh !== undefined) {\n",
       "    embed_document(root);\n",
       "  } else {\n",
       "    let attempts = 0;\n",
       "    const timer = setInterval(function(root) {\n",
       "      if (root.Bokeh !== undefined) {\n",
       "        clearInterval(timer);\n",
       "        embed_document(root);\n",
       "      } else {\n",
       "        attempts++;\n",
       "        if (attempts > 100) {\n",
       "          clearInterval(timer);\n",
       "          console.log(\"Bokeh: ERROR: Unable to run BokehJS code because BokehJS library is missing\");\n",
       "        }\n",
       "      }\n",
       "    }, 10, root)\n",
       "  }\n",
       "})(window);"
      ],
      "application/vnd.bokehjs_exec.v0+json": ""
     },
     "metadata": {
      "application/vnd.bokehjs_exec.v0+json": {
       "id": "30547"
      }
     },
     "output_type": "display_data"
    }
   ],
   "source": [
    "source = ColumnDataSource(data=described)\n",
    "\n",
    "p = figure(\n",
    "    title = \"Distribution by Pclass\",\n",
    "    plot_width=400,\n",
    "    plot_height=400,\n",
    "    tooltips=[\n",
    "        (\"Value\", \"@names\"),\n",
    "        (\"counts\", \"@counts\"),\n",
    "        (\"frequency\", \"@frequency{%0.1f}\")\n",
    "    ],\n",
    "    x_axis_label=\"pclass\"\n",
    ")\n",
    "width = 1/1.5\n",
    "p.vbar('names', top='frequency', width=width, source=source)\n",
    "show(p)"
   ]
  },
  {
   "cell_type": "markdown",
   "id": "c7178d70-387d-4326-9cde-d0f39fe5b033",
   "metadata": {},
   "source": [
    "#### Sex"
   ]
  },
  {
   "cell_type": "code",
   "execution_count": 156,
   "id": "0dc48454-27c6-4f29-a832-ded5b914a4d6",
   "metadata": {},
   "outputs": [
    {
     "data": {
      "text/html": [
       "<div>\n",
       "<style scoped>\n",
       "    .dataframe tbody tr th:only-of-type {\n",
       "        vertical-align: middle;\n",
       "    }\n",
       "\n",
       "    .dataframe tbody tr th {\n",
       "        vertical-align: top;\n",
       "    }\n",
       "\n",
       "    .dataframe thead th {\n",
       "        text-align: right;\n",
       "    }\n",
       "</style>\n",
       "<table border=\"1\" class=\"dataframe\">\n",
       "  <thead>\n",
       "    <tr style=\"text-align: right;\">\n",
       "      <th></th>\n",
       "      <th>counts</th>\n",
       "      <th>frequency</th>\n",
       "      <th>names</th>\n",
       "    </tr>\n",
       "  </thead>\n",
       "  <tbody>\n",
       "    <tr>\n",
       "      <th>female</th>\n",
       "      <td>314</td>\n",
       "      <td>0.352413</td>\n",
       "      <td>female</td>\n",
       "    </tr>\n",
       "    <tr>\n",
       "      <th>male</th>\n",
       "      <td>577</td>\n",
       "      <td>0.647587</td>\n",
       "      <td>male</td>\n",
       "    </tr>\n",
       "  </tbody>\n",
       "</table>\n",
       "</div>"
      ],
      "text/plain": [
       "        counts  frequency   names\n",
       "female     314   0.352413  female\n",
       "male       577   0.647587    male"
      ]
     },
     "execution_count": 156,
     "metadata": {},
     "output_type": "execute_result"
    }
   ],
   "source": [
    "described = describe_category(train_data[\"sex\"])\n",
    "described"
   ]
  },
  {
   "cell_type": "code",
   "execution_count": 165,
   "id": "65556fe6-4cc6-4a19-8aab-2145502dba85",
   "metadata": {},
   "outputs": [
    {
     "data": {
      "text/html": [
       "\n",
       "\n",
       "\n",
       "\n",
       "\n",
       "\n",
       "  <div class=\"bk-root\" id=\"a1f4ee58-9fc3-46b1-ba06-ef0eb6b48bd7\" data-root-id=\"41400\"></div>\n"
      ]
     },
     "metadata": {},
     "output_type": "display_data"
    },
    {
     "data": {
      "application/javascript": [
       "(function(root) {\n",
       "  function embed_document(root) {\n",
       "    \n",
       "  const docs_json = {\"c9bcb67a-24e1-46a0-b01e-09f0799d888d\":{\"defs\":[],\"roots\":{\"references\":[{\"attributes\":{\"below\":[{\"id\":\"41411\"}],\"center\":[{\"id\":\"41413\"},{\"id\":\"41417\"}],\"height\":400,\"left\":[{\"id\":\"41414\"}],\"renderers\":[{\"id\":\"41438\"}],\"title\":{\"id\":\"41401\"},\"toolbar\":{\"id\":\"41426\"},\"width\":400,\"x_range\":{\"id\":\"41403\"},\"x_scale\":{\"id\":\"41407\"},\"y_range\":{\"id\":\"41405\"},\"y_scale\":{\"id\":\"41409\"}},\"id\":\"41400\",\"subtype\":\"Figure\",\"type\":\"Plot\"},{\"attributes\":{\"coordinates\":null,\"formatter\":{\"id\":\"42242\"},\"group\":null,\"major_label_policy\":{\"id\":\"42243\"},\"ticker\":{\"id\":\"41415\"}},\"id\":\"41414\",\"type\":\"LinearAxis\"},{\"attributes\":{\"overlay\":{\"id\":\"41424\"}},\"id\":\"41420\",\"type\":\"BoxZoomTool\"},{\"attributes\":{},\"id\":\"41422\",\"type\":\"ResetTool\"},{\"attributes\":{},\"id\":\"42243\",\"type\":\"AllLabels\"},{\"attributes\":{\"coordinates\":null,\"group\":null,\"text\":\"Distribution by Sex\"},\"id\":\"41401\",\"type\":\"Title\"},{\"attributes\":{\"factors\":[\"female\",\"male\"]},\"id\":\"41403\",\"type\":\"FactorRange\"},{\"attributes\":{\"fill_alpha\":{\"value\":0.1},\"fill_color\":{\"value\":\"#1f77b4\"},\"hatch_alpha\":{\"value\":0.1},\"line_alpha\":{\"value\":0.1},\"line_color\":{\"value\":\"#1f77b4\"},\"top\":{\"field\":\"frequency\"},\"width\":{\"value\":0.6666666666666666},\"x\":{\"field\":\"names\"}},\"id\":\"41436\",\"type\":\"VBar\"},{\"attributes\":{\"axis_label\":\"sex\",\"coordinates\":null,\"formatter\":{\"id\":\"42245\"},\"group\":null,\"major_label_policy\":{\"id\":\"42246\"},\"ticker\":{\"id\":\"41412\"}},\"id\":\"41411\",\"type\":\"CategoricalAxis\"},{\"attributes\":{\"fill_alpha\":{\"value\":0.2},\"fill_color\":{\"value\":\"#1f77b4\"},\"hatch_alpha\":{\"value\":0.2},\"line_alpha\":{\"value\":0.2},\"line_color\":{\"value\":\"#1f77b4\"},\"top\":{\"field\":\"frequency\"},\"width\":{\"value\":0.6666666666666666},\"x\":{\"field\":\"names\"}},\"id\":\"41437\",\"type\":\"VBar\"},{\"attributes\":{\"tools\":[{\"id\":\"41418\"},{\"id\":\"41419\"},{\"id\":\"41420\"},{\"id\":\"41421\"},{\"id\":\"41422\"},{\"id\":\"41423\"},{\"id\":\"41425\"}]},\"id\":\"41426\",\"type\":\"Toolbar\"},{\"attributes\":{},\"id\":\"42246\",\"type\":\"AllLabels\"},{\"attributes\":{\"source\":{\"id\":\"41399\"}},\"id\":\"41439\",\"type\":\"CDSView\"},{\"attributes\":{},\"id\":\"42247\",\"type\":\"UnionRenderers\"},{\"attributes\":{},\"id\":\"42242\",\"type\":\"BasicTickFormatter\"},{\"attributes\":{},\"id\":\"41418\",\"type\":\"PanTool\"},{\"attributes\":{\"callback\":null,\"tooltips\":[[\"Value\",\"@names\"],[\"counts\",\"@counts\"],[\"frequency\",\"@frequency{%0.1f}\"]]},\"id\":\"41425\",\"type\":\"HoverTool\"},{\"attributes\":{},\"id\":\"41419\",\"type\":\"WheelZoomTool\"},{\"attributes\":{\"axis\":{\"id\":\"41414\"},\"coordinates\":null,\"dimension\":1,\"group\":null,\"ticker\":null},\"id\":\"41417\",\"type\":\"Grid\"},{\"attributes\":{\"data\":{\"counts\":[314,577],\"frequency\":{\"__ndarray__\":\"oXDoVe+N1j+wxwtVCLnkPw==\",\"dtype\":\"float64\",\"order\":\"little\",\"shape\":[2]},\"index\":[\"female\",\"male\"],\"names\":[\"female\",\"male\"]},\"selected\":{\"id\":\"42248\"},\"selection_policy\":{\"id\":\"42247\"}},\"id\":\"41399\",\"type\":\"ColumnDataSource\"},{\"attributes\":{},\"id\":\"41423\",\"type\":\"HelpTool\"},{\"attributes\":{\"axis\":{\"id\":\"41411\"},\"coordinates\":null,\"group\":null,\"ticker\":null},\"id\":\"41413\",\"type\":\"Grid\"},{\"attributes\":{},\"id\":\"41409\",\"type\":\"LinearScale\"},{\"attributes\":{\"fill_color\":{\"value\":\"#1f77b4\"},\"line_color\":{\"value\":\"#1f77b4\"},\"top\":{\"field\":\"frequency\"},\"width\":{\"value\":0.6666666666666666},\"x\":{\"field\":\"names\"}},\"id\":\"41435\",\"type\":\"VBar\"},{\"attributes\":{},\"id\":\"42248\",\"type\":\"Selection\"},{\"attributes\":{},\"id\":\"41407\",\"type\":\"CategoricalScale\"},{\"attributes\":{},\"id\":\"41405\",\"type\":\"DataRange1d\"},{\"attributes\":{},\"id\":\"41421\",\"type\":\"SaveTool\"},{\"attributes\":{},\"id\":\"41415\",\"type\":\"BasicTicker\"},{\"attributes\":{\"coordinates\":null,\"data_source\":{\"id\":\"41399\"},\"glyph\":{\"id\":\"41435\"},\"group\":null,\"hover_glyph\":null,\"muted_glyph\":{\"id\":\"41437\"},\"nonselection_glyph\":{\"id\":\"41436\"},\"view\":{\"id\":\"41439\"}},\"id\":\"41438\",\"type\":\"GlyphRenderer\"},{\"attributes\":{},\"id\":\"41412\",\"type\":\"CategoricalTicker\"},{\"attributes\":{\"bottom_units\":\"screen\",\"coordinates\":null,\"fill_alpha\":0.5,\"fill_color\":\"lightgrey\",\"group\":null,\"left_units\":\"screen\",\"level\":\"overlay\",\"line_alpha\":1.0,\"line_color\":\"black\",\"line_dash\":[4,4],\"line_width\":2,\"right_units\":\"screen\",\"syncable\":false,\"top_units\":\"screen\"},\"id\":\"41424\",\"type\":\"BoxAnnotation\"},{\"attributes\":{},\"id\":\"42245\",\"type\":\"CategoricalTickFormatter\"}],\"root_ids\":[\"41400\"]},\"title\":\"Bokeh Application\",\"version\":\"2.4.1\"}};\n",
       "  const render_items = [{\"docid\":\"c9bcb67a-24e1-46a0-b01e-09f0799d888d\",\"root_ids\":[\"41400\"],\"roots\":{\"41400\":\"a1f4ee58-9fc3-46b1-ba06-ef0eb6b48bd7\"}}];\n",
       "  root.Bokeh.embed.embed_items_notebook(docs_json, render_items);\n",
       "\n",
       "  }\n",
       "  if (root.Bokeh !== undefined) {\n",
       "    embed_document(root);\n",
       "  } else {\n",
       "    let attempts = 0;\n",
       "    const timer = setInterval(function(root) {\n",
       "      if (root.Bokeh !== undefined) {\n",
       "        clearInterval(timer);\n",
       "        embed_document(root);\n",
       "      } else {\n",
       "        attempts++;\n",
       "        if (attempts > 100) {\n",
       "          clearInterval(timer);\n",
       "          console.log(\"Bokeh: ERROR: Unable to run BokehJS code because BokehJS library is missing\");\n",
       "        }\n",
       "      }\n",
       "    }, 10, root)\n",
       "  }\n",
       "})(window);"
      ],
      "application/vnd.bokehjs_exec.v0+json": ""
     },
     "metadata": {
      "application/vnd.bokehjs_exec.v0+json": {
       "id": "41400"
      }
     },
     "output_type": "display_data"
    }
   ],
   "source": [
    "source = ColumnDataSource(data=described)\n",
    "p = figure(\n",
    "    title = \"Distribution by Sex\",\n",
    "    plot_width=400,\n",
    "    plot_height=400,\n",
    "    tooltips=[\n",
    "        (\"Value\", \"@names\"),\n",
    "        (\"counts\", \"@counts\"),\n",
    "        (\"frequency\", \"@frequency{%0.1f}\")\n",
    "    ],\n",
    "    x_axis_label=\"sex\",\n",
    "    x_range=described[\"names\"]\n",
    ")\n",
    "width = 1/1.5\n",
    "p.vbar('names', top='frequency', width=width, source=source)\n",
    "show(p)"
   ]
  },
  {
   "cell_type": "markdown",
   "id": "a665dfe9-5557-4371-ae66-19d8ffa28334",
   "metadata": {},
   "source": [
    "#### Age"
   ]
  },
  {
   "cell_type": "code",
   "execution_count": null,
   "id": "0e53ad74-cf2d-4563-aa66-8db9437d97b5",
   "metadata": {},
   "outputs": [],
   "source": []
  },
  {
   "cell_type": "markdown",
   "id": "64752d5c-9082-45ee-8750-3682f5efb2d9",
   "metadata": {},
   "source": [
    "#### sibsp"
   ]
  },
  {
   "cell_type": "code",
   "execution_count": 174,
   "id": "dd584f06-af08-4aa4-aa09-4b247b8c2519",
   "metadata": {},
   "outputs": [
    {
     "name": "stdout",
     "output_type": "stream",
     "text": [
      "   counts  frequency  names\n",
      "0     608   0.682379      0\n",
      "1     209   0.234568      1\n",
      "2      28   0.031425      2\n",
      "3      16   0.017957      3\n",
      "4      18   0.020202      4\n",
      "5       5   0.005612      5\n",
      "8       7   0.007856      8\n"
     ]
    },
    {
     "data": {
      "text/html": [
       "\n",
       "\n",
       "\n",
       "\n",
       "\n",
       "\n",
       "  <div class=\"bk-root\" id=\"0d18f86f-e8f2-4571-af10-c01beb913158\" data-root-id=\"42305\"></div>\n"
      ]
     },
     "metadata": {},
     "output_type": "display_data"
    },
    {
     "data": {
      "application/javascript": [
       "(function(root) {\n",
       "  function embed_document(root) {\n",
       "    \n",
       "  const docs_json = {\"af530e5b-d3d0-461a-b266-c966221978ee\":{\"defs\":[],\"roots\":{\"references\":[{\"attributes\":{\"below\":[{\"id\":\"42316\"}],\"center\":[{\"id\":\"42319\"},{\"id\":\"42323\"}],\"height\":400,\"left\":[{\"id\":\"42320\"}],\"renderers\":[{\"id\":\"42344\"}],\"title\":{\"id\":\"42306\"},\"toolbar\":{\"id\":\"42332\"},\"width\":400,\"x_range\":{\"id\":\"42308\"},\"x_scale\":{\"id\":\"42312\"},\"y_range\":{\"id\":\"42310\"},\"y_scale\":{\"id\":\"42314\"}},\"id\":\"42305\",\"subtype\":\"Figure\",\"type\":\"Plot\"},{\"attributes\":{},\"id\":\"42328\",\"type\":\"ResetTool\"},{\"attributes\":{},\"id\":\"42314\",\"type\":\"LinearScale\"},{\"attributes\":{\"coordinates\":null,\"data_source\":{\"id\":\"42304\"},\"glyph\":{\"id\":\"42341\"},\"group\":null,\"hover_glyph\":null,\"muted_glyph\":{\"id\":\"42343\"},\"nonselection_glyph\":{\"id\":\"42342\"},\"view\":{\"id\":\"42345\"}},\"id\":\"42344\",\"type\":\"GlyphRenderer\"},{\"attributes\":{\"tools\":[{\"id\":\"42324\"},{\"id\":\"42325\"},{\"id\":\"42326\"},{\"id\":\"42327\"},{\"id\":\"42328\"},{\"id\":\"42329\"},{\"id\":\"42331\"}]},\"id\":\"42332\",\"type\":\"Toolbar\"},{\"attributes\":{\"coordinates\":null,\"formatter\":{\"id\":\"43158\"},\"group\":null,\"major_label_policy\":{\"id\":\"43159\"},\"ticker\":{\"id\":\"42321\"}},\"id\":\"42320\",\"type\":\"LinearAxis\"},{\"attributes\":{},\"id\":\"42327\",\"type\":\"SaveTool\"},{\"attributes\":{\"overlay\":{\"id\":\"42330\"}},\"id\":\"42326\",\"type\":\"BoxZoomTool\"},{\"attributes\":{},\"id\":\"43163\",\"type\":\"UnionRenderers\"},{\"attributes\":{\"source\":{\"id\":\"42304\"}},\"id\":\"42345\",\"type\":\"CDSView\"},{\"attributes\":{},\"id\":\"42317\",\"type\":\"BasicTicker\"},{\"attributes\":{\"axis_label\":\"sibsp\",\"coordinates\":null,\"formatter\":{\"id\":\"43161\"},\"group\":null,\"major_label_policy\":{\"id\":\"43162\"},\"ticker\":{\"id\":\"42317\"}},\"id\":\"42316\",\"type\":\"LinearAxis\"},{\"attributes\":{\"axis\":{\"id\":\"42320\"},\"coordinates\":null,\"dimension\":1,\"group\":null,\"ticker\":null},\"id\":\"42323\",\"type\":\"Grid\"},{\"attributes\":{},\"id\":\"43164\",\"type\":\"Selection\"},{\"attributes\":{\"fill_alpha\":{\"value\":0.1},\"fill_color\":{\"value\":\"#1f77b4\"},\"hatch_alpha\":{\"value\":0.1},\"line_alpha\":{\"value\":0.1},\"line_color\":{\"value\":\"#1f77b4\"},\"top\":{\"field\":\"frequency\"},\"width\":{\"value\":0.6666666666666666},\"x\":{\"field\":\"names\"}},\"id\":\"42342\",\"type\":\"VBar\"},{\"attributes\":{},\"id\":\"42325\",\"type\":\"WheelZoomTool\"},{\"attributes\":{},\"id\":\"42329\",\"type\":\"HelpTool\"},{\"attributes\":{},\"id\":\"42308\",\"type\":\"DataRange1d\"},{\"attributes\":{},\"id\":\"42321\",\"type\":\"BasicTicker\"},{\"attributes\":{},\"id\":\"42324\",\"type\":\"PanTool\"},{\"attributes\":{\"coordinates\":null,\"group\":null,\"text\":\"Distribution by sibsp\"},\"id\":\"42306\",\"type\":\"Title\"},{\"attributes\":{},\"id\":\"43161\",\"type\":\"BasicTickFormatter\"},{\"attributes\":{\"bottom_units\":\"screen\",\"coordinates\":null,\"fill_alpha\":0.5,\"fill_color\":\"lightgrey\",\"group\":null,\"left_units\":\"screen\",\"level\":\"overlay\",\"line_alpha\":1.0,\"line_color\":\"black\",\"line_dash\":[4,4],\"line_width\":2,\"right_units\":\"screen\",\"syncable\":false,\"top_units\":\"screen\"},\"id\":\"42330\",\"type\":\"BoxAnnotation\"},{\"attributes\":{\"fill_color\":{\"value\":\"#1f77b4\"},\"line_color\":{\"value\":\"#1f77b4\"},\"top\":{\"field\":\"frequency\"},\"width\":{\"value\":0.6666666666666666},\"x\":{\"field\":\"names\"}},\"id\":\"42341\",\"type\":\"VBar\"},{\"attributes\":{\"callback\":null,\"tooltips\":[[\"Value\",\"@names\"],[\"counts\",\"@counts\"],[\"frequency\",\"@frequency{%0.1f}\"]]},\"id\":\"42331\",\"type\":\"HoverTool\"},{\"attributes\":{\"data\":{\"counts\":[608,209,28,16,18,5,7],\"frequency\":{\"__ndarray__\":\"/MlzNw3W5T+6NT8sUgbOP9WUzkP8FqA/GKoQcmljkj9bv1Kg1q+UP53UlM5D/HY/1ZTOQ/wWgD8=\",\"dtype\":\"float64\",\"order\":\"little\",\"shape\":[7]},\"index\":[0,1,2,3,4,5,8],\"names\":[0,1,2,3,4,5,8]},\"selected\":{\"id\":\"43164\"},\"selection_policy\":{\"id\":\"43163\"}},\"id\":\"42304\",\"type\":\"ColumnDataSource\"},{\"attributes\":{},\"id\":\"43162\",\"type\":\"AllLabels\"},{\"attributes\":{},\"id\":\"42312\",\"type\":\"LinearScale\"},{\"attributes\":{},\"id\":\"42310\",\"type\":\"DataRange1d\"},{\"attributes\":{\"axis\":{\"id\":\"42316\"},\"coordinates\":null,\"group\":null,\"ticker\":null},\"id\":\"42319\",\"type\":\"Grid\"},{\"attributes\":{},\"id\":\"43159\",\"type\":\"AllLabels\"},{\"attributes\":{\"fill_alpha\":{\"value\":0.2},\"fill_color\":{\"value\":\"#1f77b4\"},\"hatch_alpha\":{\"value\":0.2},\"line_alpha\":{\"value\":0.2},\"line_color\":{\"value\":\"#1f77b4\"},\"top\":{\"field\":\"frequency\"},\"width\":{\"value\":0.6666666666666666},\"x\":{\"field\":\"names\"}},\"id\":\"42343\",\"type\":\"VBar\"},{\"attributes\":{},\"id\":\"43158\",\"type\":\"BasicTickFormatter\"}],\"root_ids\":[\"42305\"]},\"title\":\"Bokeh Application\",\"version\":\"2.4.1\"}};\n",
       "  const render_items = [{\"docid\":\"af530e5b-d3d0-461a-b266-c966221978ee\",\"root_ids\":[\"42305\"],\"roots\":{\"42305\":\"0d18f86f-e8f2-4571-af10-c01beb913158\"}}];\n",
       "  root.Bokeh.embed.embed_items_notebook(docs_json, render_items);\n",
       "\n",
       "  }\n",
       "  if (root.Bokeh !== undefined) {\n",
       "    embed_document(root);\n",
       "  } else {\n",
       "    let attempts = 0;\n",
       "    const timer = setInterval(function(root) {\n",
       "      if (root.Bokeh !== undefined) {\n",
       "        clearInterval(timer);\n",
       "        embed_document(root);\n",
       "      } else {\n",
       "        attempts++;\n",
       "        if (attempts > 100) {\n",
       "          clearInterval(timer);\n",
       "          console.log(\"Bokeh: ERROR: Unable to run BokehJS code because BokehJS library is missing\");\n",
       "        }\n",
       "      }\n",
       "    }, 10, root)\n",
       "  }\n",
       "})(window);"
      ],
      "application/vnd.bokehjs_exec.v0+json": ""
     },
     "metadata": {
      "application/vnd.bokehjs_exec.v0+json": {
       "id": "42305"
      }
     },
     "output_type": "display_data"
    }
   ],
   "source": [
    "plot_bokeh_vbar(train_data, \"sibsp\")"
   ]
  },
  {
   "cell_type": "code",
   "execution_count": 9,
   "id": "9ff3abc8-6d27-4d61-92e6-0fd8048a2185",
   "metadata": {},
   "outputs": [
    {
     "data": {
      "text/plain": [
       "Index(['passengerid', 'survived', 'pclass', 'name', 'sex', 'age', 'sibsp',\n",
       "       'parch', 'ticket', 'fare', 'cabin', 'embarked'],\n",
       "      dtype='object')"
      ]
     },
     "execution_count": 9,
     "metadata": {},
     "output_type": "execute_result"
    }
   ],
   "source": [
    "train_data.columns"
   ]
  },
  {
   "cell_type": "markdown",
   "id": "c3de396c-b157-4031-8f05-d9f2df2ec50a",
   "metadata": {
    "tags": []
   },
   "source": [
    "### Pairwise"
   ]
  },
  {
   "cell_type": "code",
   "execution_count": null,
   "id": "f38d3866-df2a-44a6-9a56-253750cd00bb",
   "metadata": {},
   "outputs": [],
   "source": []
  },
  {
   "cell_type": "code",
   "execution_count": null,
   "id": "ec2251c9-bfcb-4cb3-be3b-657d547ed4ab",
   "metadata": {},
   "outputs": [],
   "source": []
  },
  {
   "cell_type": "code",
   "execution_count": null,
   "id": "1eb2ec14-0a2a-4dc1-8a18-8669cd4d70bf",
   "metadata": {},
   "outputs": [],
   "source": []
  },
  {
   "cell_type": "code",
   "execution_count": null,
   "id": "b392dd47-062f-4ff1-bf14-990f1098e276",
   "metadata": {},
   "outputs": [],
   "source": []
  },
  {
   "cell_type": "markdown",
   "id": "b74d8861-ea35-437b-b7c9-ef0dd60428d8",
   "metadata": {
    "tags": []
   },
   "source": [
    "## Preprocessing"
   ]
  },
  {
   "cell_type": "code",
   "execution_count": null,
   "id": "df7a1cc6-cbd1-49de-8d48-c2386c7e080d",
   "metadata": {},
   "outputs": [],
   "source": []
  },
  {
   "cell_type": "code",
   "execution_count": null,
   "id": "9ccd1888-128f-4e14-849c-c509d88929e5",
   "metadata": {},
   "outputs": [],
   "source": []
  },
  {
   "cell_type": "code",
   "execution_count": null,
   "id": "d16cdec7-077e-4d2a-8b3b-f2e08a979a5f",
   "metadata": {},
   "outputs": [],
   "source": []
  },
  {
   "cell_type": "code",
   "execution_count": null,
   "id": "4cb6f301-bb23-435d-9a33-46709451409d",
   "metadata": {},
   "outputs": [],
   "source": []
  },
  {
   "cell_type": "markdown",
   "id": "21bbd154-e0bb-460d-b6eb-82a729449258",
   "metadata": {
    "tags": []
   },
   "source": [
    "## Modeling"
   ]
  },
  {
   "cell_type": "markdown",
   "id": "894806b3-ee91-45b0-b159-2e298e084a5b",
   "metadata": {},
   "source": [
    "### Logistic Regression"
   ]
  },
  {
   "cell_type": "code",
   "execution_count": null,
   "id": "13aac4ea-f52a-497e-b9e9-c3c7c9217999",
   "metadata": {},
   "outputs": [],
   "source": []
  },
  {
   "cell_type": "markdown",
   "id": "05dcea2a-893d-408e-aec5-2474f28a67a9",
   "metadata": {},
   "source": [
    "### Random Forest"
   ]
  },
  {
   "cell_type": "code",
   "execution_count": null,
   "id": "5da5e178-7838-4bc5-93d6-6f048c69366a",
   "metadata": {},
   "outputs": [],
   "source": []
  },
  {
   "cell_type": "markdown",
   "id": "4dd46f29-1f97-466c-883d-3fcc9cecb57e",
   "metadata": {},
   "source": [
    "### Bayes Classifier"
   ]
  },
  {
   "cell_type": "code",
   "execution_count": null,
   "id": "b30c3149-f817-4bd6-9482-73cb33f5cecf",
   "metadata": {},
   "outputs": [],
   "source": []
  },
  {
   "cell_type": "code",
   "execution_count": null,
   "id": "1df957b1-de3b-4a7f-83a9-b32304b2ca42",
   "metadata": {},
   "outputs": [],
   "source": []
  },
  {
   "cell_type": "markdown",
   "id": "9b94e4ea-30b9-419a-aa99-ebf2514898b7",
   "metadata": {
    "tags": []
   },
   "source": [
    "## Model Evaluation"
   ]
  },
  {
   "cell_type": "code",
   "execution_count": null,
   "id": "a9523672-5666-494d-b726-7559c57ed8bf",
   "metadata": {},
   "outputs": [],
   "source": []
  },
  {
   "cell_type": "code",
   "execution_count": null,
   "id": "47837620-81c3-429f-9dfa-a73b5ca945ab",
   "metadata": {},
   "outputs": [],
   "source": []
  },
  {
   "cell_type": "code",
   "execution_count": null,
   "id": "a0e1a428-f009-41d4-82be-9349a35c4ee3",
   "metadata": {},
   "outputs": [],
   "source": []
  },
  {
   "cell_type": "markdown",
   "id": "e5855a5d-d0a2-4157-93be-f09a06cb8402",
   "metadata": {
    "tags": []
   },
   "source": [
    "## Model Performance"
   ]
  },
  {
   "cell_type": "code",
   "execution_count": null,
   "id": "65423226-d9c2-4643-84f0-99207fd3b60d",
   "metadata": {},
   "outputs": [],
   "source": []
  },
  {
   "cell_type": "code",
   "execution_count": null,
   "id": "74bcfa79-3b1d-4b4c-b3b1-fb6bc65a34b4",
   "metadata": {},
   "outputs": [],
   "source": []
  }
 ],
 "metadata": {
  "kernelspec": {
   "display_name": "Python 3 (ipykernel)",
   "language": "python",
   "name": "python3"
  },
  "language_info": {
   "codemirror_mode": {
    "name": "ipython",
    "version": 3
   },
   "file_extension": ".py",
   "mimetype": "text/x-python",
   "name": "python",
   "nbconvert_exporter": "python",
   "pygments_lexer": "ipython3",
   "version": "3.9.7"
  }
 },
 "nbformat": 4,
 "nbformat_minor": 5
}